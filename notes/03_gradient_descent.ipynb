{
 "cells": [
  {
   "attachments": {},
   "cell_type": "markdown",
   "metadata": {},
   "source": [
    "# Training a Digit Classifier"
   ]
  },
  {
   "attachments": {},
   "cell_type": "markdown",
   "metadata": {},
   "source": [
    "I am going to walk through the book and write every piece of code myself"
   ]
  },
  {
   "attachments": {},
   "cell_type": "markdown",
   "metadata": {},
   "source": []
  },
  {
   "cell_type": "code",
   "execution_count": 2,
   "metadata": {},
   "outputs": [],
   "source": [
    "import fastai.vision.all as vis\n",
    "import matplotlib\n",
    "\n",
    "matplotlib.rc('image', cmap='Greys') # no clue what this does"
   ]
  },
  {
   "cell_type": "code",
   "execution_count": 3,
   "metadata": {},
   "outputs": [
    {
     "data": {
      "text/plain": [
       "'https://s3.amazonaws.com/fast-ai-sample/mnist_sample.tgz'"
      ]
     },
     "execution_count": 3,
     "metadata": {},
     "output_type": "execute_result"
    }
   ],
   "source": [
    "vis.URLs.MNIST_SAMPLE"
   ]
  },
  {
   "cell_type": "code",
   "execution_count": 4,
   "metadata": {},
   "outputs": [],
   "source": [
    "path = vis.untar_data(vis.URLs.MNIST_SAMPLE)"
   ]
  },
  {
   "cell_type": "code",
   "execution_count": 5,
   "metadata": {},
   "outputs": [],
   "source": [
    "vis.Path.BASE_PATH = path # not sure what this does"
   ]
  },
  {
   "cell_type": "code",
   "execution_count": 6,
   "metadata": {},
   "outputs": [
    {
     "data": {
      "text/plain": [
       "(#3) [Path('valid'),Path('labels.csv'),Path('train')]"
      ]
     },
     "execution_count": 6,
     "metadata": {},
     "output_type": "execute_result"
    }
   ],
   "source": [
    "path.ls()"
   ]
  },
  {
   "cell_type": "code",
   "execution_count": 7,
   "metadata": {},
   "outputs": [
    {
     "name": "stdout",
     "output_type": "stream",
     "text": [
      "00_plan_for_course.ipynb   04_nlp.ipynb\n",
      "01_intro.ipynb             test.py\n",
      "03_gradient_descent.ipynb\n"
     ]
    }
   ],
   "source": [
    "%ls"
   ]
  },
  {
   "cell_type": "code",
   "execution_count": 8,
   "metadata": {},
   "outputs": [
    {
     "data": {
      "text/plain": [
       "(#88) [Path('../../../.quokka'),Path('../../../.fastlane'),Path('../../../.sentryclirc'),Path('../../../.config'),Path('../../../Music'),Path('../../../.fig'),Path('../../../.serverlessrc'),Path('../../../.fig.dotfiles.bak'),Path('../../../.yarn'),Path('../../../.expo')...]"
      ]
     },
     "execution_count": 8,
     "metadata": {},
     "output_type": "execute_result"
    }
   ],
   "source": [
    "(path/'../../..').ls()"
   ]
  },
  {
   "cell_type": "code",
   "execution_count": 9,
   "metadata": {},
   "outputs": [],
   "source": [
    "threes = (path/'train'/'3').ls().sorted()\n",
    "sevens = (path/'train'/'7').ls().sorted()"
   ]
  },
  {
   "cell_type": "code",
   "execution_count": 10,
   "metadata": {},
   "outputs": [
    {
     "data": {
      "text/plain": [
       "(#6131) [Path('train/3/10.png'),Path('train/3/10000.png'),Path('train/3/10011.png'),Path('train/3/10031.png'),Path('train/3/10034.png'),Path('train/3/10042.png'),Path('train/3/10052.png'),Path('train/3/1007.png'),Path('train/3/10074.png'),Path('train/3/10091.png')...]"
      ]
     },
     "execution_count": 10,
     "metadata": {},
     "output_type": "execute_result"
    }
   ],
   "source": [
    "threes"
   ]
  },
  {
   "cell_type": "code",
   "execution_count": 11,
   "metadata": {},
   "outputs": [
    {
     "data": {
      "image/png": "[encoded data removed]",
      "text/plain": [
       "<PIL.PngImagePlugin.PngImageFile image mode=L size=28x28>"
      ]
     },
     "execution_count": 11,
     "metadata": {},
     "output_type": "execute_result"
    }
   ],
   "source": [
    "im3_path = threes[1]\n",
    "im3 = vis.Image.open(im3_path)\n",
    "im3"
   ]
  },
  {
   "cell_type": "code",
   "execution_count": 12,
   "metadata": {},
   "outputs": [
    {
     "data": {
      "text/plain": [
       "array([[  0,   0,   0,   0,   0,   0],\n",
       "       [  0,   0,   0,   0,   0,  29],\n",
       "       [  0,   0,   0,  48, 166, 224],\n",
       "       [  0,  93, 244, 249, 253, 187],\n",
       "       [  0, 107, 253, 253, 230,  48],\n",
       "       [  0,   3,  20,  20,  15,   0]], dtype=uint8)"
      ]
     },
     "execution_count": 12,
     "metadata": {},
     "output_type": "execute_result"
    }
   ],
   "source": [
    "import numpy as np\n",
    "\n",
    "np.array(im3)[4:10,4:10]"
   ]
  },
  {
   "cell_type": "code",
   "execution_count": 13,
   "metadata": {},
   "outputs": [
    {
     "data": {
      "text/plain": [
       "tensor([[  0,   0,   0,   0,   0,   0],\n",
       "        [  0,   0,   0,   0,   0,  29],\n",
       "        [  0,   0,   0,  48, 166, 224],\n",
       "        [  0,  93, 244, 249, 253, 187],\n",
       "        [  0, 107, 253, 253, 230,  48],\n",
       "        [  0,   3,  20,  20,  15,   0]], dtype=torch.uint8)"
      ]
     },
     "execution_count": 13,
     "metadata": {},
     "output_type": "execute_result"
    }
   ],
   "source": [
    "import fastbook\n",
    "fastbook.setup_book()\n",
    "from fastai.vision.all import *\n",
    "from fastbook import *\n",
    "\n",
    "tensor(im3)[4:10,4:10]"
   ]
  },
  {
   "cell_type": "code",
   "execution_count": 14,
   "metadata": {},
   "outputs": [],
   "source": [
    "im3_t = tensor(im3)"
   ]
  },
  {
   "cell_type": "code",
   "execution_count": 15,
   "metadata": {},
   "outputs": [
    {
     "data": {
      "text/html": [
       "<style type=\"text/css\">\n",
       "#T_be0e1_row0_col0, #T_be0e1_row0_col1, #T_be0e1_row0_col2, #T_be0e1_row0_col3, #T_be0e1_row0_col4, #T_be0e1_row0_col5, #T_be0e1_row0_col6, #T_be0e1_row0_col7, #T_be0e1_row0_col8, #T_be0e1_row0_col9, #T_be0e1_row0_col10, #T_be0e1_row0_col11, #T_be0e1_row0_col12, #T_be0e1_row0_col13, #T_be0e1_row0_col14, #T_be0e1_row0_col15, #T_be0e1_row0_col16, #T_be0e1_row0_col17, #T_be0e1_row0_col18, #T_be0e1_row0_col19, #T_be0e1_row0_col20, #T_be0e1_row0_col21, #T_be0e1_row0_col22, #T_be0e1_row0_col23, #T_be0e1_row0_col24, #T_be0e1_row0_col25, #T_be0e1_row0_col26, #T_be0e1_row0_col27, #T_be0e1_row1_col0, #T_be0e1_row1_col1, #T_be0e1_row1_col2, #T_be0e1_row1_col3, #T_be0e1_row1_col4, #T_be0e1_row1_col5, #T_be0e1_row1_col6, #T_be0e1_row1_col7, #T_be0e1_row1_col8, #T_be0e1_row1_col9, #T_be0e1_row1_col10, #T_be0e1_row1_col11, #T_be0e1_row1_col12, #T_be0e1_row1_col13, #T_be0e1_row1_col14, #T_be0e1_row1_col15, #T_be0e1_row1_col16, #T_be0e1_row1_col17, #T_be0e1_row1_col18, #T_be0e1_row1_col19, #T_be0e1_row1_col20, #T_be0e1_row1_col21, #T_be0e1_row1_col22, #T_be0e1_row1_col23, #T_be0e1_row1_col24, #T_be0e1_row1_col25, #T_be0e1_row1_col26, #T_be0e1_row1_col27, #T_be0e1_row2_col0, #T_be0e1_row2_col1, #T_be0e1_row2_col2, #T_be0e1_row2_col3, #T_be0e1_row2_col4, #T_be0e1_row2_col5, #T_be0e1_row2_col6, #T_be0e1_row2_col7, #T_be0e1_row2_col8, #T_be0e1_row2_col9, #T_be0e1_row2_col10, #T_be0e1_row2_col11, #T_be0e1_row2_col12, #T_be0e1_row2_col13, #T_be0e1_row2_col14, #T_be0e1_row2_col15, #T_be0e1_row2_col16, #T_be0e1_row2_col17, #T_be0e1_row2_col18, #T_be0e1_row2_col19, #T_be0e1_row2_col20, #T_be0e1_row2_col21, #T_be0e1_row2_col22, #T_be0e1_row2_col23, #T_be0e1_row2_col24, #T_be0e1_row2_col25, #T_be0e1_row2_col26, #T_be0e1_row2_col27, #T_be0e1_row3_col0, #T_be0e1_row3_col1, #T_be0e1_row3_col2, #T_be0e1_row3_col3, #T_be0e1_row3_col4, #T_be0e1_row3_col5, #T_be0e1_row3_col6, #T_be0e1_row3_col7, #T_be0e1_row3_col8, #T_be0e1_row3_col9, #T_be0e1_row3_col10, #T_be0e1_row3_col11, #T_be0e1_row3_col12, #T_be0e1_row3_col13, #T_be0e1_row3_col14, #T_be0e1_row3_col15, #T_be0e1_row3_col16, #T_be0e1_row3_col17, #T_be0e1_row3_col18, #T_be0e1_row3_col19, #T_be0e1_row3_col20, #T_be0e1_row3_col21, #T_be0e1_row3_col22, #T_be0e1_row3_col23, #T_be0e1_row3_col24, #T_be0e1_row3_col25, #T_be0e1_row3_col26, #T_be0e1_row3_col27, #T_be0e1_row4_col0, #T_be0e1_row4_col1, #T_be0e1_row4_col2, #T_be0e1_row4_col3, #T_be0e1_row4_col4, #T_be0e1_row4_col5, #T_be0e1_row4_col6, #T_be0e1_row4_col7, #T_be0e1_row4_col8, #T_be0e1_row4_col9, #T_be0e1_row4_col10, #T_be0e1_row4_col11, #T_be0e1_row4_col12, #T_be0e1_row4_col13, #T_be0e1_row4_col14, #T_be0e1_row4_col15, #T_be0e1_row4_col16, #T_be0e1_row4_col17, #T_be0e1_row4_col18, #T_be0e1_row4_col19, #T_be0e1_row4_col20, #T_be0e1_row4_col21, #T_be0e1_row4_col22, #T_be0e1_row4_col23, #T_be0e1_row4_col24, #T_be0e1_row4_col25, #T_be0e1_row4_col26, #T_be0e1_row4_col27, #T_be0e1_row5_col0, #T_be0e1_row5_col1, #T_be0e1_row5_col2, #T_be0e1_row5_col3, #T_be0e1_row5_col4, #T_be0e1_row5_col5, #T_be0e1_row5_col6, #T_be0e1_row5_col7, #T_be0e1_row5_col8, #T_be0e1_row5_col19, #T_be0e1_row5_col20, #T_be0e1_row5_col21, #T_be0e1_row5_col22, #T_be0e1_row5_col23, #T_be0e1_row5_col24, #T_be0e1_row5_col25, #T_be0e1_row5_col26, #T_be0e1_row5_col27, #T_be0e1_row6_col0, #T_be0e1_row6_col1, #T_be0e1_row6_col2, #T_be0e1_row6_col3, #T_be0e1_row6_col4, #T_be0e1_row6_col5, #T_be0e1_row6_col6, #T_be0e1_row6_col19, #T_be0e1_row6_col20, #T_be0e1_row6_col21, #T_be0e1_row6_col22, #T_be0e1_row6_col23, #T_be0e1_row6_col24, #T_be0e1_row6_col25, #T_be0e1_row6_col26, #T_be0e1_row6_col27, #T_be0e1_row7_col0, #T_be0e1_row7_col1, #T_be0e1_row7_col2, #T_be0e1_row7_col3, #T_be0e1_row7_col4, #T_be0e1_row7_col19, #T_be0e1_row7_col20, #T_be0e1_row7_col21, #T_be0e1_row7_col22, #T_be0e1_row7_col23, #T_be0e1_row7_col24, #T_be0e1_row7_col25, #T_be0e1_row7_col26, #T_be0e1_row7_col27, #T_be0e1_row8_col0, #T_be0e1_row8_col1, #T_be0e1_row8_col2, #T_be0e1_row8_col3, #T_be0e1_row8_col4, #T_be0e1_row8_col10, #T_be0e1_row8_col11, #T_be0e1_row8_col12, #T_be0e1_row8_col13, #T_be0e1_row8_col14, #T_be0e1_row8_col19, #T_be0e1_row8_col20, #T_be0e1_row8_col21, #T_be0e1_row8_col22, #T_be0e1_row8_col23, #T_be0e1_row8_col24, #T_be0e1_row8_col25, #T_be0e1_row8_col26, #T_be0e1_row8_col27, #T_be0e1_row9_col0, #T_be0e1_row9_col1, #T_be0e1_row9_col2, #T_be0e1_row9_col3, #T_be0e1_row9_col4, #T_be0e1_row9_col9, #T_be0e1_row9_col10, #T_be0e1_row9_col11, #T_be0e1_row9_col12, #T_be0e1_row9_col13, #T_be0e1_row9_col19, #T_be0e1_row9_col20, #T_be0e1_row9_col21, #T_be0e1_row9_col22, #T_be0e1_row9_col23, #T_be0e1_row9_col24, #T_be0e1_row9_col25, #T_be0e1_row9_col26, #T_be0e1_row9_col27, #T_be0e1_row10_col0, #T_be0e1_row10_col1, #T_be0e1_row10_col2, #T_be0e1_row10_col3, #T_be0e1_row10_col4, #T_be0e1_row10_col5, #T_be0e1_row10_col6, #T_be0e1_row10_col7, #T_be0e1_row10_col8, #T_be0e1_row10_col9, #T_be0e1_row10_col10, #T_be0e1_row10_col11, #T_be0e1_row10_col12, #T_be0e1_row10_col13, #T_be0e1_row10_col18, #T_be0e1_row10_col19, #T_be0e1_row10_col20, #T_be0e1_row10_col21, #T_be0e1_row10_col22, #T_be0e1_row10_col23, #T_be0e1_row10_col24, #T_be0e1_row10_col25, #T_be0e1_row10_col26, #T_be0e1_row10_col27, #T_be0e1_row11_col0, #T_be0e1_row11_col1, #T_be0e1_row11_col2, #T_be0e1_row11_col3, #T_be0e1_row11_col4, #T_be0e1_row11_col5, #T_be0e1_row11_col6, #T_be0e1_row11_col7, #T_be0e1_row11_col8, #T_be0e1_row11_col9, #T_be0e1_row11_col10, #T_be0e1_row11_col17, #T_be0e1_row11_col18, #T_be0e1_row11_col19, #T_be0e1_row11_col20, #T_be0e1_row11_col21, #T_be0e1_row11_col22, #T_be0e1_row11_col23, #T_be0e1_row11_col24, #T_be0e1_row11_col25, #T_be0e1_row11_col26, #T_be0e1_row11_col27, #T_be0e1_row12_col0, #T_be0e1_row12_col1, #T_be0e1_row12_col2, #T_be0e1_row12_col3, #T_be0e1_row12_col4, #T_be0e1_row12_col5, #T_be0e1_row12_col6, #T_be0e1_row12_col7, #T_be0e1_row12_col8, #T_be0e1_row12_col17, #T_be0e1_row12_col18, #T_be0e1_row12_col19, #T_be0e1_row12_col20, #T_be0e1_row12_col21, #T_be0e1_row12_col22, #T_be0e1_row12_col23, #T_be0e1_row12_col24, #T_be0e1_row12_col25, #T_be0e1_row12_col26, #T_be0e1_row12_col27, #T_be0e1_row13_col0, #T_be0e1_row13_col1, #T_be0e1_row13_col2, #T_be0e1_row13_col3, #T_be0e1_row13_col4, #T_be0e1_row13_col5, #T_be0e1_row13_col6, #T_be0e1_row13_col7, #T_be0e1_row13_col8, #T_be0e1_row13_col20, #T_be0e1_row13_col21, #T_be0e1_row13_col22, #T_be0e1_row13_col23, #T_be0e1_row13_col24, #T_be0e1_row13_col25, #T_be0e1_row13_col26, #T_be0e1_row13_col27, #T_be0e1_row14_col0, #T_be0e1_row14_col1, #T_be0e1_row14_col2, #T_be0e1_row14_col3, #T_be0e1_row14_col4, #T_be0e1_row14_col5, #T_be0e1_row14_col6, #T_be0e1_row14_col7, #T_be0e1_row14_col8, #T_be0e1_row14_col9, #T_be0e1_row14_col10, #T_be0e1_row14_col21, #T_be0e1_row14_col22, #T_be0e1_row14_col23, #T_be0e1_row14_col24, #T_be0e1_row14_col25, #T_be0e1_row14_col26, #T_be0e1_row14_col27, #T_be0e1_row15_col0, #T_be0e1_row15_col1, #T_be0e1_row15_col2, #T_be0e1_row15_col3, #T_be0e1_row15_col4, #T_be0e1_row15_col5, #T_be0e1_row15_col6, #T_be0e1_row15_col7, #T_be0e1_row15_col8, #T_be0e1_row15_col9, #T_be0e1_row15_col10, #T_be0e1_row15_col11, #T_be0e1_row15_col12, #T_be0e1_row15_col13, #T_be0e1_row15_col21, #T_be0e1_row15_col22, #T_be0e1_row15_col23, #T_be0e1_row15_col24, #T_be0e1_row15_col25, #T_be0e1_row15_col26, #T_be0e1_row15_col27, #T_be0e1_row16_col0, #T_be0e1_row16_col1, #T_be0e1_row16_col2, #T_be0e1_row16_col3, #T_be0e1_row16_col4, #T_be0e1_row16_col5, #T_be0e1_row16_col6, #T_be0e1_row16_col7, #T_be0e1_row16_col8, #T_be0e1_row16_col9, #T_be0e1_row16_col10, #T_be0e1_row16_col11, #T_be0e1_row16_col12, #T_be0e1_row16_col13, #T_be0e1_row16_col14, #T_be0e1_row16_col15, #T_be0e1_row16_col16, #T_be0e1_row16_col21, #T_be0e1_row16_col22, #T_be0e1_row16_col23, #T_be0e1_row16_col24, #T_be0e1_row16_col25, #T_be0e1_row16_col26, #T_be0e1_row16_col27, #T_be0e1_row17_col0, #T_be0e1_row17_col1, #T_be0e1_row17_col2, #T_be0e1_row17_col3, #T_be0e1_row17_col4, #T_be0e1_row17_col5, #T_be0e1_row17_col6, #T_be0e1_row17_col7, #T_be0e1_row17_col8, #T_be0e1_row17_col9, #T_be0e1_row17_col10, #T_be0e1_row17_col11, #T_be0e1_row17_col12, #T_be0e1_row17_col13, #T_be0e1_row17_col14, #T_be0e1_row17_col15, #T_be0e1_row17_col16, #T_be0e1_row17_col21, #T_be0e1_row17_col22, #T_be0e1_row17_col23, #T_be0e1_row17_col24, #T_be0e1_row17_col25, #T_be0e1_row17_col26, #T_be0e1_row17_col27, #T_be0e1_row18_col0, #T_be0e1_row18_col1, #T_be0e1_row18_col2, #T_be0e1_row18_col3, #T_be0e1_row18_col4, #T_be0e1_row18_col5, #T_be0e1_row18_col6, #T_be0e1_row18_col7, #T_be0e1_row18_col8, #T_be0e1_row18_col9, #T_be0e1_row18_col10, #T_be0e1_row18_col11, #T_be0e1_row18_col12, #T_be0e1_row18_col13, #T_be0e1_row18_col14, #T_be0e1_row18_col15, #T_be0e1_row18_col21, #T_be0e1_row18_col22, #T_be0e1_row18_col23, #T_be0e1_row18_col24, #T_be0e1_row18_col25, #T_be0e1_row18_col26, #T_be0e1_row18_col27, #T_be0e1_row19_col0, #T_be0e1_row19_col1, #T_be0e1_row19_col2, #T_be0e1_row19_col3, #T_be0e1_row19_col4, #T_be0e1_row19_col5, #T_be0e1_row19_col6, #T_be0e1_row19_col7, #T_be0e1_row19_col8, #T_be0e1_row19_col9, #T_be0e1_row19_col10, #T_be0e1_row19_col11, #T_be0e1_row19_col12, #T_be0e1_row19_col13, #T_be0e1_row19_col14, #T_be0e1_row19_col21, #T_be0e1_row19_col22, #T_be0e1_row19_col23, #T_be0e1_row19_col24, #T_be0e1_row19_col25, #T_be0e1_row19_col26, #T_be0e1_row19_col27, #T_be0e1_row20_col0, #T_be0e1_row20_col1, #T_be0e1_row20_col2, #T_be0e1_row20_col3, #T_be0e1_row20_col4, #T_be0e1_row20_col5, #T_be0e1_row20_col6, #T_be0e1_row20_col7, #T_be0e1_row20_col8, #T_be0e1_row20_col9, #T_be0e1_row20_col10, #T_be0e1_row20_col11, #T_be0e1_row20_col12, #T_be0e1_row20_col13, #T_be0e1_row20_col20, #T_be0e1_row20_col21, #T_be0e1_row20_col22, #T_be0e1_row20_col23, #T_be0e1_row20_col24, #T_be0e1_row20_col25, #T_be0e1_row20_col26, #T_be0e1_row20_col27, #T_be0e1_row21_col0, #T_be0e1_row21_col1, #T_be0e1_row21_col2, #T_be0e1_row21_col3, #T_be0e1_row21_col4, #T_be0e1_row21_col5, #T_be0e1_row21_col6, #T_be0e1_row21_col7, #T_be0e1_row21_col8, #T_be0e1_row21_col9, #T_be0e1_row21_col10, #T_be0e1_row21_col11, #T_be0e1_row21_col19, #T_be0e1_row21_col20, #T_be0e1_row21_col21, #T_be0e1_row21_col22, #T_be0e1_row21_col23, #T_be0e1_row21_col24, #T_be0e1_row21_col25, #T_be0e1_row21_col26, #T_be0e1_row21_col27, #T_be0e1_row22_col0, #T_be0e1_row22_col1, #T_be0e1_row22_col2, #T_be0e1_row22_col3, #T_be0e1_row22_col4, #T_be0e1_row22_col5, #T_be0e1_row22_col18, #T_be0e1_row22_col19, #T_be0e1_row22_col20, #T_be0e1_row22_col21, #T_be0e1_row22_col22, #T_be0e1_row22_col23, #T_be0e1_row22_col24, #T_be0e1_row22_col25, #T_be0e1_row22_col26, #T_be0e1_row22_col27, #T_be0e1_row23_col0, #T_be0e1_row23_col1, #T_be0e1_row23_col2, #T_be0e1_row23_col3, #T_be0e1_row23_col4, #T_be0e1_row23_col5, #T_be0e1_row23_col16, #T_be0e1_row23_col17, #T_be0e1_row23_col18, #T_be0e1_row23_col19, #T_be0e1_row23_col20, #T_be0e1_row23_col21, #T_be0e1_row23_col22, #T_be0e1_row23_col23, #T_be0e1_row23_col24, #T_be0e1_row23_col25, #T_be0e1_row23_col26, #T_be0e1_row23_col27, #T_be0e1_row24_col0, #T_be0e1_row24_col1, #T_be0e1_row24_col2, #T_be0e1_row24_col3, #T_be0e1_row24_col4, #T_be0e1_row24_col5, #T_be0e1_row24_col14, #T_be0e1_row24_col15, #T_be0e1_row24_col16, #T_be0e1_row24_col17, #T_be0e1_row24_col18, #T_be0e1_row24_col19, #T_be0e1_row24_col20, #T_be0e1_row24_col21, #T_be0e1_row24_col22, #T_be0e1_row24_col23, #T_be0e1_row24_col24, #T_be0e1_row24_col25, #T_be0e1_row24_col26, #T_be0e1_row24_col27, #T_be0e1_row25_col0, #T_be0e1_row25_col1, #T_be0e1_row25_col2, #T_be0e1_row25_col3, #T_be0e1_row25_col4, #T_be0e1_row25_col5, #T_be0e1_row25_col6, #T_be0e1_row25_col7, #T_be0e1_row25_col8, #T_be0e1_row25_col9, #T_be0e1_row25_col10, #T_be0e1_row25_col11, #T_be0e1_row25_col12, #T_be0e1_row25_col13, #T_be0e1_row25_col14, #T_be0e1_row25_col15, #T_be0e1_row25_col16, #T_be0e1_row25_col17, #T_be0e1_row25_col18, #T_be0e1_row25_col19, #T_be0e1_row25_col20, #T_be0e1_row25_col21, #T_be0e1_row25_col22, #T_be0e1_row25_col23, #T_be0e1_row25_col24, #T_be0e1_row25_col25, #T_be0e1_row25_col26, #T_be0e1_row25_col27, #T_be0e1_row26_col0, #T_be0e1_row26_col1, #T_be0e1_row26_col2, #T_be0e1_row26_col3, #T_be0e1_row26_col4, #T_be0e1_row26_col5, #T_be0e1_row26_col6, #T_be0e1_row26_col7, #T_be0e1_row26_col8, #T_be0e1_row26_col9, #T_be0e1_row26_col10, #T_be0e1_row26_col11, #T_be0e1_row26_col12, #T_be0e1_row26_col13, #T_be0e1_row26_col14, #T_be0e1_row26_col15, #T_be0e1_row26_col16, #T_be0e1_row26_col17, #T_be0e1_row26_col18, #T_be0e1_row26_col19, #T_be0e1_row26_col20, #T_be0e1_row26_col21, #T_be0e1_row26_col22, #T_be0e1_row26_col23, #T_be0e1_row26_col24, #T_be0e1_row26_col25, #T_be0e1_row26_col26, #T_be0e1_row26_col27, #T_be0e1_row27_col0, #T_be0e1_row27_col1, #T_be0e1_row27_col2, #T_be0e1_row27_col3, #T_be0e1_row27_col4, #T_be0e1_row27_col5, #T_be0e1_row27_col6, #T_be0e1_row27_col7, #T_be0e1_row27_col8, #T_be0e1_row27_col9, #T_be0e1_row27_col10, #T_be0e1_row27_col11, #T_be0e1_row27_col12, #T_be0e1_row27_col13, #T_be0e1_row27_col14, #T_be0e1_row27_col15, #T_be0e1_row27_col16, #T_be0e1_row27_col17, #T_be0e1_row27_col18, #T_be0e1_row27_col19, #T_be0e1_row27_col20, #T_be0e1_row27_col21, #T_be0e1_row27_col22, #T_be0e1_row27_col23, #T_be0e1_row27_col24, #T_be0e1_row27_col25, #T_be0e1_row27_col26, #T_be0e1_row27_col27 {\n",
       "  font-size: 6pt;\n",
       "  background-color: #ffffff;\n",
       "  color: #000000;\n",
       "}\n",
       "#T_be0e1_row5_col9, #T_be0e1_row12_col16 {\n",
       "  font-size: 6pt;\n",
       "  background-color: #f1f1f1;\n",
       "  color: #000000;\n",
       "}\n",
       "#T_be0e1_row5_col10, #T_be0e1_row5_col17 {\n",
       "  font-size: 6pt;\n",
       "  background-color: #7c7c7c;\n",
       "  color: #f1f1f1;\n",
       "}\n",
       "#T_be0e1_row5_col11 {\n",
       "  font-size: 6pt;\n",
       "  background-color: #4a4a4a;\n",
       "  color: #f1f1f1;\n",
       "}\n",
       "#T_be0e1_row5_col12, #T_be0e1_row5_col13, #T_be0e1_row5_col14, #T_be0e1_row6_col10, #T_be0e1_row6_col11, #T_be0e1_row6_col15, #T_be0e1_row6_col16, #T_be0e1_row6_col17, #T_be0e1_row7_col8, #T_be0e1_row7_col16, #T_be0e1_row7_col17, #T_be0e1_row8_col5, #T_be0e1_row8_col6, #T_be0e1_row8_col7, #T_be0e1_row8_col16, #T_be0e1_row8_col17, #T_be0e1_row9_col16, #T_be0e1_row10_col15, #T_be0e1_row13_col15, #T_be0e1_row14_col15, #T_be0e1_row14_col16, #T_be0e1_row14_col17, #T_be0e1_row14_col18, #T_be0e1_row15_col17, #T_be0e1_row15_col18, #T_be0e1_row15_col19, #T_be0e1_row16_col18, #T_be0e1_row16_col19, #T_be0e1_row16_col20, #T_be0e1_row17_col18, #T_be0e1_row17_col19, #T_be0e1_row18_col18, #T_be0e1_row18_col19, #T_be0e1_row19_col17, #T_be0e1_row19_col18, #T_be0e1_row20_col16, #T_be0e1_row20_col17, #T_be0e1_row21_col15, #T_be0e1_row21_col16, #T_be0e1_row23_col7, #T_be0e1_row23_col8, #T_be0e1_row23_col9, #T_be0e1_row23_col10, #T_be0e1_row23_col11, #T_be0e1_row24_col7, #T_be0e1_row24_col8, #T_be0e1_row24_col9, #T_be0e1_row24_col10, #T_be0e1_row24_col11 {\n",
       "  font-size: 6pt;\n",
       "  background-color: #000000;\n",
       "  color: #f1f1f1;\n",
       "}\n",
       "#T_be0e1_row5_col15 {\n",
       "  font-size: 6pt;\n",
       "  background-color: #606060;\n",
       "  color: #f1f1f1;\n",
       "}\n",
       "#T_be0e1_row5_col16 {\n",
       "  font-size: 6pt;\n",
       "  background-color: #4d4d4d;\n",
       "  color: #f1f1f1;\n",
       "}\n",
       "#T_be0e1_row5_col18 {\n",
       "  font-size: 6pt;\n",
       "  background-color: #bbbbbb;\n",
       "  color: #000000;\n",
       "}\n",
       "#T_be0e1_row6_col7, #T_be0e1_row8_col9 {\n",
       "  font-size: 6pt;\n",
       "  background-color: #e4e4e4;\n",
       "  color: #000000;\n",
       "}\n",
       "#T_be0e1_row6_col8, #T_be0e1_row12_col10 {\n",
       "  font-size: 6pt;\n",
       "  background-color: #6b6b6b;\n",
       "  color: #f1f1f1;\n",
       "}\n",
       "#T_be0e1_row6_col9, #T_be0e1_row9_col15 {\n",
       "  font-size: 6pt;\n",
       "  background-color: #222222;\n",
       "  color: #f1f1f1;\n",
       "}\n",
       "#T_be0e1_row6_col12, #T_be0e1_row6_col18, #T_be0e1_row7_col18, #T_be0e1_row21_col17 {\n",
       "  font-size: 6pt;\n",
       "  background-color: #171717;\n",
       "  color: #f1f1f1;\n",
       "}\n",
       "#T_be0e1_row6_col13, #T_be0e1_row7_col15 {\n",
       "  font-size: 6pt;\n",
       "  background-color: #4b4b4b;\n",
       "  color: #f1f1f1;\n",
       "}\n",
       "#T_be0e1_row6_col14, #T_be0e1_row11_col14, #T_be0e1_row12_col12, #T_be0e1_row12_col14, #T_be0e1_row13_col12, #T_be0e1_row13_col14, #T_be0e1_row22_col14, #T_be0e1_row23_col12 {\n",
       "  font-size: 6pt;\n",
       "  background-color: #010101;\n",
       "  color: #f1f1f1;\n",
       "}\n",
       "#T_be0e1_row7_col5 {\n",
       "  font-size: 6pt;\n",
       "  background-color: #272727;\n",
       "  color: #f1f1f1;\n",
       "}\n",
       "#T_be0e1_row7_col6 {\n",
       "  font-size: 6pt;\n",
       "  background-color: #0a0a0a;\n",
       "  color: #f1f1f1;\n",
       "}\n",
       "#T_be0e1_row7_col7, #T_be0e1_row18_col17 {\n",
       "  font-size: 6pt;\n",
       "  background-color: #050505;\n",
       "  color: #f1f1f1;\n",
       "}\n",
       "#T_be0e1_row7_col9, #T_be0e1_row12_col15, #T_be0e1_row14_col19, #T_be0e1_row23_col6 {\n",
       "  font-size: 6pt;\n",
       "  background-color: #545454;\n",
       "  color: #f1f1f1;\n",
       "}\n",
       "#T_be0e1_row7_col10 {\n",
       "  font-size: 6pt;\n",
       "  background-color: #e6e6e6;\n",
       "  color: #000000;\n",
       "}\n",
       "#T_be0e1_row7_col11, #T_be0e1_row7_col14, #T_be0e1_row12_col9 {\n",
       "  font-size: 6pt;\n",
       "  background-color: #fafafa;\n",
       "  color: #000000;\n",
       "}\n",
       "#T_be0e1_row7_col12, #T_be0e1_row15_col14, #T_be0e1_row20_col19 {\n",
       "  font-size: 6pt;\n",
       "  background-color: #fbfbfb;\n",
       "  color: #000000;\n",
       "}\n",
       "#T_be0e1_row7_col13 {\n",
       "  font-size: 6pt;\n",
       "  background-color: #fdfdfd;\n",
       "  color: #000000;\n",
       "}\n",
       "#T_be0e1_row8_col8 {\n",
       "  font-size: 6pt;\n",
       "  background-color: #1b1b1b;\n",
       "  color: #f1f1f1;\n",
       "}\n",
       "#T_be0e1_row8_col15 {\n",
       "  font-size: 6pt;\n",
       "  background-color: #4e4e4e;\n",
       "  color: #f1f1f1;\n",
       "}\n",
       "#T_be0e1_row8_col18 {\n",
       "  font-size: 6pt;\n",
       "  background-color: #767676;\n",
       "  color: #f1f1f1;\n",
       "}\n",
       "#T_be0e1_row9_col5 {\n",
       "  font-size: 6pt;\n",
       "  background-color: #fcfcfc;\n",
       "  color: #000000;\n",
       "}\n",
       "#T_be0e1_row9_col6, #T_be0e1_row9_col7, #T_be0e1_row19_col20 {\n",
       "  font-size: 6pt;\n",
       "  background-color: #f6f6f6;\n",
       "  color: #000000;\n",
       "}\n",
       "#T_be0e1_row9_col8, #T_be0e1_row11_col11 {\n",
       "  font-size: 6pt;\n",
       "  background-color: #f8f8f8;\n",
       "  color: #000000;\n",
       "}\n",
       "#T_be0e1_row9_col14, #T_be0e1_row14_col11 {\n",
       "  font-size: 6pt;\n",
       "  background-color: #e8e8e8;\n",
       "  color: #000000;\n",
       "}\n",
       "#T_be0e1_row9_col17, #T_be0e1_row10_col16 {\n",
       "  font-size: 6pt;\n",
       "  background-color: #090909;\n",
       "  color: #f1f1f1;\n",
       "}\n",
       "#T_be0e1_row9_col18 {\n",
       "  font-size: 6pt;\n",
       "  background-color: #d0d0d0;\n",
       "  color: #000000;\n",
       "}\n",
       "#T_be0e1_row10_col14, #T_be0e1_row11_col15, #T_be0e1_row13_col10 {\n",
       "  font-size: 6pt;\n",
       "  background-color: #060606;\n",
       "  color: #f1f1f1;\n",
       "}\n",
       "#T_be0e1_row10_col17 {\n",
       "  font-size: 6pt;\n",
       "  background-color: #979797;\n",
       "  color: #f1f1f1;\n",
       "}\n",
       "#T_be0e1_row11_col12 {\n",
       "  font-size: 6pt;\n",
       "  background-color: #b6b6b6;\n",
       "  color: #000000;\n",
       "}\n",
       "#T_be0e1_row11_col13 {\n",
       "  font-size: 6pt;\n",
       "  background-color: #252525;\n",
       "  color: #f1f1f1;\n",
       "}\n",
       "#T_be0e1_row11_col16 {\n",
       "  font-size: 6pt;\n",
       "  background-color: #999999;\n",
       "  color: #f1f1f1;\n",
       "}\n",
       "#T_be0e1_row12_col11, #T_be0e1_row22_col12 {\n",
       "  font-size: 6pt;\n",
       "  background-color: #101010;\n",
       "  color: #f1f1f1;\n",
       "}\n",
       "#T_be0e1_row12_col13, #T_be0e1_row13_col13, #T_be0e1_row21_col14, #T_be0e1_row22_col13, #T_be0e1_row23_col13 {\n",
       "  font-size: 6pt;\n",
       "  background-color: #020202;\n",
       "  color: #f1f1f1;\n",
       "}\n",
       "#T_be0e1_row13_col9 {\n",
       "  font-size: 6pt;\n",
       "  background-color: #f7f7f7;\n",
       "  color: #000000;\n",
       "}\n",
       "#T_be0e1_row13_col11, #T_be0e1_row22_col15 {\n",
       "  font-size: 6pt;\n",
       "  background-color: #030303;\n",
       "  color: #f1f1f1;\n",
       "}\n",
       "#T_be0e1_row13_col16 {\n",
       "  font-size: 6pt;\n",
       "  background-color: #181818;\n",
       "  color: #f1f1f1;\n",
       "}\n",
       "#T_be0e1_row13_col17 {\n",
       "  font-size: 6pt;\n",
       "  background-color: #303030;\n",
       "  color: #f1f1f1;\n",
       "}\n",
       "#T_be0e1_row13_col18 {\n",
       "  font-size: 6pt;\n",
       "  background-color: #a9a9a9;\n",
       "  color: #f1f1f1;\n",
       "}\n",
       "#T_be0e1_row13_col19 {\n",
       "  font-size: 6pt;\n",
       "  background-color: #fefefe;\n",
       "  color: #000000;\n",
       "}\n",
       "#T_be0e1_row14_col12, #T_be0e1_row14_col13, #T_be0e1_row20_col14 {\n",
       "  font-size: 6pt;\n",
       "  background-color: #bababa;\n",
       "  color: #000000;\n",
       "}\n",
       "#T_be0e1_row14_col14 {\n",
       "  font-size: 6pt;\n",
       "  background-color: #393939;\n",
       "  color: #f1f1f1;\n",
       "}\n",
       "#T_be0e1_row14_col20 {\n",
       "  font-size: 6pt;\n",
       "  background-color: #eaeaea;\n",
       "  color: #000000;\n",
       "}\n",
       "#T_be0e1_row15_col15 {\n",
       "  font-size: 6pt;\n",
       "  background-color: #e2e2e2;\n",
       "  color: #000000;\n",
       "}\n",
       "#T_be0e1_row15_col16 {\n",
       "  font-size: 6pt;\n",
       "  background-color: #9f9f9f;\n",
       "  color: #f1f1f1;\n",
       "}\n",
       "#T_be0e1_row15_col20 {\n",
       "  font-size: 6pt;\n",
       "  background-color: #898989;\n",
       "  color: #f1f1f1;\n",
       "}\n",
       "#T_be0e1_row16_col17 {\n",
       "  font-size: 6pt;\n",
       "  background-color: #585858;\n",
       "  color: #f1f1f1;\n",
       "}\n",
       "#T_be0e1_row17_col17 {\n",
       "  font-size: 6pt;\n",
       "  background-color: #5a5a5a;\n",
       "  color: #f1f1f1;\n",
       "}\n",
       "#T_be0e1_row17_col20 {\n",
       "  font-size: 6pt;\n",
       "  background-color: #525252;\n",
       "  color: #f1f1f1;\n",
       "}\n",
       "#T_be0e1_row18_col16, #T_be0e1_row23_col15 {\n",
       "  font-size: 6pt;\n",
       "  background-color: #c5c5c5;\n",
       "  color: #000000;\n",
       "}\n",
       "#T_be0e1_row18_col20 {\n",
       "  font-size: 6pt;\n",
       "  background-color: #d7d7d7;\n",
       "  color: #000000;\n",
       "}\n",
       "#T_be0e1_row19_col15, #T_be0e1_row22_col9 {\n",
       "  font-size: 6pt;\n",
       "  background-color: #dcdcdc;\n",
       "  color: #000000;\n",
       "}\n",
       "#T_be0e1_row19_col16 {\n",
       "  font-size: 6pt;\n",
       "  background-color: #2f2f2f;\n",
       "  color: #f1f1f1;\n",
       "}\n",
       "#T_be0e1_row19_col19 {\n",
       "  font-size: 6pt;\n",
       "  background-color: #636363;\n",
       "  color: #f1f1f1;\n",
       "}\n",
       "#T_be0e1_row20_col15 {\n",
       "  font-size: 6pt;\n",
       "  background-color: #070707;\n",
       "  color: #f1f1f1;\n",
       "}\n",
       "#T_be0e1_row20_col18 {\n",
       "  font-size: 6pt;\n",
       "  background-color: #1f1f1f;\n",
       "  color: #f1f1f1;\n",
       "}\n",
       "#T_be0e1_row21_col12, #T_be0e1_row22_col6, #T_be0e1_row22_col8 {\n",
       "  font-size: 6pt;\n",
       "  background-color: #e9e9e9;\n",
       "  color: #000000;\n",
       "}\n",
       "#T_be0e1_row21_col13 {\n",
       "  font-size: 6pt;\n",
       "  background-color: #7d7d7d;\n",
       "  color: #f1f1f1;\n",
       "}\n",
       "#T_be0e1_row21_col18 {\n",
       "  font-size: 6pt;\n",
       "  background-color: #e1e1e1;\n",
       "  color: #000000;\n",
       "}\n",
       "#T_be0e1_row22_col7, #T_be0e1_row22_col10 {\n",
       "  font-size: 6pt;\n",
       "  background-color: #a4a4a4;\n",
       "  color: #f1f1f1;\n",
       "}\n",
       "#T_be0e1_row22_col11 {\n",
       "  font-size: 6pt;\n",
       "  background-color: #727272;\n",
       "  color: #f1f1f1;\n",
       "}\n",
       "#T_be0e1_row22_col16 {\n",
       "  font-size: 6pt;\n",
       "  background-color: #616161;\n",
       "  color: #f1f1f1;\n",
       "}\n",
       "#T_be0e1_row22_col17 {\n",
       "  font-size: 6pt;\n",
       "  background-color: #f3f3f3;\n",
       "  color: #000000;\n",
       "}\n",
       "#T_be0e1_row23_col14 {\n",
       "  font-size: 6pt;\n",
       "  background-color: #484848;\n",
       "  color: #f1f1f1;\n",
       "}\n",
       "#T_be0e1_row24_col6 {\n",
       "  font-size: 6pt;\n",
       "  background-color: #b3b3b3;\n",
       "  color: #000000;\n",
       "}\n",
       "#T_be0e1_row24_col12 {\n",
       "  font-size: 6pt;\n",
       "  background-color: #1a1a1a;\n",
       "  color: #f1f1f1;\n",
       "}\n",
       "#T_be0e1_row24_col13 {\n",
       "  font-size: 6pt;\n",
       "  background-color: #d6d6d6;\n",
       "  color: #000000;\n",
       "}\n",
       "</style>\n",
       "<table id=\"T_be0e1\">\n",
       "  <thead>\n",
       "    <tr>\n",
       "      <th class=\"blank level0\" >&nbsp;</th>\n",
       "      <th id=\"T_be0e1_level0_col0\" class=\"col_heading level0 col0\" >0</th>\n",
       "      <th id=\"T_be0e1_level0_col1\" class=\"col_heading level0 col1\" >1</th>\n",
       "      <th id=\"T_be0e1_level0_col2\" class=\"col_heading level0 col2\" >2</th>\n",
       "      <th id=\"T_be0e1_level0_col3\" class=\"col_heading level0 col3\" >3</th>\n",
       "      <th id=\"T_be0e1_level0_col4\" class=\"col_heading level0 col4\" >4</th>\n",
       "      <th id=\"T_be0e1_level0_col5\" class=\"col_heading level0 col5\" >5</th>\n",
       "      <th id=\"T_be0e1_level0_col6\" class=\"col_heading level0 col6\" >6</th>\n",
       "      <th id=\"T_be0e1_level0_col7\" class=\"col_heading level0 col7\" >7</th>\n",
       "      <th id=\"T_be0e1_level0_col8\" class=\"col_heading level0 col8\" >8</th>\n",
       "      <th id=\"T_be0e1_level0_col9\" class=\"col_heading level0 col9\" >9</th>\n",
       "      <th id=\"T_be0e1_level0_col10\" class=\"col_heading level0 col10\" >10</th>\n",
       "      <th id=\"T_be0e1_level0_col11\" class=\"col_heading level0 col11\" >11</th>\n",
       "      <th id=\"T_be0e1_level0_col12\" class=\"col_heading level0 col12\" >12</th>\n",
       "      <th id=\"T_be0e1_level0_col13\" class=\"col_heading level0 col13\" >13</th>\n",
       "      <th id=\"T_be0e1_level0_col14\" class=\"col_heading level0 col14\" >14</th>\n",
       "      <th id=\"T_be0e1_level0_col15\" class=\"col_heading level0 col15\" >15</th>\n",
       "      <th id=\"T_be0e1_level0_col16\" class=\"col_heading level0 col16\" >16</th>\n",
       "      <th id=\"T_be0e1_level0_col17\" class=\"col_heading level0 col17\" >17</th>\n",
       "      <th id=\"T_be0e1_level0_col18\" class=\"col_heading level0 col18\" >18</th>\n",
       "      <th id=\"T_be0e1_level0_col19\" class=\"col_heading level0 col19\" >19</th>\n",
       "      <th id=\"T_be0e1_level0_col20\" class=\"col_heading level0 col20\" >20</th>\n",
       "      <th id=\"T_be0e1_level0_col21\" class=\"col_heading level0 col21\" >21</th>\n",
       "      <th id=\"T_be0e1_level0_col22\" class=\"col_heading level0 col22\" >22</th>\n",
       "      <th id=\"T_be0e1_level0_col23\" class=\"col_heading level0 col23\" >23</th>\n",
       "      <th id=\"T_be0e1_level0_col24\" class=\"col_heading level0 col24\" >24</th>\n",
       "      <th id=\"T_be0e1_level0_col25\" class=\"col_heading level0 col25\" >25</th>\n",
       "      <th id=\"T_be0e1_level0_col26\" class=\"col_heading level0 col26\" >26</th>\n",
       "      <th id=\"T_be0e1_level0_col27\" class=\"col_heading level0 col27\" >27</th>\n",
       "    </tr>\n",
       "  </thead>\n",
       "  <tbody>\n",
       "    <tr>\n",
       "      <th id=\"T_be0e1_level0_row0\" class=\"row_heading level0 row0\" >0</th>\n",
       "      <td id=\"T_be0e1_row0_col0\" class=\"data row0 col0\" >0</td>\n",
       "      <td id=\"T_be0e1_row0_col1\" class=\"data row0 col1\" >0</td>\n",
       "      <td id=\"T_be0e1_row0_col2\" class=\"data row0 col2\" >0</td>\n",
       "      <td id=\"T_be0e1_row0_col3\" class=\"data row0 col3\" >0</td>\n",
       "      <td id=\"T_be0e1_row0_col4\" class=\"data row0 col4\" >0</td>\n",
       "      <td id=\"T_be0e1_row0_col5\" class=\"data row0 col5\" >0</td>\n",
       "      <td id=\"T_be0e1_row0_col6\" class=\"data row0 col6\" >0</td>\n",
       "      <td id=\"T_be0e1_row0_col7\" class=\"data row0 col7\" >0</td>\n",
       "      <td id=\"T_be0e1_row0_col8\" class=\"data row0 col8\" >0</td>\n",
       "      <td id=\"T_be0e1_row0_col9\" class=\"data row0 col9\" >0</td>\n",
       "      <td id=\"T_be0e1_row0_col10\" class=\"data row0 col10\" >0</td>\n",
       "      <td id=\"T_be0e1_row0_col11\" class=\"data row0 col11\" >0</td>\n",
       "      <td id=\"T_be0e1_row0_col12\" class=\"data row0 col12\" >0</td>\n",
       "      <td id=\"T_be0e1_row0_col13\" class=\"data row0 col13\" >0</td>\n",
       "      <td id=\"T_be0e1_row0_col14\" class=\"data row0 col14\" >0</td>\n",
       "      <td id=\"T_be0e1_row0_col15\" class=\"data row0 col15\" >0</td>\n",
       "      <td id=\"T_be0e1_row0_col16\" class=\"data row0 col16\" >0</td>\n",
       "      <td id=\"T_be0e1_row0_col17\" class=\"data row0 col17\" >0</td>\n",
       "      <td id=\"T_be0e1_row0_col18\" class=\"data row0 col18\" >0</td>\n",
       "      <td id=\"T_be0e1_row0_col19\" class=\"data row0 col19\" >0</td>\n",
       "      <td id=\"T_be0e1_row0_col20\" class=\"data row0 col20\" >0</td>\n",
       "      <td id=\"T_be0e1_row0_col21\" class=\"data row0 col21\" >0</td>\n",
       "      <td id=\"T_be0e1_row0_col22\" class=\"data row0 col22\" >0</td>\n",
       "      <td id=\"T_be0e1_row0_col23\" class=\"data row0 col23\" >0</td>\n",
       "      <td id=\"T_be0e1_row0_col24\" class=\"data row0 col24\" >0</td>\n",
       "      <td id=\"T_be0e1_row0_col25\" class=\"data row0 col25\" >0</td>\n",
       "      <td id=\"T_be0e1_row0_col26\" class=\"data row0 col26\" >0</td>\n",
       "      <td id=\"T_be0e1_row0_col27\" class=\"data row0 col27\" >0</td>\n",
       "    </tr>\n",
       "    <tr>\n",
       "      <th id=\"T_be0e1_level0_row1\" class=\"row_heading level0 row1\" >1</th>\n",
       "      <td id=\"T_be0e1_row1_col0\" class=\"data row1 col0\" >0</td>\n",
       "      <td id=\"T_be0e1_row1_col1\" class=\"data row1 col1\" >0</td>\n",
       "      <td id=\"T_be0e1_row1_col2\" class=\"data row1 col2\" >0</td>\n",
       "      <td id=\"T_be0e1_row1_col3\" class=\"data row1 col3\" >0</td>\n",
       "      <td id=\"T_be0e1_row1_col4\" class=\"data row1 col4\" >0</td>\n",
       "      <td id=\"T_be0e1_row1_col5\" class=\"data row1 col5\" >0</td>\n",
       "      <td id=\"T_be0e1_row1_col6\" class=\"data row1 col6\" >0</td>\n",
       "      <td id=\"T_be0e1_row1_col7\" class=\"data row1 col7\" >0</td>\n",
       "      <td id=\"T_be0e1_row1_col8\" class=\"data row1 col8\" >0</td>\n",
       "      <td id=\"T_be0e1_row1_col9\" class=\"data row1 col9\" >0</td>\n",
       "      <td id=\"T_be0e1_row1_col10\" class=\"data row1 col10\" >0</td>\n",
       "      <td id=\"T_be0e1_row1_col11\" class=\"data row1 col11\" >0</td>\n",
       "      <td id=\"T_be0e1_row1_col12\" class=\"data row1 col12\" >0</td>\n",
       "      <td id=\"T_be0e1_row1_col13\" class=\"data row1 col13\" >0</td>\n",
       "      <td id=\"T_be0e1_row1_col14\" class=\"data row1 col14\" >0</td>\n",
       "      <td id=\"T_be0e1_row1_col15\" class=\"data row1 col15\" >0</td>\n",
       "      <td id=\"T_be0e1_row1_col16\" class=\"data row1 col16\" >0</td>\n",
       "      <td id=\"T_be0e1_row1_col17\" class=\"data row1 col17\" >0</td>\n",
       "      <td id=\"T_be0e1_row1_col18\" class=\"data row1 col18\" >0</td>\n",
       "      <td id=\"T_be0e1_row1_col19\" class=\"data row1 col19\" >0</td>\n",
       "      <td id=\"T_be0e1_row1_col20\" class=\"data row1 col20\" >0</td>\n",
       "      <td id=\"T_be0e1_row1_col21\" class=\"data row1 col21\" >0</td>\n",
       "      <td id=\"T_be0e1_row1_col22\" class=\"data row1 col22\" >0</td>\n",
       "      <td id=\"T_be0e1_row1_col23\" class=\"data row1 col23\" >0</td>\n",
       "      <td id=\"T_be0e1_row1_col24\" class=\"data row1 col24\" >0</td>\n",
       "      <td id=\"T_be0e1_row1_col25\" class=\"data row1 col25\" >0</td>\n",
       "      <td id=\"T_be0e1_row1_col26\" class=\"data row1 col26\" >0</td>\n",
       "      <td id=\"T_be0e1_row1_col27\" class=\"data row1 col27\" >0</td>\n",
       "    </tr>\n",
       "    <tr>\n",
       "      <th id=\"T_be0e1_level0_row2\" class=\"row_heading level0 row2\" >2</th>\n",
       "      <td id=\"T_be0e1_row2_col0\" class=\"data row2 col0\" >0</td>\n",
       "      <td id=\"T_be0e1_row2_col1\" class=\"data row2 col1\" >0</td>\n",
       "      <td id=\"T_be0e1_row2_col2\" class=\"data row2 col2\" >0</td>\n",
       "      <td id=\"T_be0e1_row2_col3\" class=\"data row2 col3\" >0</td>\n",
       "      <td id=\"T_be0e1_row2_col4\" class=\"data row2 col4\" >0</td>\n",
       "      <td id=\"T_be0e1_row2_col5\" class=\"data row2 col5\" >0</td>\n",
       "      <td id=\"T_be0e1_row2_col6\" class=\"data row2 col6\" >0</td>\n",
       "      <td id=\"T_be0e1_row2_col7\" class=\"data row2 col7\" >0</td>\n",
       "      <td id=\"T_be0e1_row2_col8\" class=\"data row2 col8\" >0</td>\n",
       "      <td id=\"T_be0e1_row2_col9\" class=\"data row2 col9\" >0</td>\n",
       "      <td id=\"T_be0e1_row2_col10\" class=\"data row2 col10\" >0</td>\n",
       "      <td id=\"T_be0e1_row2_col11\" class=\"data row2 col11\" >0</td>\n",
       "      <td id=\"T_be0e1_row2_col12\" class=\"data row2 col12\" >0</td>\n",
       "      <td id=\"T_be0e1_row2_col13\" class=\"data row2 col13\" >0</td>\n",
       "      <td id=\"T_be0e1_row2_col14\" class=\"data row2 col14\" >0</td>\n",
       "      <td id=\"T_be0e1_row2_col15\" class=\"data row2 col15\" >0</td>\n",
       "      <td id=\"T_be0e1_row2_col16\" class=\"data row2 col16\" >0</td>\n",
       "      <td id=\"T_be0e1_row2_col17\" class=\"data row2 col17\" >0</td>\n",
       "      <td id=\"T_be0e1_row2_col18\" class=\"data row2 col18\" >0</td>\n",
       "      <td id=\"T_be0e1_row2_col19\" class=\"data row2 col19\" >0</td>\n",
       "      <td id=\"T_be0e1_row2_col20\" class=\"data row2 col20\" >0</td>\n",
       "      <td id=\"T_be0e1_row2_col21\" class=\"data row2 col21\" >0</td>\n",
       "      <td id=\"T_be0e1_row2_col22\" class=\"data row2 col22\" >0</td>\n",
       "      <td id=\"T_be0e1_row2_col23\" class=\"data row2 col23\" >0</td>\n",
       "      <td id=\"T_be0e1_row2_col24\" class=\"data row2 col24\" >0</td>\n",
       "      <td id=\"T_be0e1_row2_col25\" class=\"data row2 col25\" >0</td>\n",
       "      <td id=\"T_be0e1_row2_col26\" class=\"data row2 col26\" >0</td>\n",
       "      <td id=\"T_be0e1_row2_col27\" class=\"data row2 col27\" >0</td>\n",
       "    </tr>\n",
       "    <tr>\n",
       "      <th id=\"T_be0e1_level0_row3\" class=\"row_heading level0 row3\" >3</th>\n",
       "      <td id=\"T_be0e1_row3_col0\" class=\"data row3 col0\" >0</td>\n",
       "      <td id=\"T_be0e1_row3_col1\" class=\"data row3 col1\" >0</td>\n",
       "      <td id=\"T_be0e1_row3_col2\" class=\"data row3 col2\" >0</td>\n",
       "      <td id=\"T_be0e1_row3_col3\" class=\"data row3 col3\" >0</td>\n",
       "      <td id=\"T_be0e1_row3_col4\" class=\"data row3 col4\" >0</td>\n",
       "      <td id=\"T_be0e1_row3_col5\" class=\"data row3 col5\" >0</td>\n",
       "      <td id=\"T_be0e1_row3_col6\" class=\"data row3 col6\" >0</td>\n",
       "      <td id=\"T_be0e1_row3_col7\" class=\"data row3 col7\" >0</td>\n",
       "      <td id=\"T_be0e1_row3_col8\" class=\"data row3 col8\" >0</td>\n",
       "      <td id=\"T_be0e1_row3_col9\" class=\"data row3 col9\" >0</td>\n",
       "      <td id=\"T_be0e1_row3_col10\" class=\"data row3 col10\" >0</td>\n",
       "      <td id=\"T_be0e1_row3_col11\" class=\"data row3 col11\" >0</td>\n",
       "      <td id=\"T_be0e1_row3_col12\" class=\"data row3 col12\" >0</td>\n",
       "      <td id=\"T_be0e1_row3_col13\" class=\"data row3 col13\" >0</td>\n",
       "      <td id=\"T_be0e1_row3_col14\" class=\"data row3 col14\" >0</td>\n",
       "      <td id=\"T_be0e1_row3_col15\" class=\"data row3 col15\" >0</td>\n",
       "      <td id=\"T_be0e1_row3_col16\" class=\"data row3 col16\" >0</td>\n",
       "      <td id=\"T_be0e1_row3_col17\" class=\"data row3 col17\" >0</td>\n",
       "      <td id=\"T_be0e1_row3_col18\" class=\"data row3 col18\" >0</td>\n",
       "      <td id=\"T_be0e1_row3_col19\" class=\"data row3 col19\" >0</td>\n",
       "      <td id=\"T_be0e1_row3_col20\" class=\"data row3 col20\" >0</td>\n",
       "      <td id=\"T_be0e1_row3_col21\" class=\"data row3 col21\" >0</td>\n",
       "      <td id=\"T_be0e1_row3_col22\" class=\"data row3 col22\" >0</td>\n",
       "      <td id=\"T_be0e1_row3_col23\" class=\"data row3 col23\" >0</td>\n",
       "      <td id=\"T_be0e1_row3_col24\" class=\"data row3 col24\" >0</td>\n",
       "      <td id=\"T_be0e1_row3_col25\" class=\"data row3 col25\" >0</td>\n",
       "      <td id=\"T_be0e1_row3_col26\" class=\"data row3 col26\" >0</td>\n",
       "      <td id=\"T_be0e1_row3_col27\" class=\"data row3 col27\" >0</td>\n",
       "    </tr>\n",
       "    <tr>\n",
       "      <th id=\"T_be0e1_level0_row4\" class=\"row_heading level0 row4\" >4</th>\n",
       "      <td id=\"T_be0e1_row4_col0\" class=\"data row4 col0\" >0</td>\n",
       "      <td id=\"T_be0e1_row4_col1\" class=\"data row4 col1\" >0</td>\n",
       "      <td id=\"T_be0e1_row4_col2\" class=\"data row4 col2\" >0</td>\n",
       "      <td id=\"T_be0e1_row4_col3\" class=\"data row4 col3\" >0</td>\n",
       "      <td id=\"T_be0e1_row4_col4\" class=\"data row4 col4\" >0</td>\n",
       "      <td id=\"T_be0e1_row4_col5\" class=\"data row4 col5\" >0</td>\n",
       "      <td id=\"T_be0e1_row4_col6\" class=\"data row4 col6\" >0</td>\n",
       "      <td id=\"T_be0e1_row4_col7\" class=\"data row4 col7\" >0</td>\n",
       "      <td id=\"T_be0e1_row4_col8\" class=\"data row4 col8\" >0</td>\n",
       "      <td id=\"T_be0e1_row4_col9\" class=\"data row4 col9\" >0</td>\n",
       "      <td id=\"T_be0e1_row4_col10\" class=\"data row4 col10\" >0</td>\n",
       "      <td id=\"T_be0e1_row4_col11\" class=\"data row4 col11\" >0</td>\n",
       "      <td id=\"T_be0e1_row4_col12\" class=\"data row4 col12\" >0</td>\n",
       "      <td id=\"T_be0e1_row4_col13\" class=\"data row4 col13\" >0</td>\n",
       "      <td id=\"T_be0e1_row4_col14\" class=\"data row4 col14\" >0</td>\n",
       "      <td id=\"T_be0e1_row4_col15\" class=\"data row4 col15\" >0</td>\n",
       "      <td id=\"T_be0e1_row4_col16\" class=\"data row4 col16\" >0</td>\n",
       "      <td id=\"T_be0e1_row4_col17\" class=\"data row4 col17\" >0</td>\n",
       "      <td id=\"T_be0e1_row4_col18\" class=\"data row4 col18\" >0</td>\n",
       "      <td id=\"T_be0e1_row4_col19\" class=\"data row4 col19\" >0</td>\n",
       "      <td id=\"T_be0e1_row4_col20\" class=\"data row4 col20\" >0</td>\n",
       "      <td id=\"T_be0e1_row4_col21\" class=\"data row4 col21\" >0</td>\n",
       "      <td id=\"T_be0e1_row4_col22\" class=\"data row4 col22\" >0</td>\n",
       "      <td id=\"T_be0e1_row4_col23\" class=\"data row4 col23\" >0</td>\n",
       "      <td id=\"T_be0e1_row4_col24\" class=\"data row4 col24\" >0</td>\n",
       "      <td id=\"T_be0e1_row4_col25\" class=\"data row4 col25\" >0</td>\n",
       "      <td id=\"T_be0e1_row4_col26\" class=\"data row4 col26\" >0</td>\n",
       "      <td id=\"T_be0e1_row4_col27\" class=\"data row4 col27\" >0</td>\n",
       "    </tr>\n",
       "    <tr>\n",
       "      <th id=\"T_be0e1_level0_row5\" class=\"row_heading level0 row5\" >5</th>\n",
       "      <td id=\"T_be0e1_row5_col0\" class=\"data row5 col0\" >0</td>\n",
       "      <td id=\"T_be0e1_row5_col1\" class=\"data row5 col1\" >0</td>\n",
       "      <td id=\"T_be0e1_row5_col2\" class=\"data row5 col2\" >0</td>\n",
       "      <td id=\"T_be0e1_row5_col3\" class=\"data row5 col3\" >0</td>\n",
       "      <td id=\"T_be0e1_row5_col4\" class=\"data row5 col4\" >0</td>\n",
       "      <td id=\"T_be0e1_row5_col5\" class=\"data row5 col5\" >0</td>\n",
       "      <td id=\"T_be0e1_row5_col6\" class=\"data row5 col6\" >0</td>\n",
       "      <td id=\"T_be0e1_row5_col7\" class=\"data row5 col7\" >0</td>\n",
       "      <td id=\"T_be0e1_row5_col8\" class=\"data row5 col8\" >0</td>\n",
       "      <td id=\"T_be0e1_row5_col9\" class=\"data row5 col9\" >29</td>\n",
       "      <td id=\"T_be0e1_row5_col10\" class=\"data row5 col10\" >150</td>\n",
       "      <td id=\"T_be0e1_row5_col11\" class=\"data row5 col11\" >195</td>\n",
       "      <td id=\"T_be0e1_row5_col12\" class=\"data row5 col12\" >254</td>\n",
       "      <td id=\"T_be0e1_row5_col13\" class=\"data row5 col13\" >255</td>\n",
       "      <td id=\"T_be0e1_row5_col14\" class=\"data row5 col14\" >254</td>\n",
       "      <td id=\"T_be0e1_row5_col15\" class=\"data row5 col15\" >176</td>\n",
       "      <td id=\"T_be0e1_row5_col16\" class=\"data row5 col16\" >193</td>\n",
       "      <td id=\"T_be0e1_row5_col17\" class=\"data row5 col17\" >150</td>\n",
       "      <td id=\"T_be0e1_row5_col18\" class=\"data row5 col18\" >96</td>\n",
       "      <td id=\"T_be0e1_row5_col19\" class=\"data row5 col19\" >0</td>\n",
       "      <td id=\"T_be0e1_row5_col20\" class=\"data row5 col20\" >0</td>\n",
       "      <td id=\"T_be0e1_row5_col21\" class=\"data row5 col21\" >0</td>\n",
       "      <td id=\"T_be0e1_row5_col22\" class=\"data row5 col22\" >0</td>\n",
       "      <td id=\"T_be0e1_row5_col23\" class=\"data row5 col23\" >0</td>\n",
       "      <td id=\"T_be0e1_row5_col24\" class=\"data row5 col24\" >0</td>\n",
       "      <td id=\"T_be0e1_row5_col25\" class=\"data row5 col25\" >0</td>\n",
       "      <td id=\"T_be0e1_row5_col26\" class=\"data row5 col26\" >0</td>\n",
       "      <td id=\"T_be0e1_row5_col27\" class=\"data row5 col27\" >0</td>\n",
       "    </tr>\n",
       "    <tr>\n",
       "      <th id=\"T_be0e1_level0_row6\" class=\"row_heading level0 row6\" >6</th>\n",
       "      <td id=\"T_be0e1_row6_col0\" class=\"data row6 col0\" >0</td>\n",
       "      <td id=\"T_be0e1_row6_col1\" class=\"data row6 col1\" >0</td>\n",
       "      <td id=\"T_be0e1_row6_col2\" class=\"data row6 col2\" >0</td>\n",
       "      <td id=\"T_be0e1_row6_col3\" class=\"data row6 col3\" >0</td>\n",
       "      <td id=\"T_be0e1_row6_col4\" class=\"data row6 col4\" >0</td>\n",
       "      <td id=\"T_be0e1_row6_col5\" class=\"data row6 col5\" >0</td>\n",
       "      <td id=\"T_be0e1_row6_col6\" class=\"data row6 col6\" >0</td>\n",
       "      <td id=\"T_be0e1_row6_col7\" class=\"data row6 col7\" >48</td>\n",
       "      <td id=\"T_be0e1_row6_col8\" class=\"data row6 col8\" >166</td>\n",
       "      <td id=\"T_be0e1_row6_col9\" class=\"data row6 col9\" >224</td>\n",
       "      <td id=\"T_be0e1_row6_col10\" class=\"data row6 col10\" >253</td>\n",
       "      <td id=\"T_be0e1_row6_col11\" class=\"data row6 col11\" >253</td>\n",
       "      <td id=\"T_be0e1_row6_col12\" class=\"data row6 col12\" >234</td>\n",
       "      <td id=\"T_be0e1_row6_col13\" class=\"data row6 col13\" >196</td>\n",
       "      <td id=\"T_be0e1_row6_col14\" class=\"data row6 col14\" >253</td>\n",
       "      <td id=\"T_be0e1_row6_col15\" class=\"data row6 col15\" >253</td>\n",
       "      <td id=\"T_be0e1_row6_col16\" class=\"data row6 col16\" >253</td>\n",
       "      <td id=\"T_be0e1_row6_col17\" class=\"data row6 col17\" >253</td>\n",
       "      <td id=\"T_be0e1_row6_col18\" class=\"data row6 col18\" >233</td>\n",
       "      <td id=\"T_be0e1_row6_col19\" class=\"data row6 col19\" >0</td>\n",
       "      <td id=\"T_be0e1_row6_col20\" class=\"data row6 col20\" >0</td>\n",
       "      <td id=\"T_be0e1_row6_col21\" class=\"data row6 col21\" >0</td>\n",
       "      <td id=\"T_be0e1_row6_col22\" class=\"data row6 col22\" >0</td>\n",
       "      <td id=\"T_be0e1_row6_col23\" class=\"data row6 col23\" >0</td>\n",
       "      <td id=\"T_be0e1_row6_col24\" class=\"data row6 col24\" >0</td>\n",
       "      <td id=\"T_be0e1_row6_col25\" class=\"data row6 col25\" >0</td>\n",
       "      <td id=\"T_be0e1_row6_col26\" class=\"data row6 col26\" >0</td>\n",
       "      <td id=\"T_be0e1_row6_col27\" class=\"data row6 col27\" >0</td>\n",
       "    </tr>\n",
       "    <tr>\n",
       "      <th id=\"T_be0e1_level0_row7\" class=\"row_heading level0 row7\" >7</th>\n",
       "      <td id=\"T_be0e1_row7_col0\" class=\"data row7 col0\" >0</td>\n",
       "      <td id=\"T_be0e1_row7_col1\" class=\"data row7 col1\" >0</td>\n",
       "      <td id=\"T_be0e1_row7_col2\" class=\"data row7 col2\" >0</td>\n",
       "      <td id=\"T_be0e1_row7_col3\" class=\"data row7 col3\" >0</td>\n",
       "      <td id=\"T_be0e1_row7_col4\" class=\"data row7 col4\" >0</td>\n",
       "      <td id=\"T_be0e1_row7_col5\" class=\"data row7 col5\" >93</td>\n",
       "      <td id=\"T_be0e1_row7_col6\" class=\"data row7 col6\" >244</td>\n",
       "      <td id=\"T_be0e1_row7_col7\" class=\"data row7 col7\" >249</td>\n",
       "      <td id=\"T_be0e1_row7_col8\" class=\"data row7 col8\" >253</td>\n",
       "      <td id=\"T_be0e1_row7_col9\" class=\"data row7 col9\" >187</td>\n",
       "      <td id=\"T_be0e1_row7_col10\" class=\"data row7 col10\" >46</td>\n",
       "      <td id=\"T_be0e1_row7_col11\" class=\"data row7 col11\" >10</td>\n",
       "      <td id=\"T_be0e1_row7_col12\" class=\"data row7 col12\" >8</td>\n",
       "      <td id=\"T_be0e1_row7_col13\" class=\"data row7 col13\" >4</td>\n",
       "      <td id=\"T_be0e1_row7_col14\" class=\"data row7 col14\" >10</td>\n",
       "      <td id=\"T_be0e1_row7_col15\" class=\"data row7 col15\" >194</td>\n",
       "      <td id=\"T_be0e1_row7_col16\" class=\"data row7 col16\" >253</td>\n",
       "      <td id=\"T_be0e1_row7_col17\" class=\"data row7 col17\" >253</td>\n",
       "      <td id=\"T_be0e1_row7_col18\" class=\"data row7 col18\" >233</td>\n",
       "      <td id=\"T_be0e1_row7_col19\" class=\"data row7 col19\" >0</td>\n",
       "      <td id=\"T_be0e1_row7_col20\" class=\"data row7 col20\" >0</td>\n",
       "      <td id=\"T_be0e1_row7_col21\" class=\"data row7 col21\" >0</td>\n",
       "      <td id=\"T_be0e1_row7_col22\" class=\"data row7 col22\" >0</td>\n",
       "      <td id=\"T_be0e1_row7_col23\" class=\"data row7 col23\" >0</td>\n",
       "      <td id=\"T_be0e1_row7_col24\" class=\"data row7 col24\" >0</td>\n",
       "      <td id=\"T_be0e1_row7_col25\" class=\"data row7 col25\" >0</td>\n",
       "      <td id=\"T_be0e1_row7_col26\" class=\"data row7 col26\" >0</td>\n",
       "      <td id=\"T_be0e1_row7_col27\" class=\"data row7 col27\" >0</td>\n",
       "    </tr>\n",
       "    <tr>\n",
       "      <th id=\"T_be0e1_level0_row8\" class=\"row_heading level0 row8\" >8</th>\n",
       "      <td id=\"T_be0e1_row8_col0\" class=\"data row8 col0\" >0</td>\n",
       "      <td id=\"T_be0e1_row8_col1\" class=\"data row8 col1\" >0</td>\n",
       "      <td id=\"T_be0e1_row8_col2\" class=\"data row8 col2\" >0</td>\n",
       "      <td id=\"T_be0e1_row8_col3\" class=\"data row8 col3\" >0</td>\n",
       "      <td id=\"T_be0e1_row8_col4\" class=\"data row8 col4\" >0</td>\n",
       "      <td id=\"T_be0e1_row8_col5\" class=\"data row8 col5\" >107</td>\n",
       "      <td id=\"T_be0e1_row8_col6\" class=\"data row8 col6\" >253</td>\n",
       "      <td id=\"T_be0e1_row8_col7\" class=\"data row8 col7\" >253</td>\n",
       "      <td id=\"T_be0e1_row8_col8\" class=\"data row8 col8\" >230</td>\n",
       "      <td id=\"T_be0e1_row8_col9\" class=\"data row8 col9\" >48</td>\n",
       "      <td id=\"T_be0e1_row8_col10\" class=\"data row8 col10\" >0</td>\n",
       "      <td id=\"T_be0e1_row8_col11\" class=\"data row8 col11\" >0</td>\n",
       "      <td id=\"T_be0e1_row8_col12\" class=\"data row8 col12\" >0</td>\n",
       "      <td id=\"T_be0e1_row8_col13\" class=\"data row8 col13\" >0</td>\n",
       "      <td id=\"T_be0e1_row8_col14\" class=\"data row8 col14\" >0</td>\n",
       "      <td id=\"T_be0e1_row8_col15\" class=\"data row8 col15\" >192</td>\n",
       "      <td id=\"T_be0e1_row8_col16\" class=\"data row8 col16\" >253</td>\n",
       "      <td id=\"T_be0e1_row8_col17\" class=\"data row8 col17\" >253</td>\n",
       "      <td id=\"T_be0e1_row8_col18\" class=\"data row8 col18\" >156</td>\n",
       "      <td id=\"T_be0e1_row8_col19\" class=\"data row8 col19\" >0</td>\n",
       "      <td id=\"T_be0e1_row8_col20\" class=\"data row8 col20\" >0</td>\n",
       "      <td id=\"T_be0e1_row8_col21\" class=\"data row8 col21\" >0</td>\n",
       "      <td id=\"T_be0e1_row8_col22\" class=\"data row8 col22\" >0</td>\n",
       "      <td id=\"T_be0e1_row8_col23\" class=\"data row8 col23\" >0</td>\n",
       "      <td id=\"T_be0e1_row8_col24\" class=\"data row8 col24\" >0</td>\n",
       "      <td id=\"T_be0e1_row8_col25\" class=\"data row8 col25\" >0</td>\n",
       "      <td id=\"T_be0e1_row8_col26\" class=\"data row8 col26\" >0</td>\n",
       "      <td id=\"T_be0e1_row8_col27\" class=\"data row8 col27\" >0</td>\n",
       "    </tr>\n",
       "    <tr>\n",
       "      <th id=\"T_be0e1_level0_row9\" class=\"row_heading level0 row9\" >9</th>\n",
       "      <td id=\"T_be0e1_row9_col0\" class=\"data row9 col0\" >0</td>\n",
       "      <td id=\"T_be0e1_row9_col1\" class=\"data row9 col1\" >0</td>\n",
       "      <td id=\"T_be0e1_row9_col2\" class=\"data row9 col2\" >0</td>\n",
       "      <td id=\"T_be0e1_row9_col3\" class=\"data row9 col3\" >0</td>\n",
       "      <td id=\"T_be0e1_row9_col4\" class=\"data row9 col4\" >0</td>\n",
       "      <td id=\"T_be0e1_row9_col5\" class=\"data row9 col5\" >3</td>\n",
       "      <td id=\"T_be0e1_row9_col6\" class=\"data row9 col6\" >20</td>\n",
       "      <td id=\"T_be0e1_row9_col7\" class=\"data row9 col7\" >20</td>\n",
       "      <td id=\"T_be0e1_row9_col8\" class=\"data row9 col8\" >15</td>\n",
       "      <td id=\"T_be0e1_row9_col9\" class=\"data row9 col9\" >0</td>\n",
       "      <td id=\"T_be0e1_row9_col10\" class=\"data row9 col10\" >0</td>\n",
       "      <td id=\"T_be0e1_row9_col11\" class=\"data row9 col11\" >0</td>\n",
       "      <td id=\"T_be0e1_row9_col12\" class=\"data row9 col12\" >0</td>\n",
       "      <td id=\"T_be0e1_row9_col13\" class=\"data row9 col13\" >0</td>\n",
       "      <td id=\"T_be0e1_row9_col14\" class=\"data row9 col14\" >43</td>\n",
       "      <td id=\"T_be0e1_row9_col15\" class=\"data row9 col15\" >224</td>\n",
       "      <td id=\"T_be0e1_row9_col16\" class=\"data row9 col16\" >253</td>\n",
       "      <td id=\"T_be0e1_row9_col17\" class=\"data row9 col17\" >245</td>\n",
       "      <td id=\"T_be0e1_row9_col18\" class=\"data row9 col18\" >74</td>\n",
       "      <td id=\"T_be0e1_row9_col19\" class=\"data row9 col19\" >0</td>\n",
       "      <td id=\"T_be0e1_row9_col20\" class=\"data row9 col20\" >0</td>\n",
       "      <td id=\"T_be0e1_row9_col21\" class=\"data row9 col21\" >0</td>\n",
       "      <td id=\"T_be0e1_row9_col22\" class=\"data row9 col22\" >0</td>\n",
       "      <td id=\"T_be0e1_row9_col23\" class=\"data row9 col23\" >0</td>\n",
       "      <td id=\"T_be0e1_row9_col24\" class=\"data row9 col24\" >0</td>\n",
       "      <td id=\"T_be0e1_row9_col25\" class=\"data row9 col25\" >0</td>\n",
       "      <td id=\"T_be0e1_row9_col26\" class=\"data row9 col26\" >0</td>\n",
       "      <td id=\"T_be0e1_row9_col27\" class=\"data row9 col27\" >0</td>\n",
       "    </tr>\n",
       "    <tr>\n",
       "      <th id=\"T_be0e1_level0_row10\" class=\"row_heading level0 row10\" >10</th>\n",
       "      <td id=\"T_be0e1_row10_col0\" class=\"data row10 col0\" >0</td>\n",
       "      <td id=\"T_be0e1_row10_col1\" class=\"data row10 col1\" >0</td>\n",
       "      <td id=\"T_be0e1_row10_col2\" class=\"data row10 col2\" >0</td>\n",
       "      <td id=\"T_be0e1_row10_col3\" class=\"data row10 col3\" >0</td>\n",
       "      <td id=\"T_be0e1_row10_col4\" class=\"data row10 col4\" >0</td>\n",
       "      <td id=\"T_be0e1_row10_col5\" class=\"data row10 col5\" >0</td>\n",
       "      <td id=\"T_be0e1_row10_col6\" class=\"data row10 col6\" >0</td>\n",
       "      <td id=\"T_be0e1_row10_col7\" class=\"data row10 col7\" >0</td>\n",
       "      <td id=\"T_be0e1_row10_col8\" class=\"data row10 col8\" >0</td>\n",
       "      <td id=\"T_be0e1_row10_col9\" class=\"data row10 col9\" >0</td>\n",
       "      <td id=\"T_be0e1_row10_col10\" class=\"data row10 col10\" >0</td>\n",
       "      <td id=\"T_be0e1_row10_col11\" class=\"data row10 col11\" >0</td>\n",
       "      <td id=\"T_be0e1_row10_col12\" class=\"data row10 col12\" >0</td>\n",
       "      <td id=\"T_be0e1_row10_col13\" class=\"data row10 col13\" >0</td>\n",
       "      <td id=\"T_be0e1_row10_col14\" class=\"data row10 col14\" >249</td>\n",
       "      <td id=\"T_be0e1_row10_col15\" class=\"data row10 col15\" >253</td>\n",
       "      <td id=\"T_be0e1_row10_col16\" class=\"data row10 col16\" >245</td>\n",
       "      <td id=\"T_be0e1_row10_col17\" class=\"data row10 col17\" >126</td>\n",
       "      <td id=\"T_be0e1_row10_col18\" class=\"data row10 col18\" >0</td>\n",
       "      <td id=\"T_be0e1_row10_col19\" class=\"data row10 col19\" >0</td>\n",
       "      <td id=\"T_be0e1_row10_col20\" class=\"data row10 col20\" >0</td>\n",
       "      <td id=\"T_be0e1_row10_col21\" class=\"data row10 col21\" >0</td>\n",
       "      <td id=\"T_be0e1_row10_col22\" class=\"data row10 col22\" >0</td>\n",
       "      <td id=\"T_be0e1_row10_col23\" class=\"data row10 col23\" >0</td>\n",
       "      <td id=\"T_be0e1_row10_col24\" class=\"data row10 col24\" >0</td>\n",
       "      <td id=\"T_be0e1_row10_col25\" class=\"data row10 col25\" >0</td>\n",
       "      <td id=\"T_be0e1_row10_col26\" class=\"data row10 col26\" >0</td>\n",
       "      <td id=\"T_be0e1_row10_col27\" class=\"data row10 col27\" >0</td>\n",
       "    </tr>\n",
       "    <tr>\n",
       "      <th id=\"T_be0e1_level0_row11\" class=\"row_heading level0 row11\" >11</th>\n",
       "      <td id=\"T_be0e1_row11_col0\" class=\"data row11 col0\" >0</td>\n",
       "      <td id=\"T_be0e1_row11_col1\" class=\"data row11 col1\" >0</td>\n",
       "      <td id=\"T_be0e1_row11_col2\" class=\"data row11 col2\" >0</td>\n",
       "      <td id=\"T_be0e1_row11_col3\" class=\"data row11 col3\" >0</td>\n",
       "      <td id=\"T_be0e1_row11_col4\" class=\"data row11 col4\" >0</td>\n",
       "      <td id=\"T_be0e1_row11_col5\" class=\"data row11 col5\" >0</td>\n",
       "      <td id=\"T_be0e1_row11_col6\" class=\"data row11 col6\" >0</td>\n",
       "      <td id=\"T_be0e1_row11_col7\" class=\"data row11 col7\" >0</td>\n",
       "      <td id=\"T_be0e1_row11_col8\" class=\"data row11 col8\" >0</td>\n",
       "      <td id=\"T_be0e1_row11_col9\" class=\"data row11 col9\" >0</td>\n",
       "      <td id=\"T_be0e1_row11_col10\" class=\"data row11 col10\" >0</td>\n",
       "      <td id=\"T_be0e1_row11_col11\" class=\"data row11 col11\" >14</td>\n",
       "      <td id=\"T_be0e1_row11_col12\" class=\"data row11 col12\" >101</td>\n",
       "      <td id=\"T_be0e1_row11_col13\" class=\"data row11 col13\" >223</td>\n",
       "      <td id=\"T_be0e1_row11_col14\" class=\"data row11 col14\" >253</td>\n",
       "      <td id=\"T_be0e1_row11_col15\" class=\"data row11 col15\" >248</td>\n",
       "      <td id=\"T_be0e1_row11_col16\" class=\"data row11 col16\" >124</td>\n",
       "      <td id=\"T_be0e1_row11_col17\" class=\"data row11 col17\" >0</td>\n",
       "      <td id=\"T_be0e1_row11_col18\" class=\"data row11 col18\" >0</td>\n",
       "      <td id=\"T_be0e1_row11_col19\" class=\"data row11 col19\" >0</td>\n",
       "      <td id=\"T_be0e1_row11_col20\" class=\"data row11 col20\" >0</td>\n",
       "      <td id=\"T_be0e1_row11_col21\" class=\"data row11 col21\" >0</td>\n",
       "      <td id=\"T_be0e1_row11_col22\" class=\"data row11 col22\" >0</td>\n",
       "      <td id=\"T_be0e1_row11_col23\" class=\"data row11 col23\" >0</td>\n",
       "      <td id=\"T_be0e1_row11_col24\" class=\"data row11 col24\" >0</td>\n",
       "      <td id=\"T_be0e1_row11_col25\" class=\"data row11 col25\" >0</td>\n",
       "      <td id=\"T_be0e1_row11_col26\" class=\"data row11 col26\" >0</td>\n",
       "      <td id=\"T_be0e1_row11_col27\" class=\"data row11 col27\" >0</td>\n",
       "    </tr>\n",
       "    <tr>\n",
       "      <th id=\"T_be0e1_level0_row12\" class=\"row_heading level0 row12\" >12</th>\n",
       "      <td id=\"T_be0e1_row12_col0\" class=\"data row12 col0\" >0</td>\n",
       "      <td id=\"T_be0e1_row12_col1\" class=\"data row12 col1\" >0</td>\n",
       "      <td id=\"T_be0e1_row12_col2\" class=\"data row12 col2\" >0</td>\n",
       "      <td id=\"T_be0e1_row12_col3\" class=\"data row12 col3\" >0</td>\n",
       "      <td id=\"T_be0e1_row12_col4\" class=\"data row12 col4\" >0</td>\n",
       "      <td id=\"T_be0e1_row12_col5\" class=\"data row12 col5\" >0</td>\n",
       "      <td id=\"T_be0e1_row12_col6\" class=\"data row12 col6\" >0</td>\n",
       "      <td id=\"T_be0e1_row12_col7\" class=\"data row12 col7\" >0</td>\n",
       "      <td id=\"T_be0e1_row12_col8\" class=\"data row12 col8\" >0</td>\n",
       "      <td id=\"T_be0e1_row12_col9\" class=\"data row12 col9\" >11</td>\n",
       "      <td id=\"T_be0e1_row12_col10\" class=\"data row12 col10\" >166</td>\n",
       "      <td id=\"T_be0e1_row12_col11\" class=\"data row12 col11\" >239</td>\n",
       "      <td id=\"T_be0e1_row12_col12\" class=\"data row12 col12\" >253</td>\n",
       "      <td id=\"T_be0e1_row12_col13\" class=\"data row12 col13\" >253</td>\n",
       "      <td id=\"T_be0e1_row12_col14\" class=\"data row12 col14\" >253</td>\n",
       "      <td id=\"T_be0e1_row12_col15\" class=\"data row12 col15\" >187</td>\n",
       "      <td id=\"T_be0e1_row12_col16\" class=\"data row12 col16\" >30</td>\n",
       "      <td id=\"T_be0e1_row12_col17\" class=\"data row12 col17\" >0</td>\n",
       "      <td id=\"T_be0e1_row12_col18\" class=\"data row12 col18\" >0</td>\n",
       "      <td id=\"T_be0e1_row12_col19\" class=\"data row12 col19\" >0</td>\n",
       "      <td id=\"T_be0e1_row12_col20\" class=\"data row12 col20\" >0</td>\n",
       "      <td id=\"T_be0e1_row12_col21\" class=\"data row12 col21\" >0</td>\n",
       "      <td id=\"T_be0e1_row12_col22\" class=\"data row12 col22\" >0</td>\n",
       "      <td id=\"T_be0e1_row12_col23\" class=\"data row12 col23\" >0</td>\n",
       "      <td id=\"T_be0e1_row12_col24\" class=\"data row12 col24\" >0</td>\n",
       "      <td id=\"T_be0e1_row12_col25\" class=\"data row12 col25\" >0</td>\n",
       "      <td id=\"T_be0e1_row12_col26\" class=\"data row12 col26\" >0</td>\n",
       "      <td id=\"T_be0e1_row12_col27\" class=\"data row12 col27\" >0</td>\n",
       "    </tr>\n",
       "    <tr>\n",
       "      <th id=\"T_be0e1_level0_row13\" class=\"row_heading level0 row13\" >13</th>\n",
       "      <td id=\"T_be0e1_row13_col0\" class=\"data row13 col0\" >0</td>\n",
       "      <td id=\"T_be0e1_row13_col1\" class=\"data row13 col1\" >0</td>\n",
       "      <td id=\"T_be0e1_row13_col2\" class=\"data row13 col2\" >0</td>\n",
       "      <td id=\"T_be0e1_row13_col3\" class=\"data row13 col3\" >0</td>\n",
       "      <td id=\"T_be0e1_row13_col4\" class=\"data row13 col4\" >0</td>\n",
       "      <td id=\"T_be0e1_row13_col5\" class=\"data row13 col5\" >0</td>\n",
       "      <td id=\"T_be0e1_row13_col6\" class=\"data row13 col6\" >0</td>\n",
       "      <td id=\"T_be0e1_row13_col7\" class=\"data row13 col7\" >0</td>\n",
       "      <td id=\"T_be0e1_row13_col8\" class=\"data row13 col8\" >0</td>\n",
       "      <td id=\"T_be0e1_row13_col9\" class=\"data row13 col9\" >16</td>\n",
       "      <td id=\"T_be0e1_row13_col10\" class=\"data row13 col10\" >248</td>\n",
       "      <td id=\"T_be0e1_row13_col11\" class=\"data row13 col11\" >250</td>\n",
       "      <td id=\"T_be0e1_row13_col12\" class=\"data row13 col12\" >253</td>\n",
       "      <td id=\"T_be0e1_row13_col13\" class=\"data row13 col13\" >253</td>\n",
       "      <td id=\"T_be0e1_row13_col14\" class=\"data row13 col14\" >253</td>\n",
       "      <td id=\"T_be0e1_row13_col15\" class=\"data row13 col15\" >253</td>\n",
       "      <td id=\"T_be0e1_row13_col16\" class=\"data row13 col16\" >232</td>\n",
       "      <td id=\"T_be0e1_row13_col17\" class=\"data row13 col17\" >213</td>\n",
       "      <td id=\"T_be0e1_row13_col18\" class=\"data row13 col18\" >111</td>\n",
       "      <td id=\"T_be0e1_row13_col19\" class=\"data row13 col19\" >2</td>\n",
       "      <td id=\"T_be0e1_row13_col20\" class=\"data row13 col20\" >0</td>\n",
       "      <td id=\"T_be0e1_row13_col21\" class=\"data row13 col21\" >0</td>\n",
       "      <td id=\"T_be0e1_row13_col22\" class=\"data row13 col22\" >0</td>\n",
       "      <td id=\"T_be0e1_row13_col23\" class=\"data row13 col23\" >0</td>\n",
       "      <td id=\"T_be0e1_row13_col24\" class=\"data row13 col24\" >0</td>\n",
       "      <td id=\"T_be0e1_row13_col25\" class=\"data row13 col25\" >0</td>\n",
       "      <td id=\"T_be0e1_row13_col26\" class=\"data row13 col26\" >0</td>\n",
       "      <td id=\"T_be0e1_row13_col27\" class=\"data row13 col27\" >0</td>\n",
       "    </tr>\n",
       "    <tr>\n",
       "      <th id=\"T_be0e1_level0_row14\" class=\"row_heading level0 row14\" >14</th>\n",
       "      <td id=\"T_be0e1_row14_col0\" class=\"data row14 col0\" >0</td>\n",
       "      <td id=\"T_be0e1_row14_col1\" class=\"data row14 col1\" >0</td>\n",
       "      <td id=\"T_be0e1_row14_col2\" class=\"data row14 col2\" >0</td>\n",
       "      <td id=\"T_be0e1_row14_col3\" class=\"data row14 col3\" >0</td>\n",
       "      <td id=\"T_be0e1_row14_col4\" class=\"data row14 col4\" >0</td>\n",
       "      <td id=\"T_be0e1_row14_col5\" class=\"data row14 col5\" >0</td>\n",
       "      <td id=\"T_be0e1_row14_col6\" class=\"data row14 col6\" >0</td>\n",
       "      <td id=\"T_be0e1_row14_col7\" class=\"data row14 col7\" >0</td>\n",
       "      <td id=\"T_be0e1_row14_col8\" class=\"data row14 col8\" >0</td>\n",
       "      <td id=\"T_be0e1_row14_col9\" class=\"data row14 col9\" >0</td>\n",
       "      <td id=\"T_be0e1_row14_col10\" class=\"data row14 col10\" >0</td>\n",
       "      <td id=\"T_be0e1_row14_col11\" class=\"data row14 col11\" >43</td>\n",
       "      <td id=\"T_be0e1_row14_col12\" class=\"data row14 col12\" >98</td>\n",
       "      <td id=\"T_be0e1_row14_col13\" class=\"data row14 col13\" >98</td>\n",
       "      <td id=\"T_be0e1_row14_col14\" class=\"data row14 col14\" >208</td>\n",
       "      <td id=\"T_be0e1_row14_col15\" class=\"data row14 col15\" >253</td>\n",
       "      <td id=\"T_be0e1_row14_col16\" class=\"data row14 col16\" >253</td>\n",
       "      <td id=\"T_be0e1_row14_col17\" class=\"data row14 col17\" >253</td>\n",
       "      <td id=\"T_be0e1_row14_col18\" class=\"data row14 col18\" >253</td>\n",
       "      <td id=\"T_be0e1_row14_col19\" class=\"data row14 col19\" >187</td>\n",
       "      <td id=\"T_be0e1_row14_col20\" class=\"data row14 col20\" >22</td>\n",
       "      <td id=\"T_be0e1_row14_col21\" class=\"data row14 col21\" >0</td>\n",
       "      <td id=\"T_be0e1_row14_col22\" class=\"data row14 col22\" >0</td>\n",
       "      <td id=\"T_be0e1_row14_col23\" class=\"data row14 col23\" >0</td>\n",
       "      <td id=\"T_be0e1_row14_col24\" class=\"data row14 col24\" >0</td>\n",
       "      <td id=\"T_be0e1_row14_col25\" class=\"data row14 col25\" >0</td>\n",
       "      <td id=\"T_be0e1_row14_col26\" class=\"data row14 col26\" >0</td>\n",
       "      <td id=\"T_be0e1_row14_col27\" class=\"data row14 col27\" >0</td>\n",
       "    </tr>\n",
       "    <tr>\n",
       "      <th id=\"T_be0e1_level0_row15\" class=\"row_heading level0 row15\" >15</th>\n",
       "      <td id=\"T_be0e1_row15_col0\" class=\"data row15 col0\" >0</td>\n",
       "      <td id=\"T_be0e1_row15_col1\" class=\"data row15 col1\" >0</td>\n",
       "      <td id=\"T_be0e1_row15_col2\" class=\"data row15 col2\" >0</td>\n",
       "      <td id=\"T_be0e1_row15_col3\" class=\"data row15 col3\" >0</td>\n",
       "      <td id=\"T_be0e1_row15_col4\" class=\"data row15 col4\" >0</td>\n",
       "      <td id=\"T_be0e1_row15_col5\" class=\"data row15 col5\" >0</td>\n",
       "      <td id=\"T_be0e1_row15_col6\" class=\"data row15 col6\" >0</td>\n",
       "      <td id=\"T_be0e1_row15_col7\" class=\"data row15 col7\" >0</td>\n",
       "      <td id=\"T_be0e1_row15_col8\" class=\"data row15 col8\" >0</td>\n",
       "      <td id=\"T_be0e1_row15_col9\" class=\"data row15 col9\" >0</td>\n",
       "      <td id=\"T_be0e1_row15_col10\" class=\"data row15 col10\" >0</td>\n",
       "      <td id=\"T_be0e1_row15_col11\" class=\"data row15 col11\" >0</td>\n",
       "      <td id=\"T_be0e1_row15_col12\" class=\"data row15 col12\" >0</td>\n",
       "      <td id=\"T_be0e1_row15_col13\" class=\"data row15 col13\" >0</td>\n",
       "      <td id=\"T_be0e1_row15_col14\" class=\"data row15 col14\" >9</td>\n",
       "      <td id=\"T_be0e1_row15_col15\" class=\"data row15 col15\" >51</td>\n",
       "      <td id=\"T_be0e1_row15_col16\" class=\"data row15 col16\" >119</td>\n",
       "      <td id=\"T_be0e1_row15_col17\" class=\"data row15 col17\" >253</td>\n",
       "      <td id=\"T_be0e1_row15_col18\" class=\"data row15 col18\" >253</td>\n",
       "      <td id=\"T_be0e1_row15_col19\" class=\"data row15 col19\" >253</td>\n",
       "      <td id=\"T_be0e1_row15_col20\" class=\"data row15 col20\" >76</td>\n",
       "      <td id=\"T_be0e1_row15_col21\" class=\"data row15 col21\" >0</td>\n",
       "      <td id=\"T_be0e1_row15_col22\" class=\"data row15 col22\" >0</td>\n",
       "      <td id=\"T_be0e1_row15_col23\" class=\"data row15 col23\" >0</td>\n",
       "      <td id=\"T_be0e1_row15_col24\" class=\"data row15 col24\" >0</td>\n",
       "      <td id=\"T_be0e1_row15_col25\" class=\"data row15 col25\" >0</td>\n",
       "      <td id=\"T_be0e1_row15_col26\" class=\"data row15 col26\" >0</td>\n",
       "      <td id=\"T_be0e1_row15_col27\" class=\"data row15 col27\" >0</td>\n",
       "    </tr>\n",
       "    <tr>\n",
       "      <th id=\"T_be0e1_level0_row16\" class=\"row_heading level0 row16\" >16</th>\n",
       "      <td id=\"T_be0e1_row16_col0\" class=\"data row16 col0\" >0</td>\n",
       "      <td id=\"T_be0e1_row16_col1\" class=\"data row16 col1\" >0</td>\n",
       "      <td id=\"T_be0e1_row16_col2\" class=\"data row16 col2\" >0</td>\n",
       "      <td id=\"T_be0e1_row16_col3\" class=\"data row16 col3\" >0</td>\n",
       "      <td id=\"T_be0e1_row16_col4\" class=\"data row16 col4\" >0</td>\n",
       "      <td id=\"T_be0e1_row16_col5\" class=\"data row16 col5\" >0</td>\n",
       "      <td id=\"T_be0e1_row16_col6\" class=\"data row16 col6\" >0</td>\n",
       "      <td id=\"T_be0e1_row16_col7\" class=\"data row16 col7\" >0</td>\n",
       "      <td id=\"T_be0e1_row16_col8\" class=\"data row16 col8\" >0</td>\n",
       "      <td id=\"T_be0e1_row16_col9\" class=\"data row16 col9\" >0</td>\n",
       "      <td id=\"T_be0e1_row16_col10\" class=\"data row16 col10\" >0</td>\n",
       "      <td id=\"T_be0e1_row16_col11\" class=\"data row16 col11\" >0</td>\n",
       "      <td id=\"T_be0e1_row16_col12\" class=\"data row16 col12\" >0</td>\n",
       "      <td id=\"T_be0e1_row16_col13\" class=\"data row16 col13\" >0</td>\n",
       "      <td id=\"T_be0e1_row16_col14\" class=\"data row16 col14\" >0</td>\n",
       "      <td id=\"T_be0e1_row16_col15\" class=\"data row16 col15\" >0</td>\n",
       "      <td id=\"T_be0e1_row16_col16\" class=\"data row16 col16\" >1</td>\n",
       "      <td id=\"T_be0e1_row16_col17\" class=\"data row16 col17\" >183</td>\n",
       "      <td id=\"T_be0e1_row16_col18\" class=\"data row16 col18\" >253</td>\n",
       "      <td id=\"T_be0e1_row16_col19\" class=\"data row16 col19\" >253</td>\n",
       "      <td id=\"T_be0e1_row16_col20\" class=\"data row16 col20\" >139</td>\n",
       "      <td id=\"T_be0e1_row16_col21\" class=\"data row16 col21\" >0</td>\n",
       "      <td id=\"T_be0e1_row16_col22\" class=\"data row16 col22\" >0</td>\n",
       "      <td id=\"T_be0e1_row16_col23\" class=\"data row16 col23\" >0</td>\n",
       "      <td id=\"T_be0e1_row16_col24\" class=\"data row16 col24\" >0</td>\n",
       "      <td id=\"T_be0e1_row16_col25\" class=\"data row16 col25\" >0</td>\n",
       "      <td id=\"T_be0e1_row16_col26\" class=\"data row16 col26\" >0</td>\n",
       "      <td id=\"T_be0e1_row16_col27\" class=\"data row16 col27\" >0</td>\n",
       "    </tr>\n",
       "    <tr>\n",
       "      <th id=\"T_be0e1_level0_row17\" class=\"row_heading level0 row17\" >17</th>\n",
       "      <td id=\"T_be0e1_row17_col0\" class=\"data row17 col0\" >0</td>\n",
       "      <td id=\"T_be0e1_row17_col1\" class=\"data row17 col1\" >0</td>\n",
       "      <td id=\"T_be0e1_row17_col2\" class=\"data row17 col2\" >0</td>\n",
       "      <td id=\"T_be0e1_row17_col3\" class=\"data row17 col3\" >0</td>\n",
       "      <td id=\"T_be0e1_row17_col4\" class=\"data row17 col4\" >0</td>\n",
       "      <td id=\"T_be0e1_row17_col5\" class=\"data row17 col5\" >0</td>\n",
       "      <td id=\"T_be0e1_row17_col6\" class=\"data row17 col6\" >0</td>\n",
       "      <td id=\"T_be0e1_row17_col7\" class=\"data row17 col7\" >0</td>\n",
       "      <td id=\"T_be0e1_row17_col8\" class=\"data row17 col8\" >0</td>\n",
       "      <td id=\"T_be0e1_row17_col9\" class=\"data row17 col9\" >0</td>\n",
       "      <td id=\"T_be0e1_row17_col10\" class=\"data row17 col10\" >0</td>\n",
       "      <td id=\"T_be0e1_row17_col11\" class=\"data row17 col11\" >0</td>\n",
       "      <td id=\"T_be0e1_row17_col12\" class=\"data row17 col12\" >0</td>\n",
       "      <td id=\"T_be0e1_row17_col13\" class=\"data row17 col13\" >0</td>\n",
       "      <td id=\"T_be0e1_row17_col14\" class=\"data row17 col14\" >0</td>\n",
       "      <td id=\"T_be0e1_row17_col15\" class=\"data row17 col15\" >0</td>\n",
       "      <td id=\"T_be0e1_row17_col16\" class=\"data row17 col16\" >0</td>\n",
       "      <td id=\"T_be0e1_row17_col17\" class=\"data row17 col17\" >182</td>\n",
       "      <td id=\"T_be0e1_row17_col18\" class=\"data row17 col18\" >253</td>\n",
       "      <td id=\"T_be0e1_row17_col19\" class=\"data row17 col19\" >253</td>\n",
       "      <td id=\"T_be0e1_row17_col20\" class=\"data row17 col20\" >104</td>\n",
       "      <td id=\"T_be0e1_row17_col21\" class=\"data row17 col21\" >0</td>\n",
       "      <td id=\"T_be0e1_row17_col22\" class=\"data row17 col22\" >0</td>\n",
       "      <td id=\"T_be0e1_row17_col23\" class=\"data row17 col23\" >0</td>\n",
       "      <td id=\"T_be0e1_row17_col24\" class=\"data row17 col24\" >0</td>\n",
       "      <td id=\"T_be0e1_row17_col25\" class=\"data row17 col25\" >0</td>\n",
       "      <td id=\"T_be0e1_row17_col26\" class=\"data row17 col26\" >0</td>\n",
       "      <td id=\"T_be0e1_row17_col27\" class=\"data row17 col27\" >0</td>\n",
       "    </tr>\n",
       "    <tr>\n",
       "      <th id=\"T_be0e1_level0_row18\" class=\"row_heading level0 row18\" >18</th>\n",
       "      <td id=\"T_be0e1_row18_col0\" class=\"data row18 col0\" >0</td>\n",
       "      <td id=\"T_be0e1_row18_col1\" class=\"data row18 col1\" >0</td>\n",
       "      <td id=\"T_be0e1_row18_col2\" class=\"data row18 col2\" >0</td>\n",
       "      <td id=\"T_be0e1_row18_col3\" class=\"data row18 col3\" >0</td>\n",
       "      <td id=\"T_be0e1_row18_col4\" class=\"data row18 col4\" >0</td>\n",
       "      <td id=\"T_be0e1_row18_col5\" class=\"data row18 col5\" >0</td>\n",
       "      <td id=\"T_be0e1_row18_col6\" class=\"data row18 col6\" >0</td>\n",
       "      <td id=\"T_be0e1_row18_col7\" class=\"data row18 col7\" >0</td>\n",
       "      <td id=\"T_be0e1_row18_col8\" class=\"data row18 col8\" >0</td>\n",
       "      <td id=\"T_be0e1_row18_col9\" class=\"data row18 col9\" >0</td>\n",
       "      <td id=\"T_be0e1_row18_col10\" class=\"data row18 col10\" >0</td>\n",
       "      <td id=\"T_be0e1_row18_col11\" class=\"data row18 col11\" >0</td>\n",
       "      <td id=\"T_be0e1_row18_col12\" class=\"data row18 col12\" >0</td>\n",
       "      <td id=\"T_be0e1_row18_col13\" class=\"data row18 col13\" >0</td>\n",
       "      <td id=\"T_be0e1_row18_col14\" class=\"data row18 col14\" >0</td>\n",
       "      <td id=\"T_be0e1_row18_col15\" class=\"data row18 col15\" >0</td>\n",
       "      <td id=\"T_be0e1_row18_col16\" class=\"data row18 col16\" >85</td>\n",
       "      <td id=\"T_be0e1_row18_col17\" class=\"data row18 col17\" >249</td>\n",
       "      <td id=\"T_be0e1_row18_col18\" class=\"data row18 col18\" >253</td>\n",
       "      <td id=\"T_be0e1_row18_col19\" class=\"data row18 col19\" >253</td>\n",
       "      <td id=\"T_be0e1_row18_col20\" class=\"data row18 col20\" >36</td>\n",
       "      <td id=\"T_be0e1_row18_col21\" class=\"data row18 col21\" >0</td>\n",
       "      <td id=\"T_be0e1_row18_col22\" class=\"data row18 col22\" >0</td>\n",
       "      <td id=\"T_be0e1_row18_col23\" class=\"data row18 col23\" >0</td>\n",
       "      <td id=\"T_be0e1_row18_col24\" class=\"data row18 col24\" >0</td>\n",
       "      <td id=\"T_be0e1_row18_col25\" class=\"data row18 col25\" >0</td>\n",
       "      <td id=\"T_be0e1_row18_col26\" class=\"data row18 col26\" >0</td>\n",
       "      <td id=\"T_be0e1_row18_col27\" class=\"data row18 col27\" >0</td>\n",
       "    </tr>\n",
       "    <tr>\n",
       "      <th id=\"T_be0e1_level0_row19\" class=\"row_heading level0 row19\" >19</th>\n",
       "      <td id=\"T_be0e1_row19_col0\" class=\"data row19 col0\" >0</td>\n",
       "      <td id=\"T_be0e1_row19_col1\" class=\"data row19 col1\" >0</td>\n",
       "      <td id=\"T_be0e1_row19_col2\" class=\"data row19 col2\" >0</td>\n",
       "      <td id=\"T_be0e1_row19_col3\" class=\"data row19 col3\" >0</td>\n",
       "      <td id=\"T_be0e1_row19_col4\" class=\"data row19 col4\" >0</td>\n",
       "      <td id=\"T_be0e1_row19_col5\" class=\"data row19 col5\" >0</td>\n",
       "      <td id=\"T_be0e1_row19_col6\" class=\"data row19 col6\" >0</td>\n",
       "      <td id=\"T_be0e1_row19_col7\" class=\"data row19 col7\" >0</td>\n",
       "      <td id=\"T_be0e1_row19_col8\" class=\"data row19 col8\" >0</td>\n",
       "      <td id=\"T_be0e1_row19_col9\" class=\"data row19 col9\" >0</td>\n",
       "      <td id=\"T_be0e1_row19_col10\" class=\"data row19 col10\" >0</td>\n",
       "      <td id=\"T_be0e1_row19_col11\" class=\"data row19 col11\" >0</td>\n",
       "      <td id=\"T_be0e1_row19_col12\" class=\"data row19 col12\" >0</td>\n",
       "      <td id=\"T_be0e1_row19_col13\" class=\"data row19 col13\" >0</td>\n",
       "      <td id=\"T_be0e1_row19_col14\" class=\"data row19 col14\" >0</td>\n",
       "      <td id=\"T_be0e1_row19_col15\" class=\"data row19 col15\" >60</td>\n",
       "      <td id=\"T_be0e1_row19_col16\" class=\"data row19 col16\" >214</td>\n",
       "      <td id=\"T_be0e1_row19_col17\" class=\"data row19 col17\" >253</td>\n",
       "      <td id=\"T_be0e1_row19_col18\" class=\"data row19 col18\" >253</td>\n",
       "      <td id=\"T_be0e1_row19_col19\" class=\"data row19 col19\" >173</td>\n",
       "      <td id=\"T_be0e1_row19_col20\" class=\"data row19 col20\" >11</td>\n",
       "      <td id=\"T_be0e1_row19_col21\" class=\"data row19 col21\" >0</td>\n",
       "      <td id=\"T_be0e1_row19_col22\" class=\"data row19 col22\" >0</td>\n",
       "      <td id=\"T_be0e1_row19_col23\" class=\"data row19 col23\" >0</td>\n",
       "      <td id=\"T_be0e1_row19_col24\" class=\"data row19 col24\" >0</td>\n",
       "      <td id=\"T_be0e1_row19_col25\" class=\"data row19 col25\" >0</td>\n",
       "      <td id=\"T_be0e1_row19_col26\" class=\"data row19 col26\" >0</td>\n",
       "      <td id=\"T_be0e1_row19_col27\" class=\"data row19 col27\" >0</td>\n",
       "    </tr>\n",
       "    <tr>\n",
       "      <th id=\"T_be0e1_level0_row20\" class=\"row_heading level0 row20\" >20</th>\n",
       "      <td id=\"T_be0e1_row20_col0\" class=\"data row20 col0\" >0</td>\n",
       "      <td id=\"T_be0e1_row20_col1\" class=\"data row20 col1\" >0</td>\n",
       "      <td id=\"T_be0e1_row20_col2\" class=\"data row20 col2\" >0</td>\n",
       "      <td id=\"T_be0e1_row20_col3\" class=\"data row20 col3\" >0</td>\n",
       "      <td id=\"T_be0e1_row20_col4\" class=\"data row20 col4\" >0</td>\n",
       "      <td id=\"T_be0e1_row20_col5\" class=\"data row20 col5\" >0</td>\n",
       "      <td id=\"T_be0e1_row20_col6\" class=\"data row20 col6\" >0</td>\n",
       "      <td id=\"T_be0e1_row20_col7\" class=\"data row20 col7\" >0</td>\n",
       "      <td id=\"T_be0e1_row20_col8\" class=\"data row20 col8\" >0</td>\n",
       "      <td id=\"T_be0e1_row20_col9\" class=\"data row20 col9\" >0</td>\n",
       "      <td id=\"T_be0e1_row20_col10\" class=\"data row20 col10\" >0</td>\n",
       "      <td id=\"T_be0e1_row20_col11\" class=\"data row20 col11\" >0</td>\n",
       "      <td id=\"T_be0e1_row20_col12\" class=\"data row20 col12\" >0</td>\n",
       "      <td id=\"T_be0e1_row20_col13\" class=\"data row20 col13\" >0</td>\n",
       "      <td id=\"T_be0e1_row20_col14\" class=\"data row20 col14\" >98</td>\n",
       "      <td id=\"T_be0e1_row20_col15\" class=\"data row20 col15\" >247</td>\n",
       "      <td id=\"T_be0e1_row20_col16\" class=\"data row20 col16\" >253</td>\n",
       "      <td id=\"T_be0e1_row20_col17\" class=\"data row20 col17\" >253</td>\n",
       "      <td id=\"T_be0e1_row20_col18\" class=\"data row20 col18\" >226</td>\n",
       "      <td id=\"T_be0e1_row20_col19\" class=\"data row20 col19\" >9</td>\n",
       "      <td id=\"T_be0e1_row20_col20\" class=\"data row20 col20\" >0</td>\n",
       "      <td id=\"T_be0e1_row20_col21\" class=\"data row20 col21\" >0</td>\n",
       "      <td id=\"T_be0e1_row20_col22\" class=\"data row20 col22\" >0</td>\n",
       "      <td id=\"T_be0e1_row20_col23\" class=\"data row20 col23\" >0</td>\n",
       "      <td id=\"T_be0e1_row20_col24\" class=\"data row20 col24\" >0</td>\n",
       "      <td id=\"T_be0e1_row20_col25\" class=\"data row20 col25\" >0</td>\n",
       "      <td id=\"T_be0e1_row20_col26\" class=\"data row20 col26\" >0</td>\n",
       "      <td id=\"T_be0e1_row20_col27\" class=\"data row20 col27\" >0</td>\n",
       "    </tr>\n",
       "    <tr>\n",
       "      <th id=\"T_be0e1_level0_row21\" class=\"row_heading level0 row21\" >21</th>\n",
       "      <td id=\"T_be0e1_row21_col0\" class=\"data row21 col0\" >0</td>\n",
       "      <td id=\"T_be0e1_row21_col1\" class=\"data row21 col1\" >0</td>\n",
       "      <td id=\"T_be0e1_row21_col2\" class=\"data row21 col2\" >0</td>\n",
       "      <td id=\"T_be0e1_row21_col3\" class=\"data row21 col3\" >0</td>\n",
       "      <td id=\"T_be0e1_row21_col4\" class=\"data row21 col4\" >0</td>\n",
       "      <td id=\"T_be0e1_row21_col5\" class=\"data row21 col5\" >0</td>\n",
       "      <td id=\"T_be0e1_row21_col6\" class=\"data row21 col6\" >0</td>\n",
       "      <td id=\"T_be0e1_row21_col7\" class=\"data row21 col7\" >0</td>\n",
       "      <td id=\"T_be0e1_row21_col8\" class=\"data row21 col8\" >0</td>\n",
       "      <td id=\"T_be0e1_row21_col9\" class=\"data row21 col9\" >0</td>\n",
       "      <td id=\"T_be0e1_row21_col10\" class=\"data row21 col10\" >0</td>\n",
       "      <td id=\"T_be0e1_row21_col11\" class=\"data row21 col11\" >0</td>\n",
       "      <td id=\"T_be0e1_row21_col12\" class=\"data row21 col12\" >42</td>\n",
       "      <td id=\"T_be0e1_row21_col13\" class=\"data row21 col13\" >150</td>\n",
       "      <td id=\"T_be0e1_row21_col14\" class=\"data row21 col14\" >252</td>\n",
       "      <td id=\"T_be0e1_row21_col15\" class=\"data row21 col15\" >253</td>\n",
       "      <td id=\"T_be0e1_row21_col16\" class=\"data row21 col16\" >253</td>\n",
       "      <td id=\"T_be0e1_row21_col17\" class=\"data row21 col17\" >233</td>\n",
       "      <td id=\"T_be0e1_row21_col18\" class=\"data row21 col18\" >53</td>\n",
       "      <td id=\"T_be0e1_row21_col19\" class=\"data row21 col19\" >0</td>\n",
       "      <td id=\"T_be0e1_row21_col20\" class=\"data row21 col20\" >0</td>\n",
       "      <td id=\"T_be0e1_row21_col21\" class=\"data row21 col21\" >0</td>\n",
       "      <td id=\"T_be0e1_row21_col22\" class=\"data row21 col22\" >0</td>\n",
       "      <td id=\"T_be0e1_row21_col23\" class=\"data row21 col23\" >0</td>\n",
       "      <td id=\"T_be0e1_row21_col24\" class=\"data row21 col24\" >0</td>\n",
       "      <td id=\"T_be0e1_row21_col25\" class=\"data row21 col25\" >0</td>\n",
       "      <td id=\"T_be0e1_row21_col26\" class=\"data row21 col26\" >0</td>\n",
       "      <td id=\"T_be0e1_row21_col27\" class=\"data row21 col27\" >0</td>\n",
       "    </tr>\n",
       "    <tr>\n",
       "      <th id=\"T_be0e1_level0_row22\" class=\"row_heading level0 row22\" >22</th>\n",
       "      <td id=\"T_be0e1_row22_col0\" class=\"data row22 col0\" >0</td>\n",
       "      <td id=\"T_be0e1_row22_col1\" class=\"data row22 col1\" >0</td>\n",
       "      <td id=\"T_be0e1_row22_col2\" class=\"data row22 col2\" >0</td>\n",
       "      <td id=\"T_be0e1_row22_col3\" class=\"data row22 col3\" >0</td>\n",
       "      <td id=\"T_be0e1_row22_col4\" class=\"data row22 col4\" >0</td>\n",
       "      <td id=\"T_be0e1_row22_col5\" class=\"data row22 col5\" >0</td>\n",
       "      <td id=\"T_be0e1_row22_col6\" class=\"data row22 col6\" >42</td>\n",
       "      <td id=\"T_be0e1_row22_col7\" class=\"data row22 col7\" >115</td>\n",
       "      <td id=\"T_be0e1_row22_col8\" class=\"data row22 col8\" >42</td>\n",
       "      <td id=\"T_be0e1_row22_col9\" class=\"data row22 col9\" >60</td>\n",
       "      <td id=\"T_be0e1_row22_col10\" class=\"data row22 col10\" >115</td>\n",
       "      <td id=\"T_be0e1_row22_col11\" class=\"data row22 col11\" >159</td>\n",
       "      <td id=\"T_be0e1_row22_col12\" class=\"data row22 col12\" >240</td>\n",
       "      <td id=\"T_be0e1_row22_col13\" class=\"data row22 col13\" >253</td>\n",
       "      <td id=\"T_be0e1_row22_col14\" class=\"data row22 col14\" >253</td>\n",
       "      <td id=\"T_be0e1_row22_col15\" class=\"data row22 col15\" >250</td>\n",
       "      <td id=\"T_be0e1_row22_col16\" class=\"data row22 col16\" >175</td>\n",
       "      <td id=\"T_be0e1_row22_col17\" class=\"data row22 col17\" >25</td>\n",
       "      <td id=\"T_be0e1_row22_col18\" class=\"data row22 col18\" >0</td>\n",
       "      <td id=\"T_be0e1_row22_col19\" class=\"data row22 col19\" >0</td>\n",
       "      <td id=\"T_be0e1_row22_col20\" class=\"data row22 col20\" >0</td>\n",
       "      <td id=\"T_be0e1_row22_col21\" class=\"data row22 col21\" >0</td>\n",
       "      <td id=\"T_be0e1_row22_col22\" class=\"data row22 col22\" >0</td>\n",
       "      <td id=\"T_be0e1_row22_col23\" class=\"data row22 col23\" >0</td>\n",
       "      <td id=\"T_be0e1_row22_col24\" class=\"data row22 col24\" >0</td>\n",
       "      <td id=\"T_be0e1_row22_col25\" class=\"data row22 col25\" >0</td>\n",
       "      <td id=\"T_be0e1_row22_col26\" class=\"data row22 col26\" >0</td>\n",
       "      <td id=\"T_be0e1_row22_col27\" class=\"data row22 col27\" >0</td>\n",
       "    </tr>\n",
       "    <tr>\n",
       "      <th id=\"T_be0e1_level0_row23\" class=\"row_heading level0 row23\" >23</th>\n",
       "      <td id=\"T_be0e1_row23_col0\" class=\"data row23 col0\" >0</td>\n",
       "      <td id=\"T_be0e1_row23_col1\" class=\"data row23 col1\" >0</td>\n",
       "      <td id=\"T_be0e1_row23_col2\" class=\"data row23 col2\" >0</td>\n",
       "      <td id=\"T_be0e1_row23_col3\" class=\"data row23 col3\" >0</td>\n",
       "      <td id=\"T_be0e1_row23_col4\" class=\"data row23 col4\" >0</td>\n",
       "      <td id=\"T_be0e1_row23_col5\" class=\"data row23 col5\" >0</td>\n",
       "      <td id=\"T_be0e1_row23_col6\" class=\"data row23 col6\" >187</td>\n",
       "      <td id=\"T_be0e1_row23_col7\" class=\"data row23 col7\" >253</td>\n",
       "      <td id=\"T_be0e1_row23_col8\" class=\"data row23 col8\" >253</td>\n",
       "      <td id=\"T_be0e1_row23_col9\" class=\"data row23 col9\" >253</td>\n",
       "      <td id=\"T_be0e1_row23_col10\" class=\"data row23 col10\" >253</td>\n",
       "      <td id=\"T_be0e1_row23_col11\" class=\"data row23 col11\" >253</td>\n",
       "      <td id=\"T_be0e1_row23_col12\" class=\"data row23 col12\" >253</td>\n",
       "      <td id=\"T_be0e1_row23_col13\" class=\"data row23 col13\" >253</td>\n",
       "      <td id=\"T_be0e1_row23_col14\" class=\"data row23 col14\" >197</td>\n",
       "      <td id=\"T_be0e1_row23_col15\" class=\"data row23 col15\" >86</td>\n",
       "      <td id=\"T_be0e1_row23_col16\" class=\"data row23 col16\" >0</td>\n",
       "      <td id=\"T_be0e1_row23_col17\" class=\"data row23 col17\" >0</td>\n",
       "      <td id=\"T_be0e1_row23_col18\" class=\"data row23 col18\" >0</td>\n",
       "      <td id=\"T_be0e1_row23_col19\" class=\"data row23 col19\" >0</td>\n",
       "      <td id=\"T_be0e1_row23_col20\" class=\"data row23 col20\" >0</td>\n",
       "      <td id=\"T_be0e1_row23_col21\" class=\"data row23 col21\" >0</td>\n",
       "      <td id=\"T_be0e1_row23_col22\" class=\"data row23 col22\" >0</td>\n",
       "      <td id=\"T_be0e1_row23_col23\" class=\"data row23 col23\" >0</td>\n",
       "      <td id=\"T_be0e1_row23_col24\" class=\"data row23 col24\" >0</td>\n",
       "      <td id=\"T_be0e1_row23_col25\" class=\"data row23 col25\" >0</td>\n",
       "      <td id=\"T_be0e1_row23_col26\" class=\"data row23 col26\" >0</td>\n",
       "      <td id=\"T_be0e1_row23_col27\" class=\"data row23 col27\" >0</td>\n",
       "    </tr>\n",
       "    <tr>\n",
       "      <th id=\"T_be0e1_level0_row24\" class=\"row_heading level0 row24\" >24</th>\n",
       "      <td id=\"T_be0e1_row24_col0\" class=\"data row24 col0\" >0</td>\n",
       "      <td id=\"T_be0e1_row24_col1\" class=\"data row24 col1\" >0</td>\n",
       "      <td id=\"T_be0e1_row24_col2\" class=\"data row24 col2\" >0</td>\n",
       "      <td id=\"T_be0e1_row24_col3\" class=\"data row24 col3\" >0</td>\n",
       "      <td id=\"T_be0e1_row24_col4\" class=\"data row24 col4\" >0</td>\n",
       "      <td id=\"T_be0e1_row24_col5\" class=\"data row24 col5\" >0</td>\n",
       "      <td id=\"T_be0e1_row24_col6\" class=\"data row24 col6\" >103</td>\n",
       "      <td id=\"T_be0e1_row24_col7\" class=\"data row24 col7\" >253</td>\n",
       "      <td id=\"T_be0e1_row24_col8\" class=\"data row24 col8\" >253</td>\n",
       "      <td id=\"T_be0e1_row24_col9\" class=\"data row24 col9\" >253</td>\n",
       "      <td id=\"T_be0e1_row24_col10\" class=\"data row24 col10\" >253</td>\n",
       "      <td id=\"T_be0e1_row24_col11\" class=\"data row24 col11\" >253</td>\n",
       "      <td id=\"T_be0e1_row24_col12\" class=\"data row24 col12\" >232</td>\n",
       "      <td id=\"T_be0e1_row24_col13\" class=\"data row24 col13\" >67</td>\n",
       "      <td id=\"T_be0e1_row24_col14\" class=\"data row24 col14\" >1</td>\n",
       "      <td id=\"T_be0e1_row24_col15\" class=\"data row24 col15\" >0</td>\n",
       "      <td id=\"T_be0e1_row24_col16\" class=\"data row24 col16\" >0</td>\n",
       "      <td id=\"T_be0e1_row24_col17\" class=\"data row24 col17\" >0</td>\n",
       "      <td id=\"T_be0e1_row24_col18\" class=\"data row24 col18\" >0</td>\n",
       "      <td id=\"T_be0e1_row24_col19\" class=\"data row24 col19\" >0</td>\n",
       "      <td id=\"T_be0e1_row24_col20\" class=\"data row24 col20\" >0</td>\n",
       "      <td id=\"T_be0e1_row24_col21\" class=\"data row24 col21\" >0</td>\n",
       "      <td id=\"T_be0e1_row24_col22\" class=\"data row24 col22\" >0</td>\n",
       "      <td id=\"T_be0e1_row24_col23\" class=\"data row24 col23\" >0</td>\n",
       "      <td id=\"T_be0e1_row24_col24\" class=\"data row24 col24\" >0</td>\n",
       "      <td id=\"T_be0e1_row24_col25\" class=\"data row24 col25\" >0</td>\n",
       "      <td id=\"T_be0e1_row24_col26\" class=\"data row24 col26\" >0</td>\n",
       "      <td id=\"T_be0e1_row24_col27\" class=\"data row24 col27\" >0</td>\n",
       "    </tr>\n",
       "    <tr>\n",
       "      <th id=\"T_be0e1_level0_row25\" class=\"row_heading level0 row25\" >25</th>\n",
       "      <td id=\"T_be0e1_row25_col0\" class=\"data row25 col0\" >0</td>\n",
       "      <td id=\"T_be0e1_row25_col1\" class=\"data row25 col1\" >0</td>\n",
       "      <td id=\"T_be0e1_row25_col2\" class=\"data row25 col2\" >0</td>\n",
       "      <td id=\"T_be0e1_row25_col3\" class=\"data row25 col3\" >0</td>\n",
       "      <td id=\"T_be0e1_row25_col4\" class=\"data row25 col4\" >0</td>\n",
       "      <td id=\"T_be0e1_row25_col5\" class=\"data row25 col5\" >0</td>\n",
       "      <td id=\"T_be0e1_row25_col6\" class=\"data row25 col6\" >0</td>\n",
       "      <td id=\"T_be0e1_row25_col7\" class=\"data row25 col7\" >0</td>\n",
       "      <td id=\"T_be0e1_row25_col8\" class=\"data row25 col8\" >0</td>\n",
       "      <td id=\"T_be0e1_row25_col9\" class=\"data row25 col9\" >0</td>\n",
       "      <td id=\"T_be0e1_row25_col10\" class=\"data row25 col10\" >0</td>\n",
       "      <td id=\"T_be0e1_row25_col11\" class=\"data row25 col11\" >0</td>\n",
       "      <td id=\"T_be0e1_row25_col12\" class=\"data row25 col12\" >0</td>\n",
       "      <td id=\"T_be0e1_row25_col13\" class=\"data row25 col13\" >0</td>\n",
       "      <td id=\"T_be0e1_row25_col14\" class=\"data row25 col14\" >0</td>\n",
       "      <td id=\"T_be0e1_row25_col15\" class=\"data row25 col15\" >0</td>\n",
       "      <td id=\"T_be0e1_row25_col16\" class=\"data row25 col16\" >0</td>\n",
       "      <td id=\"T_be0e1_row25_col17\" class=\"data row25 col17\" >0</td>\n",
       "      <td id=\"T_be0e1_row25_col18\" class=\"data row25 col18\" >0</td>\n",
       "      <td id=\"T_be0e1_row25_col19\" class=\"data row25 col19\" >0</td>\n",
       "      <td id=\"T_be0e1_row25_col20\" class=\"data row25 col20\" >0</td>\n",
       "      <td id=\"T_be0e1_row25_col21\" class=\"data row25 col21\" >0</td>\n",
       "      <td id=\"T_be0e1_row25_col22\" class=\"data row25 col22\" >0</td>\n",
       "      <td id=\"T_be0e1_row25_col23\" class=\"data row25 col23\" >0</td>\n",
       "      <td id=\"T_be0e1_row25_col24\" class=\"data row25 col24\" >0</td>\n",
       "      <td id=\"T_be0e1_row25_col25\" class=\"data row25 col25\" >0</td>\n",
       "      <td id=\"T_be0e1_row25_col26\" class=\"data row25 col26\" >0</td>\n",
       "      <td id=\"T_be0e1_row25_col27\" class=\"data row25 col27\" >0</td>\n",
       "    </tr>\n",
       "    <tr>\n",
       "      <th id=\"T_be0e1_level0_row26\" class=\"row_heading level0 row26\" >26</th>\n",
       "      <td id=\"T_be0e1_row26_col0\" class=\"data row26 col0\" >0</td>\n",
       "      <td id=\"T_be0e1_row26_col1\" class=\"data row26 col1\" >0</td>\n",
       "      <td id=\"T_be0e1_row26_col2\" class=\"data row26 col2\" >0</td>\n",
       "      <td id=\"T_be0e1_row26_col3\" class=\"data row26 col3\" >0</td>\n",
       "      <td id=\"T_be0e1_row26_col4\" class=\"data row26 col4\" >0</td>\n",
       "      <td id=\"T_be0e1_row26_col5\" class=\"data row26 col5\" >0</td>\n",
       "      <td id=\"T_be0e1_row26_col6\" class=\"data row26 col6\" >0</td>\n",
       "      <td id=\"T_be0e1_row26_col7\" class=\"data row26 col7\" >0</td>\n",
       "      <td id=\"T_be0e1_row26_col8\" class=\"data row26 col8\" >0</td>\n",
       "      <td id=\"T_be0e1_row26_col9\" class=\"data row26 col9\" >0</td>\n",
       "      <td id=\"T_be0e1_row26_col10\" class=\"data row26 col10\" >0</td>\n",
       "      <td id=\"T_be0e1_row26_col11\" class=\"data row26 col11\" >0</td>\n",
       "      <td id=\"T_be0e1_row26_col12\" class=\"data row26 col12\" >0</td>\n",
       "      <td id=\"T_be0e1_row26_col13\" class=\"data row26 col13\" >0</td>\n",
       "      <td id=\"T_be0e1_row26_col14\" class=\"data row26 col14\" >0</td>\n",
       "      <td id=\"T_be0e1_row26_col15\" class=\"data row26 col15\" >0</td>\n",
       "      <td id=\"T_be0e1_row26_col16\" class=\"data row26 col16\" >0</td>\n",
       "      <td id=\"T_be0e1_row26_col17\" class=\"data row26 col17\" >0</td>\n",
       "      <td id=\"T_be0e1_row26_col18\" class=\"data row26 col18\" >0</td>\n",
       "      <td id=\"T_be0e1_row26_col19\" class=\"data row26 col19\" >0</td>\n",
       "      <td id=\"T_be0e1_row26_col20\" class=\"data row26 col20\" >0</td>\n",
       "      <td id=\"T_be0e1_row26_col21\" class=\"data row26 col21\" >0</td>\n",
       "      <td id=\"T_be0e1_row26_col22\" class=\"data row26 col22\" >0</td>\n",
       "      <td id=\"T_be0e1_row26_col23\" class=\"data row26 col23\" >0</td>\n",
       "      <td id=\"T_be0e1_row26_col24\" class=\"data row26 col24\" >0</td>\n",
       "      <td id=\"T_be0e1_row26_col25\" class=\"data row26 col25\" >0</td>\n",
       "      <td id=\"T_be0e1_row26_col26\" class=\"data row26 col26\" >0</td>\n",
       "      <td id=\"T_be0e1_row26_col27\" class=\"data row26 col27\" >0</td>\n",
       "    </tr>\n",
       "    <tr>\n",
       "      <th id=\"T_be0e1_level0_row27\" class=\"row_heading level0 row27\" >27</th>\n",
       "      <td id=\"T_be0e1_row27_col0\" class=\"data row27 col0\" >0</td>\n",
       "      <td id=\"T_be0e1_row27_col1\" class=\"data row27 col1\" >0</td>\n",
       "      <td id=\"T_be0e1_row27_col2\" class=\"data row27 col2\" >0</td>\n",
       "      <td id=\"T_be0e1_row27_col3\" class=\"data row27 col3\" >0</td>\n",
       "      <td id=\"T_be0e1_row27_col4\" class=\"data row27 col4\" >0</td>\n",
       "      <td id=\"T_be0e1_row27_col5\" class=\"data row27 col5\" >0</td>\n",
       "      <td id=\"T_be0e1_row27_col6\" class=\"data row27 col6\" >0</td>\n",
       "      <td id=\"T_be0e1_row27_col7\" class=\"data row27 col7\" >0</td>\n",
       "      <td id=\"T_be0e1_row27_col8\" class=\"data row27 col8\" >0</td>\n",
       "      <td id=\"T_be0e1_row27_col9\" class=\"data row27 col9\" >0</td>\n",
       "      <td id=\"T_be0e1_row27_col10\" class=\"data row27 col10\" >0</td>\n",
       "      <td id=\"T_be0e1_row27_col11\" class=\"data row27 col11\" >0</td>\n",
       "      <td id=\"T_be0e1_row27_col12\" class=\"data row27 col12\" >0</td>\n",
       "      <td id=\"T_be0e1_row27_col13\" class=\"data row27 col13\" >0</td>\n",
       "      <td id=\"T_be0e1_row27_col14\" class=\"data row27 col14\" >0</td>\n",
       "      <td id=\"T_be0e1_row27_col15\" class=\"data row27 col15\" >0</td>\n",
       "      <td id=\"T_be0e1_row27_col16\" class=\"data row27 col16\" >0</td>\n",
       "      <td id=\"T_be0e1_row27_col17\" class=\"data row27 col17\" >0</td>\n",
       "      <td id=\"T_be0e1_row27_col18\" class=\"data row27 col18\" >0</td>\n",
       "      <td id=\"T_be0e1_row27_col19\" class=\"data row27 col19\" >0</td>\n",
       "      <td id=\"T_be0e1_row27_col20\" class=\"data row27 col20\" >0</td>\n",
       "      <td id=\"T_be0e1_row27_col21\" class=\"data row27 col21\" >0</td>\n",
       "      <td id=\"T_be0e1_row27_col22\" class=\"data row27 col22\" >0</td>\n",
       "      <td id=\"T_be0e1_row27_col23\" class=\"data row27 col23\" >0</td>\n",
       "      <td id=\"T_be0e1_row27_col24\" class=\"data row27 col24\" >0</td>\n",
       "      <td id=\"T_be0e1_row27_col25\" class=\"data row27 col25\" >0</td>\n",
       "      <td id=\"T_be0e1_row27_col26\" class=\"data row27 col26\" >0</td>\n",
       "      <td id=\"T_be0e1_row27_col27\" class=\"data row27 col27\" >0</td>\n",
       "    </tr>\n",
       "  </tbody>\n",
       "</table>\n"
      ],
      "text/plain": [
       "<pandas.io.formats.style.Styler at 0x29f35db10>"
      ]
     },
     "execution_count": 15,
     "metadata": {},
     "output_type": "execute_result"
    }
   ],
   "source": [
    "df = pd.DataFrame(im3_t)\n",
    "df.style.set_properties(**{'font-size':'6pt'}).background_gradient('Greys')"
   ]
  },
  {
   "cell_type": "markdown",
   "metadata": {},
   "source": [
    "How could a computer determine which ones are 3s and which ones are 7s?\n",
    "\n",
    "We have a 2x2 array of numbers for each only representing a 3 or 7\n",
    "\n",
    "So yeah you could do averages and that would probably do good enough for 3 or 7\n",
    "\n",
    "You could take the average value of each square then subtract the difference between the average number and the one you are inspecting. Then see if you have a higher loss between 3 or 7\n",
    "\n"
   ]
  },
  {
   "cell_type": "code",
   "execution_count": 16,
   "metadata": {},
   "outputs": [],
   "source": [
    "seven_tensors = [tensor(vis.Image.open(o)) for o in sevens]\n",
    "three_tensors = [tensor(vis.Image.open(o)) for o in threes]"
   ]
  },
  {
   "cell_type": "code",
   "execution_count": 17,
   "metadata": {},
   "outputs": [
    {
     "data": {
      "text/plain": [
       "(6131, 6265)"
      ]
     },
     "execution_count": 17,
     "metadata": {},
     "output_type": "execute_result"
    }
   ],
   "source": [
    "len(three_tensors), len(seven_tensors)"
   ]
  },
  {
   "cell_type": "code",
   "execution_count": 18,
   "metadata": {},
   "outputs": [
    {
     "data": {
      "text/plain": [
       "tensor([[  0,   0,   0,   0,   0,   0,   0,   0,   0,   0,   0,   0,   0,   0,   0,   0,   0,   0,   0,   0,   0,   0,   0,   0,   0,   0,   0,   0],\n",
       "        [  0,   0,   0,   0,   0,   0,   0,   0,   0,   0,   0,   0,   0,   0,   0,   0,   0,   0,   0,   0,   0,   0,   0,   0,   0,   0,   0,   0],\n",
       "        [  0,   0,   0,   0,   0,   0,   0,   0,   0,   0,   0,   0,   0,   0,   0,   0,   0,   0,   0,   0,   0,   0,   0,   0,   0,   0,   0,   0],\n",
       "        [  0,   0,   0,   0,   0,   0,   0,   0,   0,   0,   0,   0,   0,   0,   0,   0,   0,   0,   0,   0,   0,   0,   0,   0,   0,   0,   0,   0],\n",
       "        [  0,   0,   0,   0,   0,   0,   0,   0,   0,   0,   0,   0,   0,   0,   0,   0,   0,   0,   0,   0,   0,   0,   0,   0,   0,   0,   0,   0],\n",
       "        [  0,   0,   0,   0,   0,   0,   0,   0,   0,  29, 150, 195, 254, 255, 254, 176, 193, 150,  96,   0,   0,   0,   0,   0,   0,   0,   0,   0],\n",
       "        [  0,   0,   0,   0,   0,   0,   0,  48, 166, 224, 253, 253, 234, 196, 253, 253, 253, 253, 233,   0,   0,   0,   0,   0,   0,   0,   0,   0],\n",
       "        [  0,   0,   0,   0,   0,  93, 244, 249, 253, 187,  46,  10,   8,   4,  10, 194, 253, 253, 233,   0,   0,   0,   0,   0,   0,   0,   0,   0],\n",
       "        [  0,   0,   0,   0,   0, 107, 253, 253, 230,  48,   0,   0,   0,   0,   0, 192, 253, 253, 156,   0,   0,   0,   0,   0,   0,   0,   0,   0],\n",
       "        [  0,   0,   0,   0,   0,   3,  20,  20,  15,   0,   0,   0,   0,   0,  43, 224, 253, 245,  74,   0,   0,   0,   0,   0,   0,   0,   0,   0],\n",
       "        [  0,   0,   0,   0,   0,   0,   0,   0,   0,   0,   0,   0,   0,   0, 249, 253, 245, 126,   0,   0,   0,   0,   0,   0,   0,   0,   0,   0],\n",
       "        [  0,   0,   0,   0,   0,   0,   0,   0,   0,   0,   0,  14, 101, 223, 253, 248, 124,   0,   0,   0,   0,   0,   0,   0,   0,   0,   0,   0],\n",
       "        [  0,   0,   0,   0,   0,   0,   0,   0,   0,  11, 166, 239, 253, 253, 253, 187,  30,   0,   0,   0,   0,   0,   0,   0,   0,   0,   0,   0],\n",
       "        [  0,   0,   0,   0,   0,   0,   0,   0,   0,  16, 248, 250, 253, 253, 253, 253, 232, 213, 111,   2,   0,   0,   0,   0,   0,   0,   0,   0],\n",
       "        [  0,   0,   0,   0,   0,   0,   0,   0,   0,   0,   0,  43,  98,  98, 208, 253, 253, 253, 253, 187,  22,   0,   0,   0,   0,   0,   0,   0],\n",
       "        [  0,   0,   0,   0,   0,   0,   0,   0,   0,   0,   0,   0,   0,   0,   9,  51, 119, 253, 253, 253,  76,   0,   0,   0,   0,   0,   0,   0],\n",
       "        [  0,   0,   0,   0,   0,   0,   0,   0,   0,   0,   0,   0,   0,   0,   0,   0,   1, 183, 253, 253, 139,   0,   0,   0,   0,   0,   0,   0],\n",
       "        [  0,   0,   0,   0,   0,   0,   0,   0,   0,   0,   0,   0,   0,   0,   0,   0,   0, 182, 253, 253, 104,   0,   0,   0,   0,   0,   0,   0],\n",
       "        [  0,   0,   0,   0,   0,   0,   0,   0,   0,   0,   0,   0,   0,   0,   0,   0,  85, 249, 253, 253,  36,   0,   0,   0,   0,   0,   0,   0],\n",
       "        [  0,   0,   0,   0,   0,   0,   0,   0,   0,   0,   0,   0,   0,   0,   0,  60, 214, 253, 253, 173,  11,   0,   0,   0,   0,   0,   0,   0],\n",
       "        [  0,   0,   0,   0,   0,   0,   0,   0,   0,   0,   0,   0,   0,   0,  98, 247, 253, 253, 226,   9,   0,   0,   0,   0,   0,   0,   0,   0],\n",
       "        [  0,   0,   0,   0,   0,   0,   0,   0,   0,   0,   0,   0,  42, 150, 252, 253, 253, 233,  53,   0,   0,   0,   0,   0,   0,   0,   0,   0],\n",
       "        [  0,   0,   0,   0,   0,   0,  42, 115,  42,  60, 115, 159, 240, 253, 253, 250, 175,  25,   0,   0,   0,   0,   0,   0,   0,   0,   0,   0],\n",
       "        [  0,   0,   0,   0,   0,   0, 187, 253, 253, 253, 253, 253, 253, 253, 197,  86,   0,   0,   0,   0,   0,   0,   0,   0,   0,   0,   0,   0],\n",
       "        [  0,   0,   0,   0,   0,   0, 103, 253, 253, 253, 253, 253, 232,  67,   1,   0,   0,   0,   0,   0,   0,   0,   0,   0,   0,   0,   0,   0],\n",
       "        [  0,   0,   0,   0,   0,   0,   0,   0,   0,   0,   0,   0,   0,   0,   0,   0,   0,   0,   0,   0,   0,   0,   0,   0,   0,   0,   0,   0],\n",
       "        [  0,   0,   0,   0,   0,   0,   0,   0,   0,   0,   0,   0,   0,   0,   0,   0,   0,   0,   0,   0,   0,   0,   0,   0,   0,   0,   0,   0],\n",
       "        [  0,   0,   0,   0,   0,   0,   0,   0,   0,   0,   0,   0,   0,   0,   0,   0,   0,   0,   0,   0,   0,   0,   0,   0,   0,   0,   0,   0]], dtype=torch.uint8)"
      ]
     },
     "execution_count": 18,
     "metadata": {},
     "output_type": "execute_result"
    }
   ],
   "source": [
    "three_tensors[1]"
   ]
  },
  {
   "cell_type": "code",
   "execution_count": 19,
   "metadata": {},
   "outputs": [
    {
     "data": {
      "text/plain": [
       "tensor([[  0,   0,   0,   0,   0,   0,   0,   0,   0,   0,   0,   0,   0,   0,   0,   0,   0,   0,   0,   0,   0,   0,   0,   0,   0,   0,   0,   0],\n",
       "        [  0,   0,   0,   0,   0,   0,   0,   0,   0,   0,   0,   0,   0,   0,   0,   0,   0,   0,   0,   0,   0,   0,   0,   0,   0,   0,   0,   0],\n",
       "        [  0,   0,   0,   0,   0,   0,   0,   0,   0,   0,   0,   0,   0,   0,   0,   0,   0,   0,   0,   0,   0,   0,   0,   0,   0,   0,   0,   0],\n",
       "        [  0,   0,   0,   0,   0,   0,   0,   0,   0,   0,   0,   0,   0,   0,   0,   0,   0,   0,   0,   0,   0,   0,   0,   0,   0,   0,   0,   0],\n",
       "        [  0,   0,   0,   0,   0,   0,   0,   0,   0,   0,   0,   0,   0,   0,   0,   0,   0,   0,   0,   0,   0,   0,   0,   0,   0,   0,   0,   0],\n",
       "        [  0,   0,   0,   0,   0,   0,   0,   0,   0,   0,   0,   0,   0,   0,   0,   0,   0,   0,   0,   0,   0,   0,   0,   0,   0,   0,   0,   0],\n",
       "        [  0,   0,   0,   0,   0,   0,   0,   0,   0,   0,   0,   0,   0,   0,   0,   0,   0,   0,   0,   0,   0,   0,   0,   0,   0,   0,   0,   0],\n",
       "        [  0,   0,   0,   0,  21,  51, 213, 254, 252, 252, 252, 254, 252, 252, 252, 254, 252, 252, 252, 255, 252, 100,   0,   0,   0,   0,   0,   0],\n",
       "        [  0,   0,   0,  21, 161, 250, 250, 252, 250, 250, 250, 252, 250, 250, 250, 252, 250, 250, 250, 252, 250, 100,   0,   0,   0,   0,   0,   0],\n",
       "        [  0,   0,   0,  51, 250, 250, 250, 252, 189, 190, 250, 252, 250, 250, 250, 252, 250, 250, 250, 252, 189,  40,   0,   0,   0,   0,   0,   0],\n",
       "        [  0,   0,   0,  10, 130, 250, 250,  49,  29,  30,  49,  49,  49,  49,  49,  49,  49, 170, 250, 252, 149,   0,   0,   0,   0,   0,   0,   0],\n",
       "        [  0,   0,   0,   0,   0,   0,   0,   0,   0,   0,   0,   0,   0,   0,   0,  11, 132, 252, 252, 244, 121,   0,   0,   0,   0,   0,   0,   0],\n",
       "        [  0,   0,   0,   0,   0,   0,   0,   0,   0,   0,   0,   0,   0,   0,   0,  51, 250, 250, 250, 202,   0,   0,   0,   0,   0,   0,   0,   0],\n",
       "        [  0,   0,   0,   0,   0,   0,   0,   0,   0,   0,   0,   0,   0,   0,   0, 172, 250, 250, 250,  80,   0,   0,   0,   0,   0,   0,   0,   0],\n",
       "        [  0,   0,   0,   0,   0,   0,   0,   0,   0,   0,   0,   0,   0,   0,   0, 252, 250, 250, 250,   0,   0,   0,   0,   0,   0,   0,   0,   0],\n",
       "        [  0,   0,   0,   0,   0,   0,   0,   0,   0,   0,   0,   0,   0,  31, 213, 254, 252, 252,  49,   0,   0,   0,   0,   0,   0,   0,   0,   0],\n",
       "        [  0,   0,   0,   0,   0,   0,   0,   0,   0,   0,   0,   0,   0, 151, 250, 252, 250, 250,  49,   0,   0,   0,   0,   0,   0,   0,   0,   0],\n",
       "        [  0,   0,   0,   0,   0,   0,   0,   0,   0,   0,   0,   0,   0, 151, 250, 252, 250, 159,  20,   0,   0,   0,   0,   0,   0,   0,   0,   0],\n",
       "        [  0,   0,   0,   0,   0,   0,   0,   0,   0,   0,   0,   0,   0, 151, 250, 252, 250, 100,   0,   0,   0,   0,   0,   0,   0,   0,   0,   0],\n",
       "        [  0,   0,   0,   0,   0,   0,   0,   0,   0,   0,   0,   0,   0, 152, 252, 254, 252, 100,   0,   0,   0,   0,   0,   0,   0,   0,   0,   0],\n",
       "        [  0,   0,   0,   0,   0,   0,   0,   0,   0,   0,   0,   0,   0, 151, 250, 252, 250, 100,   0,   0,   0,   0,   0,   0,   0,   0,   0,   0],\n",
       "        [  0,   0,   0,   0,   0,   0,   0,   0,   0,   0,   0,   0,   0, 151, 250, 252, 250, 100,   0,   0,   0,   0,   0,   0,   0,   0,   0,   0],\n",
       "        [  0,   0,   0,   0,   0,   0,   0,   0,   0,   0,   0,   0,   0, 151, 250, 252, 250, 221,  40,   0,   0,   0,   0,   0,   0,   0,   0,   0],\n",
       "        [  0,   0,   0,   0,   0,   0,   0,   0,   0,   0,   0,   0,   0, 153, 252, 255, 252, 252,  49,   0,   0,   0,   0,   0,   0,   0,   0,   0],\n",
       "        [  0,   0,   0,   0,   0,   0,   0,   0,   0,   0,   0,   0,   0, 151, 250, 252, 250, 250,  49,   0,   0,   0,   0,   0,   0,   0,   0,   0],\n",
       "        [  0,   0,   0,   0,   0,   0,   0,   0,   0,   0,   0,   0,   0,  60, 221, 252, 250, 159,  20,   0,   0,   0,   0,   0,   0,   0,   0,   0],\n",
       "        [  0,   0,   0,   0,   0,   0,   0,   0,   0,   0,   0,   0,   0,   0,  40, 212,  49,  20,   0,   0,   0,   0,   0,   0,   0,   0,   0,   0],\n",
       "        [  0,   0,   0,   0,   0,   0,   0,   0,   0,   0,   0,   0,   0,   0,   0,   0,   0,   0,   0,   0,   0,   0,   0,   0,   0,   0,   0,   0]], dtype=torch.uint8)"
      ]
     },
     "execution_count": 19,
     "metadata": {},
     "output_type": "execute_result"
    }
   ],
   "source": [
    "seven_tensors[0]"
   ]
  },
  {
   "cell_type": "code",
   "execution_count": 20,
   "metadata": {},
   "outputs": [
    {
     "data": {
      "text/plain": [
       "<Axes: >"
      ]
     },
     "execution_count": 20,
     "metadata": {},
     "output_type": "execute_result"
    },
    {
     "data": {
      "image/png": "[encoded data removed]",
      "text/plain": [
       "<Figure size 100x100 with 1 Axes>"
      ]
     },
     "metadata": {},
     "output_type": "display_data"
    }
   ],
   "source": [
    "show_image(three_tensors[1])"
   ]
  },
  {
   "attachments": {},
   "cell_type": "markdown",
   "metadata": {},
   "source": [
    "Combines them into a single 3d tensor"
   ]
  },
  {
   "cell_type": "code",
   "execution_count": 21,
   "metadata": {},
   "outputs": [],
   "source": [
    "stacked_sevens = torch.stack(seven_tensors).float()/255\n",
    "stacked_threes = torch.stack(three_tensors).float()/255"
   ]
  },
  {
   "cell_type": "code",
   "execution_count": 22,
   "metadata": {},
   "outputs": [
    {
     "data": {
      "text/plain": [
       "torch.Size([6131, 28, 28])"
      ]
     },
     "execution_count": 22,
     "metadata": {},
     "output_type": "execute_result"
    }
   ],
   "source": [
    "stacked_threes.shape"
   ]
  },
  {
   "cell_type": "code",
   "execution_count": 23,
   "metadata": {},
   "outputs": [
    {
     "data": {
      "text/plain": [
       "tensor([[0.0000, 0.0000, 0.0000, 0.0000, 0.0000, 0.0000, 0.0000, 0.0000, 0.0000, 0.0000, 0.0000, 0.0000, 0.0000, 0.0000, 0.0000, 0.0000, 0.0000, 0.0000, 0.0000, 0.0000, 0.0000, 0.0000, 0.0000, 0.0000,\n",
       "         0.0000, 0.0000, 0.0000, 0.0000],\n",
       "        [0.0000, 0.0000, 0.0000, 0.0000, 0.0000, 0.0000, 0.0000, 0.0000, 0.0000, 0.0000, 0.0000, 0.0000, 0.0000, 0.0000, 0.0000, 0.0000, 0.0000, 0.0000, 0.0000, 0.0000, 0.0000, 0.0000, 0.0000, 0.0000,\n",
       "         0.0000, 0.0000, 0.0000, 0.0000],\n",
       "        [0.0000, 0.0000, 0.0000, 0.0000, 0.0000, 0.0000, 0.0000, 0.0000, 0.0000, 0.0000, 0.0000, 0.0000, 0.0000, 0.0000, 0.0000, 0.0000, 0.0000, 0.0000, 0.0000, 0.0000, 0.0000, 0.0000, 0.0000, 0.0000,\n",
       "         0.0000, 0.0000, 0.0000, 0.0000],\n",
       "        [0.0000, 0.0000, 0.0000, 0.0000, 0.0000, 0.0000, 0.0000, 0.0000, 0.0000, 0.0000, 0.0000, 0.0000, 0.0000, 0.0000, 0.0000, 0.0000, 0.0000, 0.0000, 0.0000, 0.0000, 0.0000, 0.0000, 0.0000, 0.0000,\n",
       "         0.0000, 0.0000, 0.0000, 0.0000],\n",
       "        [0.0000, 0.0000, 0.0000, 0.0000, 0.0000, 0.0000, 0.0000, 0.0000, 0.0000, 0.0000, 0.0000, 0.1647, 0.4627, 0.8588, 0.6510, 0.4627, 0.4627, 0.0235, 0.0000, 0.0000, 0.0000, 0.0000, 0.0000, 0.0000,\n",
       "         0.0000, 0.0000, 0.0000, 0.0000],\n",
       "        [0.0000, 0.0000, 0.0000, 0.0000, 0.0000, 0.0000, 0.0000, 0.0000, 0.0000, 0.0000, 0.4039, 0.9490, 0.9961, 0.9961, 0.9961, 0.9961, 0.9961, 0.2588, 0.0000, 0.0000, 0.0000, 0.0000, 0.0000, 0.0000,\n",
       "         0.0000, 0.0000, 0.0000, 0.0000],\n",
       "        [0.0000, 0.0000, 0.0000, 0.0000, 0.0000, 0.0000, 0.0000, 0.0000, 0.0000, 0.0000, 0.0706, 0.9098, 0.9961, 0.9961, 0.9961, 0.9961, 0.9961, 0.9333, 0.2745, 0.0000, 0.0000, 0.0000, 0.0000, 0.0000,\n",
       "         0.0000, 0.0000, 0.0000, 0.0000],\n",
       "        [0.0000, 0.0000, 0.0000, 0.0000, 0.0000, 0.0000, 0.0000, 0.0000, 0.0000, 0.0000, 0.0000, 0.4078, 0.9569, 0.9961, 0.8784, 0.9961, 0.9961, 0.9961, 0.5529, 0.0000, 0.0000, 0.0000, 0.0000, 0.0000,\n",
       "         0.0000, 0.0000, 0.0000, 0.0000],\n",
       "        [0.0000, 0.0000, 0.0000, 0.0000, 0.0000, 0.0000, 0.0000, 0.0000, 0.0000, 0.0000, 0.0000, 0.0000, 0.8118, 0.9961, 0.8235, 0.9961, 0.9961, 0.9961, 0.1333, 0.0000, 0.0000, 0.0000, 0.0000, 0.0000,\n",
       "         0.0000, 0.0000, 0.0000, 0.0000],\n",
       "        [0.0000, 0.0000, 0.0000, 0.0000, 0.0000, 0.0000, 0.0000, 0.0000, 0.0000, 0.0000, 0.0000, 0.0000, 0.3294, 0.8078, 0.9961, 0.9961, 0.9961, 0.9961, 0.1608, 0.0000, 0.0000, 0.0000, 0.0000, 0.0000,\n",
       "         0.0000, 0.0000, 0.0000, 0.0000],\n",
       "        [0.0000, 0.0000, 0.0000, 0.0000, 0.0000, 0.0000, 0.0000, 0.0000, 0.0000, 0.0000, 0.0000, 0.0000, 0.0000, 0.0941, 0.8196, 0.9961, 0.9961, 0.9961, 0.6706, 0.0000, 0.0000, 0.0000, 0.0000, 0.0000,\n",
       "         0.0000, 0.0000, 0.0000, 0.0000],\n",
       "        [0.0000, 0.0000, 0.0000, 0.0000, 0.0000, 0.0000, 0.0000, 0.0000, 0.0000, 0.0000, 0.0000, 0.0000, 0.3569, 0.5373, 0.9922, 0.9961, 0.9961, 0.9961, 0.4392, 0.0000, 0.0000, 0.0000, 0.0000, 0.0000,\n",
       "         0.0000, 0.0000, 0.0000, 0.0000],\n",
       "        [0.0000, 0.0000, 0.0000, 0.0000, 0.0000, 0.0000, 0.0000, 0.0000, 0.0000, 0.0000, 0.1569, 0.8392, 0.9804, 0.9961, 0.9961, 0.9961, 0.9961, 0.9961, 0.1333, 0.0000, 0.0000, 0.0000, 0.0000, 0.0000,\n",
       "         0.0000, 0.0000, 0.0000, 0.0000],\n",
       "        [0.0000, 0.0000, 0.0000, 0.0000, 0.0000, 0.0000, 0.0000, 0.0000, 0.0000, 0.0000, 0.3176, 0.9686, 0.9961, 0.9961, 0.9961, 0.9961, 0.9961, 0.9961, 0.5725, 0.0000, 0.0000, 0.0000, 0.0000, 0.0000,\n",
       "         0.0000, 0.0000, 0.0000, 0.0000],\n",
       "        [0.0000, 0.0000, 0.0000, 0.0000, 0.0000, 0.0000, 0.0000, 0.0000, 0.0000, 0.0000, 0.0000, 0.4314, 0.9647, 0.9961, 0.9961, 0.9961, 0.9961, 0.9961, 0.6706, 0.0000, 0.0000, 0.0000, 0.0000, 0.0000,\n",
       "         0.0000, 0.0000, 0.0000, 0.0000],\n",
       "        [0.0000, 0.0000, 0.0000, 0.0000, 0.0000, 0.0000, 0.0000, 0.0000, 0.0000, 0.0000, 0.0000, 0.0000, 0.2863, 0.3490, 0.3490, 0.3647, 0.9412, 0.9961, 0.6706, 0.0000, 0.0000, 0.0000, 0.0000, 0.0000,\n",
       "         0.0000, 0.0000, 0.0000, 0.0000],\n",
       "        [0.0000, 0.0000, 0.0000, 0.0000, 0.0000, 0.0000, 0.0000, 0.0000, 0.0000, 0.0000, 0.0000, 0.0000, 0.0000, 0.0000, 0.0000, 0.0039, 0.5020, 0.9961, 0.8588, 0.1216, 0.0000, 0.0000, 0.0000, 0.0000,\n",
       "         0.0000, 0.0000, 0.0000, 0.0000],\n",
       "        [0.0000, 0.0000, 0.0000, 0.0000, 0.0000, 0.0000, 0.0000, 0.0000, 0.0000, 0.0000, 0.0000, 0.0000, 0.0000, 0.0000, 0.0000, 0.0275, 0.9961, 0.9961, 0.8392, 0.1098, 0.0000, 0.0000, 0.0000, 0.0000,\n",
       "         0.0000, 0.0000, 0.0000, 0.0000],\n",
       "        [0.0000, 0.0000, 0.0000, 0.0000, 0.0000, 0.0000, 0.0000, 0.0000, 0.0000, 0.0000, 0.0000, 0.0000, 0.0000, 0.0000, 0.0000, 0.5412, 0.9961, 0.9961, 0.4549, 0.0000, 0.0000, 0.0000, 0.0000, 0.0000,\n",
       "         0.0000, 0.0000, 0.0000, 0.0000],\n",
       "        [0.0000, 0.0000, 0.0000, 0.0000, 0.0000, 0.0000, 0.0745, 0.6941, 0.3529, 0.0000, 0.0000, 0.0000, 0.0000, 0.0000, 0.0980, 0.9412, 0.9961, 0.9961, 0.1333, 0.0000, 0.0000, 0.0000, 0.0000, 0.0000,\n",
       "         0.0000, 0.0000, 0.0000, 0.0000],\n",
       "        [0.0000, 0.0000, 0.0000, 0.0000, 0.0000, 0.0000, 0.6431, 0.9961, 0.8431, 0.2471, 0.1412, 0.0000, 0.2000, 0.3490, 0.8078, 0.9961, 0.9961, 0.5451, 0.0314, 0.0000, 0.0000, 0.0000, 0.0000, 0.0000,\n",
       "         0.0000, 0.0000, 0.0000, 0.0000],\n",
       "        [0.0000, 0.0000, 0.0000, 0.0000, 0.0000, 0.0000, 0.2235, 0.7725, 0.9961, 0.9961, 0.8706, 0.7059, 0.9451, 0.9961, 0.9961, 0.9922, 0.8353, 0.0431, 0.0000, 0.0000, 0.0000, 0.0000, 0.0000, 0.0000,\n",
       "         0.0000, 0.0000, 0.0000, 0.0000],\n",
       "        [0.0000, 0.0000, 0.0000, 0.0000, 0.0000, 0.0000, 0.0000, 0.5490, 0.4118, 0.9961, 0.9961, 0.9961, 0.9961, 0.9961, 0.9961, 0.9255, 0.0000, 0.0000, 0.0000, 0.0000, 0.0000, 0.0000, 0.0000, 0.0000,\n",
       "         0.0000, 0.0000, 0.0000, 0.0000],\n",
       "        [0.0000, 0.0000, 0.0000, 0.0000, 0.0000, 0.0000, 0.0000, 0.0000, 0.0275, 0.4588, 0.4588, 0.6471, 0.9961, 0.9961, 0.9373, 0.1961, 0.0000, 0.0000, 0.0000, 0.0000, 0.0000, 0.0000, 0.0000, 0.0000,\n",
       "         0.0000, 0.0000, 0.0000, 0.0000],\n",
       "        [0.0000, 0.0000, 0.0000, 0.0000, 0.0000, 0.0000, 0.0000, 0.0000, 0.0000, 0.0000, 0.0000, 0.0000, 0.0000, 0.0000, 0.0000, 0.0000, 0.0000, 0.0000, 0.0000, 0.0000, 0.0000, 0.0000, 0.0000, 0.0000,\n",
       "         0.0000, 0.0000, 0.0000, 0.0000],\n",
       "        [0.0000, 0.0000, 0.0000, 0.0000, 0.0000, 0.0000, 0.0000, 0.0000, 0.0000, 0.0000, 0.0000, 0.0000, 0.0000, 0.0000, 0.0000, 0.0000, 0.0000, 0.0000, 0.0000, 0.0000, 0.0000, 0.0000, 0.0000, 0.0000,\n",
       "         0.0000, 0.0000, 0.0000, 0.0000],\n",
       "        [0.0000, 0.0000, 0.0000, 0.0000, 0.0000, 0.0000, 0.0000, 0.0000, 0.0000, 0.0000, 0.0000, 0.0000, 0.0000, 0.0000, 0.0000, 0.0000, 0.0000, 0.0000, 0.0000, 0.0000, 0.0000, 0.0000, 0.0000, 0.0000,\n",
       "         0.0000, 0.0000, 0.0000, 0.0000],\n",
       "        [0.0000, 0.0000, 0.0000, 0.0000, 0.0000, 0.0000, 0.0000, 0.0000, 0.0000, 0.0000, 0.0000, 0.0000, 0.0000, 0.0000, 0.0000, 0.0000, 0.0000, 0.0000, 0.0000, 0.0000, 0.0000, 0.0000, 0.0000, 0.0000,\n",
       "         0.0000, 0.0000, 0.0000, 0.0000]])"
      ]
     },
     "execution_count": 23,
     "metadata": {},
     "output_type": "execute_result"
    }
   ],
   "source": [
    "stacked_threes[0]"
   ]
  },
  {
   "cell_type": "code",
   "execution_count": 24,
   "metadata": {},
   "outputs": [
    {
     "data": {
      "text/plain": [
       "<Axes: >"
      ]
     },
     "execution_count": 24,
     "metadata": {},
     "output_type": "execute_result"
    },
    {
     "data": {
      "image/png": "[encoded data removed]",
      "text/plain": [
       "<Figure size 100x100 with 1 Axes>"
      ]
     },
     "metadata": {},
     "output_type": "display_data"
    }
   ],
   "source": [
    "mean3 = stacked_threes.mean(0)\n",
    "show_image(mean3)"
   ]
  },
  {
   "cell_type": "code",
   "execution_count": 25,
   "metadata": {},
   "outputs": [
    {
     "data": {
      "text/plain": [
       "<Axes: >"
      ]
     },
     "execution_count": 25,
     "metadata": {},
     "output_type": "execute_result"
    },
    {
     "data": {
      "image/png": "[encoded data removed]",
      "text/plain": [
       "<Figure size 100x100 with 1 Axes>"
      ]
     },
     "metadata": {},
     "output_type": "display_data"
    }
   ],
   "source": [
    "mean7 = stacked_sevens.mean(0)\n",
    "show_image(mean7)"
   ]
  },
  {
   "cell_type": "code",
   "execution_count": 26,
   "metadata": {},
   "outputs": [
    {
     "data": {
      "text/plain": [
       "<Axes: >"
      ]
     },
     "execution_count": 26,
     "metadata": {},
     "output_type": "execute_result"
    },
    {
     "data": {
      "image/png": "[encoded data removed]",
      "text/plain": [
       "<Figure size 100x100 with 1 Axes>"
      ]
     },
     "metadata": {},
     "output_type": "display_data"
    }
   ],
   "source": [
    "a_3 = stacked_threes[1]\n",
    "show_image(a_3)"
   ]
  },
  {
   "cell_type": "code",
   "execution_count": 27,
   "metadata": {},
   "outputs": [],
   "source": [
    "dist_3_abs = (a_3 - mean3).abs().mean()\n",
    "dist_3_sqr = ((a_3 - mean3)**2).mean().sqrt()"
   ]
  },
  {
   "cell_type": "code",
   "execution_count": 28,
   "metadata": {},
   "outputs": [
    {
     "data": {
      "text/plain": [
       "(tensor(0.1114), tensor(0.2021))"
      ]
     },
     "execution_count": 28,
     "metadata": {},
     "output_type": "execute_result"
    }
   ],
   "source": [
    "dist_3_abs, dist_3_sqr"
   ]
  },
  {
   "cell_type": "code",
   "execution_count": 29,
   "metadata": {},
   "outputs": [
    {
     "data": {
      "text/plain": [
       "(tensor(0.1586), tensor(0.3021))"
      ]
     },
     "execution_count": 29,
     "metadata": {},
     "output_type": "execute_result"
    }
   ],
   "source": [
    "dist_7_abs = (a_3 - mean7).abs().mean()\n",
    "dist_7_sqr = ((a_3 - mean7)**2).mean().sqrt()\n",
    "dist_7_abs, dist_7_sqr"
   ]
  },
  {
   "cell_type": "code",
   "execution_count": 30,
   "metadata": {},
   "outputs": [
    {
     "data": {
      "text/plain": [
       "(tensor(0.1586), tensor(0.3021))"
      ]
     },
     "execution_count": 30,
     "metadata": {},
     "output_type": "execute_result"
    }
   ],
   "source": [
    "F.l1_loss(a_3.float(), mean7), F.mse_loss(a_3, mean7).sqrt()"
   ]
  },
  {
   "cell_type": "markdown",
   "metadata": {},
   "source": [
    "l1 - refers to standard mathmatical jargon for mean absolute value \n",
    "\n",
    "L1 norm vs Mean squared error\n",
    "MSE punishes bigger mistakes more heavily because its doing a square\n",
    "\n"
   ]
  },
  {
   "cell_type": "code",
   "execution_count": 31,
   "metadata": {},
   "outputs": [
    {
     "data": {
      "text/plain": [
       "'torch.FloatTensor'"
      ]
     },
     "execution_count": 31,
     "metadata": {},
     "output_type": "execute_result"
    }
   ],
   "source": [
    "a_3.type()"
   ]
  },
  {
   "cell_type": "code",
   "execution_count": 32,
   "metadata": {},
   "outputs": [
    {
     "data": {
      "text/plain": [
       "(torch.Size([1010, 28, 28]), torch.Size([1028, 28, 28]))"
      ]
     },
     "execution_count": 32,
     "metadata": {},
     "output_type": "execute_result"
    }
   ],
   "source": [
    "valid_3_tens = torch.stack([tensor(vis.Image.open(o)) for o in (path/'valid'/'3').ls()])\n",
    "valid_3_tens = valid_3_tens.float()/255\n",
    "valid_7_tens = torch.stack([tensor(vis.Image.open(o)) for o in (path/'valid'/'7').ls()])\n",
    "valid_7_tens = valid_7_tens.float()/255\n",
    "\n",
    "valid_3_tens.shape, valid_7_tens.shape"
   ]
  },
  {
   "cell_type": "code",
   "execution_count": 33,
   "metadata": {},
   "outputs": [
    {
     "data": {
      "text/plain": [
       "tensor([0.1074, 0.1114, 0.1100,  ..., 0.1316, 0.1220, 0.1267])"
      ]
     },
     "execution_count": 33,
     "metadata": {},
     "output_type": "execute_result"
    }
   ],
   "source": [
    "# Here we do the -1 and -2 to get the mean of the whole image\n",
    "# We do it like this so it works with arbitrary tensor ranks\n",
    "# We will always be doing the last two dimensions\n",
    "# So we can pass in a rank 3 tensor and get a rank 1 tensor back (list)\n",
    "def mnist_distance(a,b): return (a-b).abs().mean((-1,-2))\n",
    "\n",
    "mnist_distance(a_3, mean3)\n",
    "mnist_distance(stacked_threes, mean3)"
   ]
  },
  {
   "cell_type": "code",
   "execution_count": 34,
   "metadata": {},
   "outputs": [
    {
     "data": {
      "text/plain": [
       "tensor(0.1441)"
      ]
     },
     "execution_count": 34,
     "metadata": {},
     "output_type": "execute_result"
    }
   ],
   "source": [
    "mnist_distance(stacked_threes[0], mean7)"
   ]
  },
  {
   "cell_type": "code",
   "execution_count": 35,
   "metadata": {},
   "outputs": [
    {
     "data": {
      "text/plain": [
       "<Axes: >"
      ]
     },
     "execution_count": 35,
     "metadata": {},
     "output_type": "execute_result"
    },
    {
     "data": {
      "image/png": "[encoded data removed]",
      "text/plain": [
       "<Figure size 100x100 with 1 Axes>"
      ]
     },
     "metadata": {},
     "output_type": "display_data"
    }
   ],
   "source": [
    "show_image(stacked_threes[0])"
   ]
  },
  {
   "cell_type": "code",
   "execution_count": 36,
   "metadata": {},
   "outputs": [
    {
     "data": {
      "text/plain": [
       "<Axes: >"
      ]
     },
     "execution_count": 36,
     "metadata": {},
     "output_type": "execute_result"
    },
    {
     "data": {
      "image/png": "[encoded data removed]",
      "text/plain": [
       "<Figure size 100x100 with 1 Axes>"
      ]
     },
     "metadata": {},
     "output_type": "display_data"
    }
   ],
   "source": [
    "show_image(stacked_threes[1])"
   ]
  },
  {
   "cell_type": "code",
   "execution_count": 37,
   "metadata": {},
   "outputs": [
    {
     "data": {
      "text/plain": [
       "tensor(0.1424)"
      ]
     },
     "execution_count": 37,
     "metadata": {},
     "output_type": "execute_result"
    }
   ],
   "source": [
    "# Here the -1 and -2 mean the last and second to last dimensions\n",
    "# So with a 3d tensor this means \n",
    "a_3.mean((-1, -2))\n"
   ]
  },
  {
   "cell_type": "code",
   "execution_count": 38,
   "metadata": {},
   "outputs": [
    {
     "data": {
      "text/plain": [
       "(tensor(True), tensor(True))"
      ]
     },
     "execution_count": 38,
     "metadata": {},
     "output_type": "execute_result"
    }
   ],
   "source": [
    "def is_3(x): return mnist_distance(x, mean3) < mnist_distance(x, mean7)\n",
    "\n",
    "is_3(a_3), is_3(mean3)"
   ]
  },
  {
   "cell_type": "code",
   "execution_count": 39,
   "metadata": {},
   "outputs": [
    {
     "data": {
      "text/plain": [
       "tensor([True, True, True,  ..., True, True, True])"
      ]
     },
     "execution_count": 39,
     "metadata": {},
     "output_type": "execute_result"
    }
   ],
   "source": [
    "is_3(valid_3_tens)"
   ]
  },
  {
   "cell_type": "code",
   "execution_count": 40,
   "metadata": {},
   "outputs": [],
   "source": [
    "accuracy_3s = is_3(valid_3_tens).float().mean()\n",
    "accuracy_7s = (1 - is_3(valid_7_tens).float()).mean()"
   ]
  },
  {
   "cell_type": "code",
   "execution_count": 41,
   "metadata": {},
   "outputs": [
    {
     "data": {
      "text/plain": [
       "(tensor(0.9168), tensor(0.9854), tensor(0.9511))"
      ]
     },
     "execution_count": 41,
     "metadata": {},
     "output_type": "execute_result"
    }
   ],
   "source": [
    "accuracy_3s, accuracy_7s, (accuracy_3s + accuracy_7s) / 2"
   ]
  },
  {
   "attachments": {},
   "cell_type": "markdown",
   "metadata": {},
   "source": [
    "I feel like I am understanding it so much bettor by writing out each step."
   ]
  },
  {
   "attachments": {},
   "cell_type": "markdown",
   "metadata": {},
   "source": [
    "Calculating Gradients"
   ]
  },
  {
   "cell_type": "markdown",
   "metadata": {},
   "source": [
    "SLOPE = GRADIENT"
   ]
  },
  {
   "cell_type": "markdown",
   "metadata": {},
   "source": [
    "Pytorch will calculate the value of the derivative at that point. "
   ]
  },
  {
   "cell_type": "markdown",
   "metadata": {},
   "source": [
    "WE calculate the derivative for each weight treating all the others as constant"
   ]
  },
  {
   "cell_type": "code",
   "execution_count": 42,
   "metadata": {},
   "outputs": [
    {
     "data": {
      "text/plain": [
       "tensor([ 0.,  1.,  2.,  3.,  4.,  5.,  6.,  7.,  8.,  9., 10., 11., 12., 13., 14., 15., 16., 17., 18., 19.])"
      ]
     },
     "execution_count": 42,
     "metadata": {},
     "output_type": "execute_result"
    }
   ],
   "source": [
    "time = torch.arange(0, 20).float()\n",
    "time"
   ]
  },
  {
   "cell_type": "code",
   "execution_count": 43,
   "metadata": {},
   "outputs": [
    {
     "data": {
      "text/plain": [
       "tensor([0.3367, 0.1288, 0.2345])"
      ]
     },
     "execution_count": 43,
     "metadata": {},
     "output_type": "execute_result"
    }
   ],
   "source": [
    "torch.randn(3)"
   ]
  },
  {
   "cell_type": "code",
   "execution_count": 44,
   "metadata": {},
   "outputs": [],
   "source": [
    "speed = torch.randn(20)*3 + 0.75*(time-9.5)**2 + 1"
   ]
  },
  {
   "cell_type": "code",
   "execution_count": 45,
   "metadata": {},
   "outputs": [
    {
     "data": {
      "text/plain": [
       "<matplotlib.collections.PathCollection at 0x2ae6ebf70>"
      ]
     },
     "execution_count": 45,
     "metadata": {},
     "output_type": "execute_result"
    },
    {
     "data": {
      "image/png": "[encoded data removed]",
      "text/plain": [
       "<Figure size 640x480 with 1 Axes>"
      ]
     },
     "metadata": {},
     "output_type": "display_data"
    }
   ],
   "source": [
    "plt.scatter(time, speed)"
   ]
  },
  {
   "cell_type": "code",
   "execution_count": 46,
   "metadata": {},
   "outputs": [],
   "source": [
    "def f(t, params):\n",
    "    a, b, c = params\n",
    "    return a*(t**2) + (b*t) + c"
   ]
  },
  {
   "cell_type": "code",
   "execution_count": 47,
   "metadata": {},
   "outputs": [],
   "source": [
    "def mse(preds, targets): return ((preds-targets)**2).mean()"
   ]
  },
  {
   "cell_type": "code",
   "execution_count": 48,
   "metadata": {},
   "outputs": [],
   "source": [
    "params = torch.randn(3).requires_grad_()"
   ]
  },
  {
   "cell_type": "code",
   "execution_count": 49,
   "metadata": {},
   "outputs": [
    {
     "data": {
      "text/plain": [
       "tensor([ 0.2303, -0.3278,  0.7950], requires_grad=True)"
      ]
     },
     "execution_count": 49,
     "metadata": {},
     "output_type": "execute_result"
    }
   ],
   "source": [
    "params"
   ]
  },
  {
   "cell_type": "code",
   "execution_count": 50,
   "metadata": {},
   "outputs": [
    {
     "data": {
      "text/plain": [
       "tensor([ 0.2303, -0.3278,  0.7950], grad_fn=<CloneBackward0>)"
      ]
     },
     "execution_count": 50,
     "metadata": {},
     "output_type": "execute_result"
    }
   ],
   "source": [
    "orig_params = params.clone()\n",
    "orig_params"
   ]
  },
  {
   "cell_type": "code",
   "execution_count": 51,
   "metadata": {},
   "outputs": [
    {
     "data": {
      "text/plain": [
       "tensor([ 0.7950,  0.6975,  1.0608,  1.8847,  3.1693,  4.9145,  7.1204,  9.7870, 12.9142, 16.5021, 20.5507, 25.0599, 30.0298, 35.4604, 41.3516, 47.7035, 54.5161, 61.7893, 69.5232, 77.7178],\n",
       "       grad_fn=<AddBackward0>)"
      ]
     },
     "execution_count": 51,
     "metadata": {},
     "output_type": "execute_result"
    }
   ],
   "source": [
    "preds = f(time, params)\n",
    "preds"
   ]
  },
  {
   "cell_type": "code",
   "execution_count": 52,
   "metadata": {},
   "outputs": [],
   "source": [
    "def show_preds(preds, ax=None):\n",
    "    if ax is None: ax=plt.subplots()[1]\n",
    "    ax.scatter(time, speed)\n",
    "    ax.scatter(time, to_np(preds), color='red')\n",
    "    ax.set_ylim(-300,100)"
   ]
  },
  {
   "cell_type": "code",
   "execution_count": 53,
   "metadata": {},
   "outputs": [
    {
     "data": {
      "image/png": "[encoded data removed]",
      "text/plain": [
       "<Figure size 640x480 with 1 Axes>"
      ]
     },
     "metadata": {},
     "output_type": "display_data"
    }
   ],
   "source": [
    "show_preds(preds)"
   ]
  },
  {
   "cell_type": "code",
   "execution_count": 54,
   "metadata": {},
   "outputs": [],
   "source": [
    "loss = mse(preds, speed)"
   ]
  },
  {
   "cell_type": "code",
   "execution_count": 55,
   "metadata": {},
   "outputs": [
    {
     "data": {
      "text/plain": [
       "tensor(817.4172, grad_fn=<MeanBackward0>)"
      ]
     },
     "execution_count": 55,
     "metadata": {},
     "output_type": "execute_result"
    }
   ],
   "source": [
    "loss"
   ]
  },
  {
   "attachments": {},
   "cell_type": "markdown",
   "metadata": {},
   "source": [
    "Calculate the gradients"
   ]
  },
  {
   "cell_type": "code",
   "execution_count": 56,
   "metadata": {},
   "outputs": [],
   "source": [
    "loss.backward()"
   ]
  },
  {
   "cell_type": "code",
   "execution_count": 57,
   "metadata": {},
   "outputs": [
    {
     "data": {
      "text/plain": [
       "tensor([4.5169e+03, 2.9541e+02, 2.5931e+00])"
      ]
     },
     "execution_count": 57,
     "metadata": {},
     "output_type": "execute_result"
    }
   ],
   "source": [
    "params.grad"
   ]
  },
  {
   "attachments": {},
   "cell_type": "markdown",
   "metadata": {},
   "source": [
    "Adjust the predictions by the gradients times the learning rate"
   ]
  },
  {
   "cell_type": "code",
   "execution_count": 58,
   "metadata": {},
   "outputs": [],
   "source": [
    "lr = 1e-5"
   ]
  },
  {
   "cell_type": "code",
   "execution_count": 59,
   "metadata": {},
   "outputs": [
    {
     "data": {
      "text/plain": [
       "tensor([4.5169e-02, 2.9541e-03, 2.5931e-05])"
      ]
     },
     "execution_count": 59,
     "metadata": {},
     "output_type": "execute_result"
    }
   ],
   "source": [
    "adjustment = params.grad * lr\n",
    "adjustment"
   ]
  },
  {
   "attachments": {},
   "cell_type": "markdown",
   "metadata": {},
   "source": [
    "I think this is incorrect because its going to be keeping track if we do it like this for the gradient"
   ]
  },
  {
   "cell_type": "code",
   "execution_count": 60,
   "metadata": {},
   "outputs": [],
   "source": [
    "# params = params - adjustment"
   ]
  },
  {
   "attachments": {},
   "cell_type": "markdown",
   "metadata": {},
   "source": [
    "This is the correct way"
   ]
  },
  {
   "cell_type": "code",
   "execution_count": 61,
   "metadata": {},
   "outputs": [],
   "source": [
    "params.data -= lr * params.grad.data\n",
    "params.grad = None # zero out the gradient so it doesn't add up"
   ]
  },
  {
   "attachments": {},
   "cell_type": "markdown",
   "metadata": {},
   "source": [
    "The params are now a bit closer. This was them before:\n",
    "tensor([-0.7658, -0.7506,  1.3525], requires_grad=True)"
   ]
  },
  {
   "cell_type": "code",
   "execution_count": 62,
   "metadata": {},
   "outputs": [
    {
     "data": {
      "text/plain": [
       "tensor([ 0.1852, -0.3307,  0.7949], requires_grad=True)"
      ]
     },
     "execution_count": 62,
     "metadata": {},
     "output_type": "execute_result"
    }
   ],
   "source": [
    "params"
   ]
  },
  {
   "cell_type": "code",
   "execution_count": 63,
   "metadata": {},
   "outputs": [
    {
     "data": {
      "text/plain": [
       "tensor([ 0.2303, -0.3278,  0.7950], grad_fn=<CloneBackward0>)"
      ]
     },
     "execution_count": 63,
     "metadata": {},
     "output_type": "execute_result"
    }
   ],
   "source": [
    "orig_params"
   ]
  },
  {
   "attachments": {},
   "cell_type": "markdown",
   "metadata": {},
   "source": [
    "Make new predictions"
   ]
  },
  {
   "attachments": {},
   "cell_type": "markdown",
   "metadata": {},
   "source": [
    "We went from over 25000 to now just 5000"
   ]
  },
  {
   "cell_type": "code",
   "execution_count": 64,
   "metadata": {},
   "outputs": [
    {
     "data": {
      "text/plain": [
       "tensor(670.3992, grad_fn=<MeanBackward0>)"
      ]
     },
     "execution_count": 64,
     "metadata": {},
     "output_type": "execute_result"
    }
   ],
   "source": [
    "preds = f(time, params)\n",
    "mse(preds, speed)"
   ]
  },
  {
   "cell_type": "code",
   "execution_count": 65,
   "metadata": {},
   "outputs": [
    {
     "data": {
      "image/png": "[encoded data removed]",
      "text/plain": [
       "<Figure size 640x480 with 1 Axes>"
      ]
     },
     "metadata": {},
     "output_type": "display_data"
    }
   ],
   "source": [
    "show_preds(preds)"
   ]
  },
  {
   "attachments": {},
   "cell_type": "markdown",
   "metadata": {},
   "source": [
    "Creating a function to repeat this process"
   ]
  },
  {
   "cell_type": "code",
   "execution_count": 66,
   "metadata": {},
   "outputs": [],
   "source": [
    "def apply_step(params, prn=True):\n",
    "    preds = f(time, params)\n",
    "    loss = mse(preds, speed)\n",
    "    loss.backward()\n",
    "    params.data -= lr * params.grad.data\n",
    "    params.grad = None\n",
    "    if prn: print(loss.item())\n",
    "    return preds"
   ]
  },
  {
   "cell_type": "code",
   "execution_count": 67,
   "metadata": {},
   "outputs": [
    {
     "name": "stdout",
     "output_type": "stream",
     "text": [
      "670.3992309570312\n",
      "642.5762939453125\n",
      "637.3087158203125\n",
      "636.3092041015625\n",
      "636.117431640625\n",
      "636.0784912109375\n",
      "636.0684814453125\n",
      "636.0640258789062\n",
      "636.0604248046875\n",
      "636.05712890625\n"
     ]
    }
   ],
   "source": [
    "for i in range(10): apply_step(params)"
   ]
  },
  {
   "cell_type": "code",
   "execution_count": 68,
   "metadata": {},
   "outputs": [
    {
     "data": {
      "image/png": "[encoded data removed]",
      "text/plain": [
       "<Figure size 1200x300 with 4 Axes>"
      ]
     },
     "metadata": {},
     "output_type": "display_data"
    }
   ],
   "source": [
    "_,axs = plt.subplots(1,4,figsize=(12,3))\n",
    "for ax in axs: show_preds(apply_step(params, False), ax)\n",
    "plt.tight_layout()"
   ]
  },
  {
   "attachments": {},
   "cell_type": "markdown",
   "metadata": {},
   "source": [
    "We need to change our input variable X into a list of rank 1 tensors. We use View and pass -1 which means make the axis as big as neccessary to fit all the data"
   ]
  },
  {
   "cell_type": "code",
   "execution_count": 69,
   "metadata": {},
   "outputs": [],
   "source": [
    "train_x = torch.cat([stacked_threes, stacked_sevens]).view(-1, 28*28)"
   ]
  },
  {
   "cell_type": "code",
   "execution_count": 70,
   "metadata": {},
   "outputs": [
    {
     "data": {
      "text/plain": [
       "torch.Size([12396, 784])"
      ]
     },
     "execution_count": 70,
     "metadata": {},
     "output_type": "execute_result"
    }
   ],
   "source": [
    "train_x.shape"
   ]
  },
  {
   "attachments": {},
   "cell_type": "markdown",
   "metadata": {},
   "source": [
    "Lets create our labels for each image"
   ]
  },
  {
   "cell_type": "code",
   "execution_count": 71,
   "metadata": {},
   "outputs": [
    {
     "data": {
      "text/plain": [
       "tensor([1, 1, 1,  ..., 0, 0, 0])"
      ]
     },
     "execution_count": 71,
     "metadata": {},
     "output_type": "execute_result"
    }
   ],
   "source": [
    "tensor([1]*len(threes) + [0]*len(sevens))"
   ]
  },
  {
   "attachments": {},
   "cell_type": "markdown",
   "metadata": {},
   "source": [
    "Unsqueeze seems to be like the opposite of view. its stretching the list of 1s or 0s into a rank 2 tensor "
   ]
  },
  {
   "cell_type": "code",
   "execution_count": 72,
   "metadata": {},
   "outputs": [
    {
     "data": {
      "text/plain": [
       "tensor([[1],\n",
       "        [1],\n",
       "        [1],\n",
       "        ...,\n",
       "        [0],\n",
       "        [0],\n",
       "        [0]])"
      ]
     },
     "execution_count": 72,
     "metadata": {},
     "output_type": "execute_result"
    }
   ],
   "source": [
    "tensor([1]*len(threes) + [0]*len(sevens)).unsqueeze(1)"
   ]
  },
  {
   "cell_type": "code",
   "execution_count": 73,
   "metadata": {},
   "outputs": [
    {
     "data": {
      "text/plain": [
       "(torch.Size([12396, 784]), torch.Size([12396, 1]))"
      ]
     },
     "execution_count": 73,
     "metadata": {},
     "output_type": "execute_result"
    }
   ],
   "source": [
    "train_y = tensor([1]*len(threes) + [0]*len(sevens)).unsqueeze(1)\n",
    "train_x.shape, train_y.shape"
   ]
  },
  {
   "cell_type": "code",
   "execution_count": 74,
   "metadata": {},
   "outputs": [
    {
     "data": {
      "text/plain": [
       "(torch.Size([784]), tensor([1]))"
      ]
     },
     "execution_count": 74,
     "metadata": {},
     "output_type": "execute_result"
    }
   ],
   "source": [
    "dset = list(zip(train_x, train_y))\n",
    "x,y = dset[0]\n",
    "x.shape, y"
   ]
  },
  {
   "cell_type": "code",
   "execution_count": 75,
   "metadata": {},
   "outputs": [],
   "source": [
    "valid_x = torch.cat([valid_3_tens, valid_7_tens]).view(-1, 28*28)\n",
    "valid_y = tensor([1]*len(valid_3_tens) + [0]*len(valid_7_tens)).unsqueeze(1)\n",
    "valid_dset = list(zip(valid_x,valid_y))"
   ]
  },
  {
   "cell_type": "code",
   "execution_count": 76,
   "metadata": {},
   "outputs": [],
   "source": [
    "def init_params(size, std=1.0): return (torch.randn(size)*std).requires_grad_()"
   ]
  },
  {
   "cell_type": "code",
   "execution_count": 77,
   "metadata": {},
   "outputs": [],
   "source": [
    "weights = init_params((28*28, 1))"
   ]
  },
  {
   "cell_type": "code",
   "execution_count": 78,
   "metadata": {},
   "outputs": [
    {
     "data": {
      "text/plain": [
       "tensor([[-9.1382e-01],\n",
       "        [-6.5814e-01],\n",
       "        [ 7.8024e-02],\n",
       "        [ 5.2581e-01],\n",
       "        [-4.8799e-01],\n",
       "        [ 1.1914e+00],\n",
       "        [-8.1401e-01],\n",
       "        [-7.3599e-01],\n",
       "        [-1.4032e+00],\n",
       "        [ 3.6004e-02],\n",
       "        [-6.3477e-02],\n",
       "        [ 6.7561e-01],\n",
       "        [-9.7807e-02],\n",
       "        [ 1.8446e+00],\n",
       "        [-1.1845e+00],\n",
       "        [ 1.3835e+00],\n",
       "        [ 1.4451e+00],\n",
       "        [ 8.5641e-01],\n",
       "        [ 2.2181e+00],\n",
       "        [ 5.2317e-01],\n",
       "        [ 3.4665e-01],\n",
       "        [-1.9733e-01],\n",
       "        [-1.0546e+00],\n",
       "        [ 1.2780e+00],\n",
       "        [-1.7219e-01],\n",
       "        [ 5.2379e-01],\n",
       "        [ 5.6622e-02],\n",
       "        [ 4.2630e-01],\n",
       "        [ 5.7501e-01],\n",
       "        [-6.4172e-01],\n",
       "        [-2.2064e+00],\n",
       "        [-7.5080e-01],\n",
       "        [ 1.0868e-02],\n",
       "        [-3.3874e-01],\n",
       "        [-1.3407e+00],\n",
       "        [-5.8537e-01],\n",
       "        [ 5.3619e-01],\n",
       "        [ 5.2462e-01],\n",
       "        [ 1.1412e+00],\n",
       "        [ 5.1644e-02],\n",
       "        [ 7.4395e-01],\n",
       "        [-4.8158e-01],\n",
       "        [-1.0495e+00],\n",
       "        [ 6.0390e-01],\n",
       "        [-1.7223e+00],\n",
       "        [-8.2777e-01],\n",
       "        [ 1.3347e+00],\n",
       "        [ 4.8354e-01],\n",
       "        [-2.5095e+00],\n",
       "        [ 4.8800e-01],\n",
       "        [ 7.8459e-01],\n",
       "        [ 2.8647e-02],\n",
       "        [ 6.4076e-01],\n",
       "        [ 5.8325e-01],\n",
       "        [ 1.0669e+00],\n",
       "        [-4.5015e-01],\n",
       "        [-1.8527e-01],\n",
       "        [ 7.5276e-01],\n",
       "        [ 4.0476e-01],\n",
       "        [ 1.7847e-01],\n",
       "        [ 2.6491e-01],\n",
       "        [ 1.2732e+00],\n",
       "        [-1.3109e-03],\n",
       "        [-3.0360e-01],\n",
       "        [-1.4570e+00],\n",
       "        [-1.0234e-01],\n",
       "        [-5.9915e-01],\n",
       "        [ 4.7706e-01],\n",
       "        [ 7.2618e-01],\n",
       "        [ 9.1152e-02],\n",
       "        [-3.8907e-01],\n",
       "        [ 5.2792e-01],\n",
       "        [-1.2685e-02],\n",
       "        [ 2.4084e-01],\n",
       "        [ 1.3254e-01],\n",
       "        [ 7.6424e-01],\n",
       "        [ 1.0950e+00],\n",
       "        [ 3.3989e-01],\n",
       "        [ 7.1997e-01],\n",
       "        [ 4.1141e-01],\n",
       "        [ 1.9312e+00],\n",
       "        [ 1.0119e+00],\n",
       "        [-1.4364e+00],\n",
       "        [-1.1299e+00],\n",
       "        [-1.3603e-01],\n",
       "        [ 1.6354e+00],\n",
       "        [ 6.5474e-01],\n",
       "        [ 5.7600e-01],\n",
       "        [ 1.1415e+00],\n",
       "        [ 1.8565e-02],\n",
       "        [-1.8058e+00],\n",
       "        [ 9.2543e-01],\n",
       "        [-3.7534e-01],\n",
       "        [ 1.0331e+00],\n",
       "        [-6.8665e-01],\n",
       "        [ 6.3681e-01],\n",
       "        [-9.7267e-01],\n",
       "        [ 9.5846e-01],\n",
       "        [ 1.6192e+00],\n",
       "        [ 1.4506e+00],\n",
       "        [ 2.6948e-01],\n",
       "        [-2.1038e-01],\n",
       "        [-7.3280e-01],\n",
       "        [ 1.0430e-01],\n",
       "        [ 3.4875e-01],\n",
       "        [ 9.6759e-01],\n",
       "        [-4.6569e-01],\n",
       "        [ 1.6048e+00],\n",
       "        [-2.4801e+00],\n",
       "        [-4.1754e-01],\n",
       "        [-1.1955e+00],\n",
       "        [ 8.1234e-01],\n",
       "        [-1.9006e+00],\n",
       "        [ 2.2858e-01],\n",
       "        [ 2.4859e-02],\n",
       "        [-3.4595e-01],\n",
       "        [ 2.8683e-01],\n",
       "        [-7.3084e-01],\n",
       "        [ 1.7482e-01],\n",
       "        [-1.0939e+00],\n",
       "        [-1.6022e+00],\n",
       "        [ 1.3529e+00],\n",
       "        [ 1.2888e+00],\n",
       "        [ 5.2296e-02],\n",
       "        [-1.5469e+00],\n",
       "        [ 7.5671e-01],\n",
       "        [ 7.7552e-01],\n",
       "        [ 2.0265e+00],\n",
       "        [ 3.5818e-02],\n",
       "        [ 1.2059e-01],\n",
       "        [-8.0566e-01],\n",
       "        [-2.0758e-01],\n",
       "        [-9.3195e-01],\n",
       "        [-1.5910e+00],\n",
       "        [-1.1360e+00],\n",
       "        [-5.2260e-01],\n",
       "        [-5.1877e-01],\n",
       "        [-1.5013e+00],\n",
       "        [-1.9267e+00],\n",
       "        [ 1.2785e-01],\n",
       "        [ 1.0229e+00],\n",
       "        [-5.5579e-01],\n",
       "        [ 7.0427e-01],\n",
       "        [ 7.0988e-01],\n",
       "        [ 1.7744e+00],\n",
       "        [-9.2155e-01],\n",
       "        [ 9.6245e-01],\n",
       "        [-3.3702e-01],\n",
       "        [-1.1753e+00],\n",
       "        [ 3.5806e-01],\n",
       "        [ 4.7877e-01],\n",
       "        [ 1.3537e+00],\n",
       "        [ 5.2606e-01],\n",
       "        [ 2.1120e+00],\n",
       "        [-5.2076e-01],\n",
       "        [-9.3201e-01],\n",
       "        [ 1.8516e-01],\n",
       "        [ 1.0687e+00],\n",
       "        [ 1.3065e+00],\n",
       "        [ 4.5983e-01],\n",
       "        [-8.1463e-01],\n",
       "        [-1.0212e+00],\n",
       "        [-4.9492e-01],\n",
       "        [-5.9225e-01],\n",
       "        [ 1.5432e-01],\n",
       "        [ 4.4077e-01],\n",
       "        [-1.4829e-01],\n",
       "        [-2.3184e+00],\n",
       "        [-3.9800e-01],\n",
       "        [ 1.0805e+00],\n",
       "        [-1.7809e+00],\n",
       "        [ 1.5080e+00],\n",
       "        [ 3.0943e-01],\n",
       "        [-5.0031e-01],\n",
       "        [ 1.0350e+00],\n",
       "        [ 1.6896e+00],\n",
       "        [-4.5051e-03],\n",
       "        [ 1.6668e+00],\n",
       "        [ 1.5392e-01],\n",
       "        [-1.0603e+00],\n",
       "        [-5.7266e-01],\n",
       "        [ 8.3568e-02],\n",
       "        [ 3.9991e-01],\n",
       "        [ 1.9892e+00],\n",
       "        [-7.1988e-02],\n",
       "        [-9.0609e-01],\n",
       "        [-2.0487e+00],\n",
       "        [-1.0811e+00],\n",
       "        [ 1.7623e-02],\n",
       "        [ 7.8226e-02],\n",
       "        [ 1.9316e-01],\n",
       "        [ 4.0967e-01],\n",
       "        [-9.2913e-01],\n",
       "        [ 2.7619e-01],\n",
       "        [-5.3888e-01],\n",
       "        [ 4.6258e-01],\n",
       "        [-8.7189e-01],\n",
       "        [-2.7118e-02],\n",
       "        [-3.5325e-01],\n",
       "        [ 1.4639e+00],\n",
       "        [ 1.2554e+00],\n",
       "        [-7.1496e-01],\n",
       "        [ 8.5392e-01],\n",
       "        [ 5.1299e-01],\n",
       "        [ 5.3973e-01],\n",
       "        [ 5.6551e-01],\n",
       "        [ 5.0579e-01],\n",
       "        [ 2.2245e-01],\n",
       "        [-6.8548e-01],\n",
       "        [ 5.6356e-01],\n",
       "        [-1.5072e+00],\n",
       "        [-1.6107e+00],\n",
       "        [-1.4790e+00],\n",
       "        [ 4.3227e-01],\n",
       "        [-1.2503e-01],\n",
       "        [ 7.8212e-01],\n",
       "        [-1.5988e+00],\n",
       "        [-1.0913e-01],\n",
       "        [ 7.1520e-01],\n",
       "        [ 3.9140e-02],\n",
       "        [ 1.3059e+00],\n",
       "        [ 2.4659e-01],\n",
       "        [-1.9776e+00],\n",
       "        [ 1.7896e-02],\n",
       "        [-1.3793e+00],\n",
       "        [ 6.2580e-01],\n",
       "        [-2.5850e+00],\n",
       "        [-2.3999e-02],\n",
       "        [-1.2219e-01],\n",
       "        [-7.4700e-01],\n",
       "        [ 1.7093e+00],\n",
       "        [ 5.7923e-02],\n",
       "        [ 1.1930e+00],\n",
       "        [ 1.9373e+00],\n",
       "        [ 7.2871e-01],\n",
       "        [ 9.8089e-01],\n",
       "        [ 4.1459e-01],\n",
       "        [ 1.1566e+00],\n",
       "        [ 2.6905e-01],\n",
       "        [-3.6629e-02],\n",
       "        [ 9.7329e-01],\n",
       "        [-1.0151e+00],\n",
       "        [-5.4192e-01],\n",
       "        [-4.4102e-01],\n",
       "        [-3.1362e-01],\n",
       "        [-1.2925e-01],\n",
       "        [-7.1496e-01],\n",
       "        [-4.7562e-02],\n",
       "        [ 2.0207e+00],\n",
       "        [ 2.5392e-01],\n",
       "        [ 9.3644e-01],\n",
       "        [ 7.1224e-01],\n",
       "        [-3.1766e-02],\n",
       "        [ 1.0164e-01],\n",
       "        [ 1.3433e+00],\n",
       "        [ 7.1327e-01],\n",
       "        [ 4.0380e-01],\n",
       "        [-7.1398e-01],\n",
       "        [ 8.3373e-01],\n",
       "        [-9.5855e-01],\n",
       "        [ 4.5363e-01],\n",
       "        [ 1.2461e+00],\n",
       "        [-2.3065e+00],\n",
       "        [-1.2869e+00],\n",
       "        [ 1.7989e-01],\n",
       "        [-2.1268e+00],\n",
       "        [-1.3408e-01],\n",
       "        [-1.0408e+00],\n",
       "        [-7.6472e-01],\n",
       "        [-5.5283e-02],\n",
       "        [ 1.2049e+00],\n",
       "        [-9.8247e-01],\n",
       "        [ 4.3344e-01],\n",
       "        [-7.1719e-01],\n",
       "        [ 1.0554e+00],\n",
       "        [-1.4534e+00],\n",
       "        [ 4.6515e-01],\n",
       "        [ 3.7139e-01],\n",
       "        [-4.6568e-03],\n",
       "        [ 7.9549e-02],\n",
       "        [ 3.7818e-01],\n",
       "        [ 7.0511e-01],\n",
       "        [-1.7237e+00],\n",
       "        [-8.4348e-01],\n",
       "        [ 4.3514e-01],\n",
       "        [ 2.6589e-01],\n",
       "        [-5.8710e-01],\n",
       "        [ 8.2689e-02],\n",
       "        [ 8.8538e-01],\n",
       "        [ 1.8244e-01],\n",
       "        [ 7.8638e-01],\n",
       "        [-5.7920e-02],\n",
       "        [ 5.6667e-01],\n",
       "        [-7.0976e-01],\n",
       "        [-4.8751e-01],\n",
       "        [ 5.0096e-02],\n",
       "        [ 6.0841e-01],\n",
       "        [ 1.6309e+00],\n",
       "        [-8.4723e-02],\n",
       "        [ 1.0844e+00],\n",
       "        [ 9.4777e-01],\n",
       "        [-6.7663e-01],\n",
       "        [-5.7302e-01],\n",
       "        [-3.3032e-01],\n",
       "        [-7.9394e-01],\n",
       "        [ 3.7523e-01],\n",
       "        [ 8.7910e-02],\n",
       "        [-1.2415e+00],\n",
       "        [-3.2025e-01],\n",
       "        [-8.4438e-01],\n",
       "        [-5.5135e-01],\n",
       "        [ 1.9890e+00],\n",
       "        [ 1.9003e+00],\n",
       "        [ 1.6951e+00],\n",
       "        [ 2.8090e-02],\n",
       "        [-1.7537e-01],\n",
       "        [-1.7735e+00],\n",
       "        [-7.0464e-01],\n",
       "        [-3.9465e-01],\n",
       "        [ 1.8868e+00],\n",
       "        [-2.1844e-01],\n",
       "        [ 1.6630e-01],\n",
       "        [ 2.1442e+00],\n",
       "        [ 1.7046e+00],\n",
       "        [ 3.4590e-01],\n",
       "        [ 6.4248e-01],\n",
       "        [-2.0395e-01],\n",
       "        [ 6.8537e-01],\n",
       "        [-1.3969e-01],\n",
       "        [-1.1808e+00],\n",
       "        [-1.2829e+00],\n",
       "        [ 4.4849e-01],\n",
       "        [-5.9074e-01],\n",
       "        [ 8.5406e-01],\n",
       "        [-4.9007e-01],\n",
       "        [-3.5946e-01],\n",
       "        [ 6.6637e-01],\n",
       "        [-7.4266e-02],\n",
       "        [-2.0960e-01],\n",
       "        [ 1.6632e-01],\n",
       "        [ 1.4703e+00],\n",
       "        [-9.3909e-01],\n",
       "        [-6.0132e-01],\n",
       "        [-9.9640e-02],\n",
       "        [-9.8515e-01],\n",
       "        [-2.4885e+00],\n",
       "        [-3.3132e-01],\n",
       "        [ 8.4358e-01],\n",
       "        [ 9.8745e-01],\n",
       "        [-3.3197e-01],\n",
       "        [-8.0762e-01],\n",
       "        [ 8.2436e-01],\n",
       "        [ 2.4700e-02],\n",
       "        [-1.0641e+00],\n",
       "        [-7.6019e-01],\n",
       "        [-4.0751e-01],\n",
       "        [ 9.6236e-01],\n",
       "        [-1.4264e-01],\n",
       "        [ 1.5271e-01],\n",
       "        [-3.8802e-02],\n",
       "        [ 9.4461e-01],\n",
       "        [-1.5824e+00],\n",
       "        [ 9.8713e-01],\n",
       "        [ 1.1457e+00],\n",
       "        [-1.4181e-01],\n",
       "        [-2.7634e-01],\n",
       "        [-1.9321e-01],\n",
       "        [ 7.7678e-01],\n",
       "        [ 6.8388e-01],\n",
       "        [-1.3246e+00],\n",
       "        [-5.1608e-01],\n",
       "        [ 6.0018e-01],\n",
       "        [-4.7022e-01],\n",
       "        [-6.0864e-01],\n",
       "        [-4.6192e-02],\n",
       "        [-1.6457e+00],\n",
       "        [-4.8333e-01],\n",
       "        [-7.4029e-01],\n",
       "        [ 3.1428e-01],\n",
       "        [ 1.4156e-01],\n",
       "        [ 1.0348e+00],\n",
       "        [-6.2644e-01],\n",
       "        [-5.1509e-01],\n",
       "        [ 6.9029e-01],\n",
       "        [-4.9400e-01],\n",
       "        [ 1.1366e+00],\n",
       "        [-4.6184e-01],\n",
       "        [ 1.4200e+00],\n",
       "        [ 8.4852e-01],\n",
       "        [-4.7891e-02],\n",
       "        [ 6.6856e-01],\n",
       "        [ 1.0430e+00],\n",
       "        [ 6.8990e-01],\n",
       "        [-1.3129e+00],\n",
       "        [ 3.7804e-02],\n",
       "        [-1.1702e+00],\n",
       "        [-1.0319e-01],\n",
       "        [ 1.1895e+00],\n",
       "        [ 7.6069e-01],\n",
       "        [-7.4630e-01],\n",
       "        [-1.3839e+00],\n",
       "        [ 4.8687e-01],\n",
       "        [-1.0020e+00],\n",
       "        [ 3.2949e-02],\n",
       "        [-4.2920e-01],\n",
       "        [-9.8180e-01],\n",
       "        [-6.4206e-01],\n",
       "        [ 8.2659e-01],\n",
       "        [ 1.5914e+00],\n",
       "        [-1.2081e-01],\n",
       "        [-4.8302e-01],\n",
       "        [ 1.1330e-01],\n",
       "        [ 7.7151e-02],\n",
       "        [-9.2281e-01],\n",
       "        [-1.2620e+00],\n",
       "        [ 1.0861e+00],\n",
       "        [ 1.0966e+00],\n",
       "        [-6.8369e-01],\n",
       "        [ 6.6043e-02],\n",
       "        [-7.7414e-04],\n",
       "        [ 1.6206e-01],\n",
       "        [ 1.1960e+00],\n",
       "        [-1.3062e+00],\n",
       "        [-1.4040e+00],\n",
       "        [-1.0597e+00],\n",
       "        [ 3.0573e-01],\n",
       "        [ 4.1506e-01],\n",
       "        [-7.1741e-01],\n",
       "        [ 2.8340e+00],\n",
       "        [ 1.9535e+00],\n",
       "        [ 2.0487e+00],\n",
       "        [-1.0880e+00],\n",
       "        [ 1.6217e+00],\n",
       "        [ 8.5127e-01],\n",
       "        [-4.0047e-01],\n",
       "        [-6.0883e-01],\n",
       "        [-5.0810e-01],\n",
       "        [-6.1849e-01],\n",
       "        [-1.6470e+00],\n",
       "        [-1.0362e+00],\n",
       "        [-4.5031e-01],\n",
       "        [-7.2966e-02],\n",
       "        [-5.4795e-01],\n",
       "        [-1.1426e+00],\n",
       "        [-4.4875e-01],\n",
       "        [-3.0454e-02],\n",
       "        [ 3.8303e-01],\n",
       "        [-4.4770e-02],\n",
       "        [ 1.1799e+00],\n",
       "        [-3.3143e-01],\n",
       "        [ 6.4950e-01],\n",
       "        [ 9.4959e-02],\n",
       "        [-7.5259e-01],\n",
       "        [-6.4723e-01],\n",
       "        [-1.2823e+00],\n",
       "        [ 1.9653e+00],\n",
       "        [-9.6385e-01],\n",
       "        [-2.5668e+00],\n",
       "        [ 7.0961e-01],\n",
       "        [ 8.1984e-01],\n",
       "        [ 6.2145e-01],\n",
       "        [ 4.2319e-01],\n",
       "        [-3.3890e-01],\n",
       "        [ 5.1797e-01],\n",
       "        [-1.3638e+00],\n",
       "        [ 1.9296e-01],\n",
       "        [-6.1033e-01],\n",
       "        [ 1.6323e-01],\n",
       "        [ 1.5102e+00],\n",
       "        [ 2.1230e-01],\n",
       "        [-7.2520e-01],\n",
       "        [-9.5277e-01],\n",
       "        [ 5.2169e-01],\n",
       "        [-4.6387e-01],\n",
       "        [ 1.8238e-01],\n",
       "        [-3.8666e-01],\n",
       "        [-1.7907e+00],\n",
       "        [ 9.3293e-02],\n",
       "        [-1.9153e+00],\n",
       "        [-6.4218e-01],\n",
       "        [ 1.3439e+00],\n",
       "        [-1.2922e+00],\n",
       "        [ 7.6624e-01],\n",
       "        [ 6.4540e-01],\n",
       "        [ 3.5332e-01],\n",
       "        [-2.6475e+00],\n",
       "        [-1.4575e+00],\n",
       "        [-9.7124e-01],\n",
       "        [ 2.5403e-01],\n",
       "        [-1.7906e-01],\n",
       "        [ 1.1993e+00],\n",
       "        [-4.2922e-01],\n",
       "        [ 1.0103e+00],\n",
       "        [ 6.1104e-01],\n",
       "        [ 1.2208e+00],\n",
       "        [-6.0764e-01],\n",
       "        [-1.7376e+00],\n",
       "        [-1.2535e-01],\n",
       "        [-1.3658e+00],\n",
       "        [ 1.1117e+00],\n",
       "        [-6.2280e-01],\n",
       "        [-7.8918e-01],\n",
       "        [-1.6782e-01],\n",
       "        [ 1.6433e+00],\n",
       "        [ 2.0071e+00],\n",
       "        [-1.2531e+00],\n",
       "        [ 1.1189e+00],\n",
       "        [ 1.7733e+00],\n",
       "        [-2.0717e+00],\n",
       "        [-4.1253e-01],\n",
       "        [-9.7696e-01],\n",
       "        [-3.3634e-02],\n",
       "        [ 1.8595e+00],\n",
       "        [ 2.6221e+00],\n",
       "        [ 3.6905e-01],\n",
       "        [ 3.8030e-01],\n",
       "        [ 1.9898e-01],\n",
       "        [-2.3609e-01],\n",
       "        [ 3.0341e-01],\n",
       "        [-4.5008e-01],\n",
       "        [ 4.7390e-01],\n",
       "        [ 6.5034e-01],\n",
       "        [ 1.1662e+00],\n",
       "        [ 1.6936e-02],\n",
       "        [ 5.3259e-01],\n",
       "        [-6.0354e-01],\n",
       "        [-1.7426e-01],\n",
       "        [ 6.0921e-01],\n",
       "        [-8.0322e-01],\n",
       "        [-1.1209e+00],\n",
       "        [ 1.9564e-01],\n",
       "        [-7.8152e-01],\n",
       "        [-1.7899e+00],\n",
       "        [-2.6157e-01],\n",
       "        [-4.4025e-01],\n",
       "        [ 2.1848e+00],\n",
       "        [-4.8010e-01],\n",
       "        [-1.2872e+00],\n",
       "        [ 7.3888e-01],\n",
       "        [ 3.3895e-02],\n",
       "        [-3.1229e-01],\n",
       "        [-2.5418e-01],\n",
       "        [-1.2055e+00],\n",
       "        [-9.5421e-01],\n",
       "        [ 6.1277e-02],\n",
       "        [ 8.5261e-02],\n",
       "        [ 7.4813e-01],\n",
       "        [-1.6356e-01],\n",
       "        [-9.0856e-01],\n",
       "        [ 3.1300e-01],\n",
       "        [ 8.0505e-01],\n",
       "        [-1.1134e+00],\n",
       "        [ 4.9816e-01],\n",
       "        [-1.2000e+00],\n",
       "        [ 1.2711e-01],\n",
       "        [ 4.4037e-01],\n",
       "        [ 6.3777e-01],\n",
       "        [ 1.5979e-01],\n",
       "        [ 1.7698e+00],\n",
       "        [ 6.2682e-01],\n",
       "        [-1.8737e+00],\n",
       "        [ 2.3259e+00],\n",
       "        [-9.2039e-01],\n",
       "        [ 6.6611e-01],\n",
       "        [-4.4026e-01],\n",
       "        [-2.3180e+00],\n",
       "        [ 1.2946e+00],\n",
       "        [ 2.2267e-01],\n",
       "        [-8.4834e-01],\n",
       "        [ 1.6489e+00],\n",
       "        [ 1.6006e+00],\n",
       "        [-7.8589e-02],\n",
       "        [ 4.3105e-01],\n",
       "        [ 3.6835e-01],\n",
       "        [ 7.6380e-01],\n",
       "        [ 1.1792e+00],\n",
       "        [-4.1379e-01],\n",
       "        [ 5.1841e-01],\n",
       "        [-7.0154e-01],\n",
       "        [-4.3234e-01],\n",
       "        [ 1.4148e-01],\n",
       "        [ 7.1104e-02],\n",
       "        [ 5.6335e-01],\n",
       "        [-5.7864e-01],\n",
       "        [-1.0838e+00],\n",
       "        [-3.8893e-01],\n",
       "        [ 8.1261e-01],\n",
       "        [ 1.4981e+00],\n",
       "        [ 4.3896e-02],\n",
       "        [ 1.4443e+00],\n",
       "        [ 2.3203e-01],\n",
       "        [ 5.0650e-01],\n",
       "        [-1.2787e+00],\n",
       "        [-3.8427e-02],\n",
       "        [ 1.9138e+00],\n",
       "        [ 3.3784e-01],\n",
       "        [ 1.2506e-01],\n",
       "        [-7.6215e-01],\n",
       "        [-1.1906e+00],\n",
       "        [ 7.7561e-01],\n",
       "        [ 4.5572e-01],\n",
       "        [ 2.5033e-01],\n",
       "        [-1.3611e+00],\n",
       "        [ 1.8018e+00],\n",
       "        [-7.4342e-02],\n",
       "        [-1.5664e-01],\n",
       "        [-8.7085e-01],\n",
       "        [-6.4110e-01],\n",
       "        [-4.1456e-01],\n",
       "        [-6.9024e-01],\n",
       "        [-2.2996e-01],\n",
       "        [-2.1723e+00],\n",
       "        [ 8.7683e-02],\n",
       "        [ 1.0938e+00],\n",
       "        [-1.1772e-01],\n",
       "        [-2.9864e-01],\n",
       "        [-9.5362e-01],\n",
       "        [-9.2473e-02],\n",
       "        [-1.0167e+00],\n",
       "        [-7.6757e-03],\n",
       "        [-5.1822e-01],\n",
       "        [ 8.3954e-01],\n",
       "        [ 5.8523e-02],\n",
       "        [-1.6682e+00],\n",
       "        [ 2.1296e+00],\n",
       "        [-1.5181e+00],\n",
       "        [ 1.3873e-01],\n",
       "        [-1.1798e+00],\n",
       "        [-5.2974e-01],\n",
       "        [ 9.6252e-01],\n",
       "        [ 2.7944e-01],\n",
       "        [-5.7182e-01],\n",
       "        [-2.7936e+00],\n",
       "        [-7.1115e-01],\n",
       "        [ 5.2352e-01],\n",
       "        [-1.7106e+00],\n",
       "        [ 8.3849e-01],\n",
       "        [-2.6985e-01],\n",
       "        [ 1.2306e-01],\n",
       "        [ 8.7575e-01],\n",
       "        [ 1.5133e-01],\n",
       "        [ 7.3939e-01],\n",
       "        [ 2.7310e-01],\n",
       "        [ 2.7312e+00],\n",
       "        [ 4.3201e-01],\n",
       "        [-3.0918e-01],\n",
       "        [-9.6581e-02],\n",
       "        [ 1.5419e+00],\n",
       "        [-1.0874e-01],\n",
       "        [-4.1890e-01],\n",
       "        [ 1.4384e+00],\n",
       "        [-7.0684e-01],\n",
       "        [-1.2520e+00],\n",
       "        [ 3.0250e+00],\n",
       "        [ 1.3463e+00],\n",
       "        [ 8.5561e-01],\n",
       "        [ 3.2203e-01],\n",
       "        [ 4.4606e-01],\n",
       "        [ 1.5230e+00],\n",
       "        [ 1.2805e+00],\n",
       "        [-1.1616e-01],\n",
       "        [ 1.3705e+00],\n",
       "        [-4.8094e-01],\n",
       "        [-9.9036e-01],\n",
       "        [-1.3642e+00],\n",
       "        [ 8.2057e-03],\n",
       "        [-4.0586e-01],\n",
       "        [-7.1109e-01],\n",
       "        [-3.4958e-01],\n",
       "        [ 3.7975e-01],\n",
       "        [ 9.9930e-01],\n",
       "        [ 1.2752e+00],\n",
       "        [ 9.5949e-01],\n",
       "        [ 1.0351e-01],\n",
       "        [ 8.2903e-01],\n",
       "        [ 2.0921e+00],\n",
       "        [ 7.9531e-01],\n",
       "        [ 2.7928e-01],\n",
       "        [ 1.8645e-01],\n",
       "        [ 3.5471e-01],\n",
       "        [ 9.0639e-02],\n",
       "        [ 1.7423e+00],\n",
       "        [-1.2660e+00],\n",
       "        [ 3.8916e-01],\n",
       "        [ 3.4288e-01],\n",
       "        [-1.4591e+00],\n",
       "        [-1.4937e+00],\n",
       "        [-2.2139e-01],\n",
       "        [ 2.2524e-01],\n",
       "        [-7.7245e-02],\n",
       "        [ 9.8569e-01],\n",
       "        [ 1.2783e+00],\n",
       "        [ 2.8815e-01],\n",
       "        [ 8.6905e-01],\n",
       "        [-8.0971e-01],\n",
       "        [-1.4299e+00],\n",
       "        [ 4.5902e-01],\n",
       "        [ 5.3093e-01],\n",
       "        [-1.3615e+00],\n",
       "        [ 1.9562e+00],\n",
       "        [ 1.7685e+00],\n",
       "        [-9.8580e-01],\n",
       "        [-1.2371e+00],\n",
       "        [-2.3019e+00],\n",
       "        [-1.0086e-03],\n",
       "        [-8.4943e-01],\n",
       "        [-1.6594e+00],\n",
       "        [ 3.0629e-01],\n",
       "        [ 1.1820e+00],\n",
       "        [ 3.2603e-01],\n",
       "        [-3.8945e-01],\n",
       "        [ 2.8544e+00],\n",
       "        [ 8.2437e-01],\n",
       "        [ 7.9835e-01],\n",
       "        [ 1.8890e+00],\n",
       "        [ 5.9346e-01],\n",
       "        [ 6.9654e-02],\n",
       "        [-1.6034e+00],\n",
       "        [-4.2982e-01],\n",
       "        [ 5.7616e-01],\n",
       "        [ 3.4436e-01],\n",
       "        [-3.1016e+00],\n",
       "        [-1.4587e+00],\n",
       "        [-1.4318e+00],\n",
       "        [-6.0713e-01],\n",
       "        [-2.5974e-01],\n",
       "        [-7.1902e-01],\n",
       "        [-3.8583e-01],\n",
       "        [ 5.2335e-01],\n",
       "        [-8.2118e-01],\n",
       "        [-4.7087e-01],\n",
       "        [ 6.0164e-01],\n",
       "        [-2.8251e-01],\n",
       "        [ 7.6927e-01],\n",
       "        [-7.6689e-01],\n",
       "        [-9.4949e-01],\n",
       "        [ 1.6917e-02],\n",
       "        [ 8.0277e-02],\n",
       "        [ 7.4484e-01],\n",
       "        [ 1.3455e+00],\n",
       "        [ 1.2682e-01],\n",
       "        [-2.4521e+00],\n",
       "        [ 4.1598e-01],\n",
       "        [ 1.9025e+00],\n",
       "        [-7.3467e-01],\n",
       "        [ 4.4657e-02],\n",
       "        [-1.5211e+00],\n",
       "        [ 3.4784e-01],\n",
       "        [ 7.4018e-01],\n",
       "        [ 1.4162e+00],\n",
       "        [ 6.8340e-01],\n",
       "        [-1.3825e-01],\n",
       "        [ 9.2130e-01],\n",
       "        [ 5.2824e-01],\n",
       "        [-8.2284e-03],\n",
       "        [-1.4493e+00],\n",
       "        [-6.0518e-01],\n",
       "        [-1.7925e-01],\n",
       "        [ 1.9956e-01],\n",
       "        [-1.2462e+00],\n",
       "        [-4.1460e-01],\n",
       "        [ 1.4559e+00],\n",
       "        [ 3.3165e-01],\n",
       "        [-1.0001e+00],\n",
       "        [-6.9195e-01],\n",
       "        [-4.7199e-01],\n",
       "        [-1.2894e+00],\n",
       "        [ 1.0763e+00],\n",
       "        [-1.0667e+00],\n",
       "        [-1.9893e+00],\n",
       "        [ 2.9731e-01],\n",
       "        [ 4.3446e-01],\n",
       "        [ 3.3933e-03],\n",
       "        [-1.0240e+00],\n",
       "        [ 2.2405e-01],\n",
       "        [-7.5548e-01],\n",
       "        [ 1.3676e+00],\n",
       "        [-3.1974e-01],\n",
       "        [-9.1309e-01],\n",
       "        [ 1.9192e+00],\n",
       "        [-1.6515e+00],\n",
       "        [ 2.1477e+00],\n",
       "        [-6.6041e-01],\n",
       "        [ 1.1353e-01]], requires_grad=True)"
      ]
     },
     "execution_count": 78,
     "metadata": {},
     "output_type": "execute_result"
    }
   ],
   "source": [
    "weights"
   ]
  },
  {
   "cell_type": "code",
   "execution_count": 79,
   "metadata": {},
   "outputs": [],
   "source": [
    "bias = init_params(1)"
   ]
  },
  {
   "cell_type": "code",
   "execution_count": 80,
   "metadata": {},
   "outputs": [
    {
     "data": {
      "text/plain": [
       "tensor([8.4957], grad_fn=<AddBackward0>)"
      ]
     },
     "execution_count": 80,
     "metadata": {},
     "output_type": "execute_result"
    }
   ],
   "source": [
    "(train_x[0]*weights.T).sum() + bias"
   ]
  },
  {
   "cell_type": "code",
   "execution_count": 81,
   "metadata": {},
   "outputs": [
    {
     "data": {
      "text/plain": [
       "tensor([[ 8.4957],\n",
       "        [13.4714],\n",
       "        [ 8.0717],\n",
       "        ...,\n",
       "        [ 6.3964],\n",
       "        [ 2.9858],\n",
       "        [-0.0811]], grad_fn=<AddBackward0>)"
      ]
     },
     "execution_count": 81,
     "metadata": {},
     "output_type": "execute_result"
    }
   ],
   "source": [
    "def linear1(xb): return xb@weights + bias\n",
    "preds = linear1(train_x)\n",
    "preds"
   ]
  },
  {
   "cell_type": "code",
   "execution_count": 82,
   "metadata": {},
   "outputs": [
    {
     "data": {
      "text/plain": [
       "(torch.Size([12396, 784]), torch.Size([784, 1]))"
      ]
     },
     "execution_count": 82,
     "metadata": {},
     "output_type": "execute_result"
    }
   ],
   "source": [
    "train_x.shape, weights.shape"
   ]
  },
  {
   "cell_type": "code",
   "execution_count": 83,
   "metadata": {},
   "outputs": [],
   "source": [
    "corrects = (preds>0.0).float() == train_y"
   ]
  },
  {
   "cell_type": "code",
   "execution_count": 84,
   "metadata": {},
   "outputs": [
    {
     "data": {
      "text/plain": [
       "tensor([[ True],\n",
       "        [ True],\n",
       "        [ True],\n",
       "        ...,\n",
       "        [False],\n",
       "        [False],\n",
       "        [ True]])"
      ]
     },
     "execution_count": 84,
     "metadata": {},
     "output_type": "execute_result"
    }
   ],
   "source": [
    "corrects"
   ]
  },
  {
   "cell_type": "code",
   "execution_count": 85,
   "metadata": {},
   "outputs": [
    {
     "data": {
      "text/plain": [
       "0.5440464615821838"
      ]
     },
     "execution_count": 85,
     "metadata": {},
     "output_type": "execute_result"
    }
   ],
   "source": [
    "corrects.float().mean().item()"
   ]
  },
  {
   "cell_type": "code",
   "execution_count": 86,
   "metadata": {},
   "outputs": [],
   "source": [
    "with torch.no_grad(): weights[0] *= 1.0001"
   ]
  },
  {
   "cell_type": "code",
   "execution_count": 87,
   "metadata": {},
   "outputs": [
    {
     "data": {
      "text/plain": [
       "0.5440464615821838"
      ]
     },
     "execution_count": 87,
     "metadata": {},
     "output_type": "execute_result"
    }
   ],
   "source": [
    "preds = linear1(train_x)\n",
    "((preds>0.0).float() == train_y).float().mean().item()"
   ]
  },
  {
   "cell_type": "markdown",
   "metadata": {},
   "source": [
    "Accuracy is the number that represents how accurate we are based on which predictions are actually correct. We cant use it as a loss function because its not continuous. The gradient will be 0 almost anywhere because increasing one weight by a little bit in either direction wont be likely to change the value of whether the prediction is right or not"
   ]
  },
  {
   "cell_type": "code",
   "execution_count": 88,
   "metadata": {},
   "outputs": [],
   "source": [
    "def mnist_loss(predictions, targets): \n",
    "  return torch.where(targets==1, 1-predictions, predictions).mean()"
   ]
  },
  {
   "cell_type": "code",
   "execution_count": 89,
   "metadata": {},
   "outputs": [],
   "source": [
    "trgts  = tensor([1,0,1])\n",
    "prds   = tensor([0.9, 0.4, 0.2])"
   ]
  },
  {
   "cell_type": "code",
   "execution_count": 90,
   "metadata": {},
   "outputs": [
    {
     "data": {
      "text/plain": [
       "tensor([0.1000, 0.4000, 0.8000])"
      ]
     },
     "execution_count": 90,
     "metadata": {},
     "output_type": "execute_result"
    }
   ],
   "source": [
    "result = torch.where(trgts==1, 1-prds, prds)\n",
    "\n",
    "result"
   ]
  },
  {
   "cell_type": "code",
   "execution_count": 91,
   "metadata": {},
   "outputs": [
    {
     "data": {
      "text/plain": [
       "tensor(0.4333)"
      ]
     },
     "execution_count": 91,
     "metadata": {},
     "output_type": "execute_result"
    }
   ],
   "source": [
    "mnist_loss(prds, trgts)"
   ]
  },
  {
   "cell_type": "markdown",
   "metadata": {},
   "source": [
    "A sigmoid function makes sure an output is always between 1 & 0"
   ]
  },
  {
   "cell_type": "code",
   "execution_count": 92,
   "metadata": {},
   "outputs": [],
   "source": [
    "def sigmoid(x): return 1/(1+torch.exp(-x))"
   ]
  },
  {
   "cell_type": "code",
   "execution_count": 93,
   "metadata": {},
   "outputs": [
    {
     "data": {
      "image/png": "[encoded data removed]",
      "text/plain": [
       "<Figure size 600x400 with 1 Axes>"
      ]
     },
     "metadata": {},
     "output_type": "display_data"
    }
   ],
   "source": [
    "plot_function(torch.sigmoid, title='Sigmoid', min=-4, max=4)"
   ]
  },
  {
   "cell_type": "code",
   "execution_count": 94,
   "metadata": {},
   "outputs": [],
   "source": [
    "def mnist_loss(predictions, targets):\n",
    "    predictions = predictions.sigmoid()\n",
    "    return torch.where(targets==1, 1-predictions, predictions).mean()"
   ]
  },
  {
   "cell_type": "code",
   "execution_count": 95,
   "metadata": {},
   "outputs": [
    {
     "data": {
      "text/plain": [
       "(#26) [(0, 'a'),(1, 'b'),(2, 'c'),(3, 'd'),(4, 'e'),(5, 'f'),(6, 'g'),(7, 'h'),(8, 'i'),(9, 'j')...]"
      ]
     },
     "execution_count": 95,
     "metadata": {},
     "output_type": "execute_result"
    }
   ],
   "source": [
    "L(enumerate(string.ascii_lowercase))"
   ]
  },
  {
   "cell_type": "code",
   "execution_count": 96,
   "metadata": {},
   "outputs": [
    {
     "data": {
      "text/plain": [
       "tensor([[-3.4888e-01],\n",
       "        [-4.5792e-01],\n",
       "        [-1.2322e+00],\n",
       "        [-5.9808e-01],\n",
       "        [-1.3493e-01],\n",
       "        [ 1.4877e-01],\n",
       "        [-2.3777e-01],\n",
       "        [-1.0139e-01],\n",
       "        [ 4.8813e-01],\n",
       "        [ 1.0082e+00],\n",
       "        [-5.9500e-01],\n",
       "        [ 3.9263e-01],\n",
       "        [-1.4314e+00],\n",
       "        [-3.9799e-02],\n",
       "        [-5.0034e-01],\n",
       "        [ 2.9304e-01],\n",
       "        [-2.0005e-01],\n",
       "        [ 9.9495e-01],\n",
       "        [ 7.2019e-01],\n",
       "        [-1.3413e-01],\n",
       "        [-1.6446e-01],\n",
       "        [ 1.3389e+00],\n",
       "        [ 2.0047e+00],\n",
       "        [-1.5808e+00],\n",
       "        [-1.5693e-01],\n",
       "        [ 1.1383e+00],\n",
       "        [-2.5052e-01],\n",
       "        [ 1.6705e+00],\n",
       "        [ 1.8888e+00],\n",
       "        [-7.5381e-01],\n",
       "        [-1.7143e+00],\n",
       "        [-2.2070e+00],\n",
       "        [ 3.6579e-01],\n",
       "        [-3.9920e-01],\n",
       "        [ 4.9674e-01],\n",
       "        [-2.3692e+00],\n",
       "        [-2.7667e-01],\n",
       "        [-3.3858e-01],\n",
       "        [-8.8103e-01],\n",
       "        [ 3.4835e-01],\n",
       "        [-1.1756e+00],\n",
       "        [-7.8323e-02],\n",
       "        [-9.7058e-01],\n",
       "        [ 1.4724e+00],\n",
       "        [-1.3775e+00],\n",
       "        [-1.2044e+00],\n",
       "        [-4.8242e-01],\n",
       "        [-8.1642e-01],\n",
       "        [-1.5844e+00],\n",
       "        [-2.5447e+00],\n",
       "        [ 1.3719e+00],\n",
       "        [-5.3795e-01],\n",
       "        [-1.7564e-01],\n",
       "        [-3.6833e-01],\n",
       "        [-8.3345e-01],\n",
       "        [-3.3530e-01],\n",
       "        [ 9.2000e-01],\n",
       "        [-3.7876e-01],\n",
       "        [-1.5598e+00],\n",
       "        [-8.0095e-01],\n",
       "        [ 3.5879e-01],\n",
       "        [ 1.2862e+00],\n",
       "        [ 8.2114e-01],\n",
       "        [ 9.0019e-01],\n",
       "        [-2.3908e+00],\n",
       "        [ 3.2225e-01],\n",
       "        [ 1.8754e+00],\n",
       "        [ 1.1043e+00],\n",
       "        [ 1.1282e+00],\n",
       "        [-1.7131e-01],\n",
       "        [ 2.3035e-01],\n",
       "        [-3.6578e-01],\n",
       "        [ 5.0993e-01],\n",
       "        [ 1.6706e+00],\n",
       "        [ 1.5921e+00],\n",
       "        [-4.1619e-01],\n",
       "        [-7.5094e-01],\n",
       "        [-1.4861e+00],\n",
       "        [-3.3338e-02],\n",
       "        [ 1.1998e+00],\n",
       "        [ 1.0301e+00],\n",
       "        [-8.6810e-01],\n",
       "        [-5.7016e-01],\n",
       "        [ 3.2332e-01],\n",
       "        [-1.7204e-01],\n",
       "        [-1.3672e+00],\n",
       "        [ 6.4966e-01],\n",
       "        [-3.3725e-01],\n",
       "        [-8.1148e-02],\n",
       "        [ 1.2587e+00],\n",
       "        [ 8.6913e-01],\n",
       "        [-9.6094e-01],\n",
       "        [ 3.8965e-01],\n",
       "        [ 3.7807e-01],\n",
       "        [-1.3723e-01],\n",
       "        [ 1.1605e+00],\n",
       "        [ 4.2347e-01],\n",
       "        [-3.8746e-01],\n",
       "        [-2.2964e-01],\n",
       "        [-4.0709e-01],\n",
       "        [ 7.0701e-01],\n",
       "        [-1.2130e+00],\n",
       "        [ 8.9170e-01],\n",
       "        [ 7.0017e-01],\n",
       "        [ 3.5730e-01],\n",
       "        [ 5.8928e-01],\n",
       "        [ 9.1878e-01],\n",
       "        [ 6.6628e-01],\n",
       "        [ 2.2452e-01],\n",
       "        [-9.7451e-01],\n",
       "        [ 9.8167e-01],\n",
       "        [ 5.8369e-01],\n",
       "        [ 2.7613e-01],\n",
       "        [-5.8957e-01],\n",
       "        [ 5.6918e-01],\n",
       "        [-7.9110e-01],\n",
       "        [ 1.4817e+00],\n",
       "        [-1.7027e+00],\n",
       "        [ 1.3427e+00],\n",
       "        [-1.7466e-01],\n",
       "        [ 3.4005e-01],\n",
       "        [ 1.4557e+00],\n",
       "        [-3.4610e-01],\n",
       "        [-2.6338e-01],\n",
       "        [ 1.5014e+00],\n",
       "        [-3.3501e-02],\n",
       "        [ 1.1346e+00],\n",
       "        [ 1.4366e-01],\n",
       "        [-6.3077e-01],\n",
       "        [-7.8877e-01],\n",
       "        [ 1.3062e+00],\n",
       "        [-9.2758e-01],\n",
       "        [-4.5160e-01],\n",
       "        [ 3.6237e-01],\n",
       "        [ 1.2908e+00],\n",
       "        [ 1.5468e+00],\n",
       "        [-7.0892e-01],\n",
       "        [ 2.1861e+00],\n",
       "        [-6.4932e-01],\n",
       "        [ 4.5214e-01],\n",
       "        [ 1.2460e+00],\n",
       "        [-8.6473e-01],\n",
       "        [-8.4755e-01],\n",
       "        [-2.3523e-02],\n",
       "        [-3.8758e-01],\n",
       "        [-7.1240e-01],\n",
       "        [-1.6171e+00],\n",
       "        [-3.5899e-01],\n",
       "        [-1.1988e-01],\n",
       "        [ 9.4048e-01],\n",
       "        [ 4.7628e-01],\n",
       "        [ 1.3965e-02],\n",
       "        [-1.3924e+00],\n",
       "        [ 5.4047e-01],\n",
       "        [ 4.3507e-01],\n",
       "        [-2.2717e+00],\n",
       "        [ 6.9916e-02],\n",
       "        [ 5.1788e-01],\n",
       "        [-3.4573e-01],\n",
       "        [ 1.3411e+00],\n",
       "        [ 7.4480e-02],\n",
       "        [-1.4929e-01],\n",
       "        [-5.5225e-01],\n",
       "        [-9.3420e-02],\n",
       "        [-4.1371e-01],\n",
       "        [-5.2854e-01],\n",
       "        [-5.0818e-01],\n",
       "        [ 1.1478e+00],\n",
       "        [ 1.0827e+00],\n",
       "        [ 1.2499e+00],\n",
       "        [ 9.8214e-01],\n",
       "        [ 2.2690e-01],\n",
       "        [ 1.5630e+00],\n",
       "        [ 5.9832e-01],\n",
       "        [-5.4073e-01],\n",
       "        [ 7.8416e-01],\n",
       "        [ 6.4777e-01],\n",
       "        [-4.3242e-01],\n",
       "        [ 1.1740e+00],\n",
       "        [ 7.0114e-01],\n",
       "        [ 1.0107e-01],\n",
       "        [-1.3095e+00],\n",
       "        [-4.1036e-01],\n",
       "        [ 4.6809e-01],\n",
       "        [ 1.4176e-01],\n",
       "        [ 1.1085e+00],\n",
       "        [ 5.5442e-01],\n",
       "        [ 1.5818e+00],\n",
       "        [-5.5852e-01],\n",
       "        [ 6.6369e-01],\n",
       "        [-1.7025e+00],\n",
       "        [ 1.6696e+00],\n",
       "        [-6.0152e-02],\n",
       "        [ 6.9784e-02],\n",
       "        [-1.6635e+00],\n",
       "        [-7.6506e-01],\n",
       "        [ 7.9285e-01],\n",
       "        [ 2.8815e-01],\n",
       "        [-1.1787e+00],\n",
       "        [-2.1401e+00],\n",
       "        [-1.3086e+00],\n",
       "        [ 6.5981e-01],\n",
       "        [-7.0325e-02],\n",
       "        [ 2.7448e-01],\n",
       "        [ 5.5695e-01],\n",
       "        [-2.3221e-01],\n",
       "        [-5.9746e-02],\n",
       "        [-1.6665e+00],\n",
       "        [ 2.9100e-01],\n",
       "        [-7.9642e-02],\n",
       "        [ 1.3200e+00],\n",
       "        [-1.5197e+00],\n",
       "        [-1.2531e+00],\n",
       "        [-2.0160e-01],\n",
       "        [-1.9768e+00],\n",
       "        [ 9.2746e-01],\n",
       "        [ 7.8943e-01],\n",
       "        [ 7.8247e-01],\n",
       "        [-6.4659e-02],\n",
       "        [-2.2984e-04],\n",
       "        [ 5.6931e-01],\n",
       "        [ 7.4762e-01],\n",
       "        [ 2.1337e+00],\n",
       "        [ 5.0145e-01],\n",
       "        [ 2.9843e-01],\n",
       "        [ 1.3448e+00],\n",
       "        [ 1.4614e+00],\n",
       "        [ 1.0566e+00],\n",
       "        [-5.4614e-01],\n",
       "        [-2.1778e-01],\n",
       "        [-2.8094e-01],\n",
       "        [-3.6046e-01],\n",
       "        [-3.5718e-01],\n",
       "        [-1.1568e+00],\n",
       "        [-1.7660e+00],\n",
       "        [-2.5380e+00],\n",
       "        [-3.3436e-02],\n",
       "        [-1.7017e+00],\n",
       "        [ 5.8634e-01],\n",
       "        [-1.7527e+00],\n",
       "        [-8.9146e-01],\n",
       "        [ 5.2475e-01],\n",
       "        [ 3.5178e-01],\n",
       "        [ 2.4913e-01],\n",
       "        [ 4.2356e-02],\n",
       "        [ 8.9666e-01],\n",
       "        [-2.3369e-01],\n",
       "        [ 6.0499e-02],\n",
       "        [-1.8495e-01],\n",
       "        [-1.0381e+00],\n",
       "        [-1.0130e-01],\n",
       "        [-9.2718e-01],\n",
       "        [ 7.3442e-01],\n",
       "        [ 3.0971e-02],\n",
       "        [-5.8653e-01],\n",
       "        [-3.1545e-01],\n",
       "        [ 2.0147e-01],\n",
       "        [ 3.8398e-01],\n",
       "        [ 1.2310e+00],\n",
       "        [ 1.2287e+00],\n",
       "        [-1.5806e-01],\n",
       "        [ 6.9485e-01],\n",
       "        [-1.2785e+00],\n",
       "        [-1.2692e+00],\n",
       "        [ 3.2581e-01],\n",
       "        [-1.4584e+00],\n",
       "        [ 1.8989e+00],\n",
       "        [-4.0566e-02],\n",
       "        [ 6.4671e-01],\n",
       "        [-2.0813e+00],\n",
       "        [-9.3036e-01],\n",
       "        [-1.3950e+00],\n",
       "        [-4.1754e-01],\n",
       "        [ 1.1060e+00],\n",
       "        [ 2.5285e-01],\n",
       "        [-1.0754e-01],\n",
       "        [ 3.0078e-02],\n",
       "        [ 1.7702e+00],\n",
       "        [-9.5189e-01],\n",
       "        [ 3.9345e-01],\n",
       "        [ 9.6260e-01],\n",
       "        [-1.1049e+00],\n",
       "        [-7.9095e-01],\n",
       "        [-2.1609e-01],\n",
       "        [ 8.5740e-01],\n",
       "        [ 1.1460e+00],\n",
       "        [-1.1312e-01],\n",
       "        [ 1.4093e+00],\n",
       "        [-1.8900e+00],\n",
       "        [ 1.9432e-01],\n",
       "        [ 1.6020e+00],\n",
       "        [-1.0372e+00],\n",
       "        [-1.6251e+00],\n",
       "        [ 1.4376e+00],\n",
       "        [ 1.1150e-01],\n",
       "        [ 1.7074e+00],\n",
       "        [ 1.1262e+00],\n",
       "        [ 4.0618e-02],\n",
       "        [-6.4643e-02],\n",
       "        [ 3.4456e+00],\n",
       "        [ 3.6727e-01],\n",
       "        [-3.9193e-01],\n",
       "        [ 1.6057e-01],\n",
       "        [ 2.2374e+00],\n",
       "        [ 1.2508e-01],\n",
       "        [-8.7617e-01],\n",
       "        [ 1.2223e+00],\n",
       "        [ 3.2682e-01],\n",
       "        [-7.0210e-01],\n",
       "        [-6.7328e-01],\n",
       "        [ 2.0705e-01],\n",
       "        [-2.6125e-01],\n",
       "        [-1.3136e+00],\n",
       "        [-6.0611e-01],\n",
       "        [ 6.4498e-01],\n",
       "        [-2.4771e-01],\n",
       "        [-9.7677e-01],\n",
       "        [-4.4397e-01],\n",
       "        [ 7.3737e-01],\n",
       "        [-1.3395e-01],\n",
       "        [ 2.1780e+00],\n",
       "        [ 1.7792e+00],\n",
       "        [ 2.5832e-01],\n",
       "        [-2.4341e+00],\n",
       "        [ 7.2732e-01],\n",
       "        [-1.2681e+00],\n",
       "        [-2.0726e+00],\n",
       "        [-2.1241e+00],\n",
       "        [ 1.8071e+00],\n",
       "        [-7.3262e-01],\n",
       "        [ 4.0940e-01],\n",
       "        [-5.8409e-01],\n",
       "        [ 1.0093e+00],\n",
       "        [ 1.0439e+00],\n",
       "        [ 2.9792e-01],\n",
       "        [ 8.3817e-01],\n",
       "        [-1.0130e+00],\n",
       "        [-9.9392e-01],\n",
       "        [ 2.9083e+00],\n",
       "        [ 1.4483e+00],\n",
       "        [-1.6121e+00],\n",
       "        [-5.1999e-01],\n",
       "        [-2.0852e+00],\n",
       "        [-8.5524e-01],\n",
       "        [-2.5844e-01],\n",
       "        [-7.5015e-01],\n",
       "        [ 1.2355e+00],\n",
       "        [ 1.0141e+00],\n",
       "        [-6.5355e-01],\n",
       "        [ 1.4623e+00],\n",
       "        [ 1.2034e-01],\n",
       "        [ 7.5142e-01],\n",
       "        [ 1.9737e-01],\n",
       "        [-6.3676e-01],\n",
       "        [-8.7683e-01],\n",
       "        [-1.5510e+00],\n",
       "        [ 3.4990e-02],\n",
       "        [-2.6942e-01],\n",
       "        [-2.0694e-01],\n",
       "        [ 4.4716e-01],\n",
       "        [ 1.2984e+00],\n",
       "        [ 1.7561e+00],\n",
       "        [ 2.1129e-01],\n",
       "        [ 1.4860e+00],\n",
       "        [ 2.1218e+00],\n",
       "        [ 4.1782e-01],\n",
       "        [ 4.4609e-01],\n",
       "        [-2.6669e-02],\n",
       "        [ 3.7721e-01],\n",
       "        [ 4.8435e-01],\n",
       "        [-3.0399e-02],\n",
       "        [ 1.0925e+00],\n",
       "        [ 1.4625e+00],\n",
       "        [-1.8284e+00],\n",
       "        [-1.4184e-01],\n",
       "        [-2.4392e-01],\n",
       "        [-7.8324e-01],\n",
       "        [-2.6778e-01],\n",
       "        [ 1.5685e+00],\n",
       "        [-2.8351e-01],\n",
       "        [-1.4658e+00],\n",
       "        [-6.2930e-02],\n",
       "        [-2.5271e+00],\n",
       "        [ 4.7731e-01],\n",
       "        [-2.3840e-01],\n",
       "        [ 5.4687e-01],\n",
       "        [-6.0580e-02],\n",
       "        [-5.3049e-01],\n",
       "        [-1.0819e+00],\n",
       "        [-1.9946e-01],\n",
       "        [ 1.6893e+00],\n",
       "        [-6.2972e-01],\n",
       "        [-2.7431e-01],\n",
       "        [ 1.2923e+00],\n",
       "        [-1.4459e+00],\n",
       "        [-3.1467e-01],\n",
       "        [-1.2422e+00],\n",
       "        [-3.3403e-01],\n",
       "        [-1.5728e+00],\n",
       "        [ 2.8104e+00],\n",
       "        [ 5.3508e-01],\n",
       "        [-1.3392e+00],\n",
       "        [ 1.2358e+00],\n",
       "        [-2.0371e+00],\n",
       "        [-1.0704e-01],\n",
       "        [-1.0936e+00],\n",
       "        [-1.2532e+00],\n",
       "        [ 9.5636e-01],\n",
       "        [-8.3318e-01],\n",
       "        [-4.7921e-01],\n",
       "        [ 2.9985e-01],\n",
       "        [ 7.2138e-01],\n",
       "        [ 7.2838e-01],\n",
       "        [-3.4462e-01],\n",
       "        [ 4.7902e-01],\n",
       "        [ 2.4239e-02],\n",
       "        [-7.5847e-01],\n",
       "        [ 9.4199e-01],\n",
       "        [ 4.3399e-01],\n",
       "        [ 1.1234e+00],\n",
       "        [ 9.9357e-01],\n",
       "        [ 1.5131e+00],\n",
       "        [ 2.5294e-01],\n",
       "        [ 1.2658e-01],\n",
       "        [-6.9009e-01],\n",
       "        [-5.6215e-01],\n",
       "        [ 8.2530e-01],\n",
       "        [ 2.2683e+00],\n",
       "        [-6.6117e-02],\n",
       "        [-1.0740e+00],\n",
       "        [ 1.3754e+00],\n",
       "        [-3.8243e-01],\n",
       "        [ 9.5747e-01],\n",
       "        [ 1.9130e-02],\n",
       "        [-1.0700e+00],\n",
       "        [-7.5189e-01],\n",
       "        [ 5.9962e-01],\n",
       "        [-1.0590e+00],\n",
       "        [-3.7052e-01],\n",
       "        [ 3.4176e-01],\n",
       "        [-4.7829e-01],\n",
       "        [-1.1728e-01],\n",
       "        [-6.3051e-01],\n",
       "        [-1.2655e+00],\n",
       "        [ 7.0858e-01],\n",
       "        [ 1.0582e+00],\n",
       "        [ 1.1458e-01],\n",
       "        [ 1.9056e+00],\n",
       "        [ 5.1235e-01],\n",
       "        [-9.8185e-01],\n",
       "        [ 1.1259e+00],\n",
       "        [ 2.5539e-01],\n",
       "        [ 1.4447e+00],\n",
       "        [ 1.2691e+00],\n",
       "        [-2.1851e+00],\n",
       "        [ 2.5435e-01],\n",
       "        [-1.3269e-01],\n",
       "        [ 1.6296e+00],\n",
       "        [-1.5457e+00],\n",
       "        [-1.6960e-01],\n",
       "        [ 2.5529e-01],\n",
       "        [ 9.0565e-01],\n",
       "        [-1.6130e+00],\n",
       "        [-1.7463e+00],\n",
       "        [-7.6097e-01],\n",
       "        [-1.2726e+00],\n",
       "        [-6.2674e-01],\n",
       "        [ 1.3713e+00],\n",
       "        [-4.3869e-01],\n",
       "        [-1.3193e+00],\n",
       "        [ 1.7944e+00],\n",
       "        [-2.1130e-01],\n",
       "        [-2.3167e-02],\n",
       "        [-1.1093e-02],\n",
       "        [-9.9528e-01],\n",
       "        [-2.9935e-01],\n",
       "        [-5.7769e-01],\n",
       "        [ 1.1428e+00],\n",
       "        [-5.9470e-01],\n",
       "        [ 5.3631e-01],\n",
       "        [ 8.2501e-01],\n",
       "        [ 1.2207e+00],\n",
       "        [-6.2976e-02],\n",
       "        [ 1.1464e+00],\n",
       "        [ 5.5537e-01],\n",
       "        [-5.0143e-01],\n",
       "        [ 8.5131e-01],\n",
       "        [-1.2727e+00],\n",
       "        [ 4.4249e-01],\n",
       "        [ 1.9418e-01],\n",
       "        [-4.9999e-01],\n",
       "        [-5.5005e-01],\n",
       "        [ 2.0514e-01],\n",
       "        [-1.1627e+00],\n",
       "        [ 9.2898e-01],\n",
       "        [-2.5395e-01],\n",
       "        [-1.9291e+00],\n",
       "        [ 3.4977e-02],\n",
       "        [-4.8336e-01],\n",
       "        [-1.2261e+00],\n",
       "        [-1.6396e+00],\n",
       "        [ 2.2994e-01],\n",
       "        [-4.4964e-01],\n",
       "        [-4.0768e-01],\n",
       "        [ 1.7302e+00],\n",
       "        [ 2.0562e+00],\n",
       "        [-2.3472e-01],\n",
       "        [-1.3456e+00],\n",
       "        [-4.1921e-01],\n",
       "        [ 1.1534e+00],\n",
       "        [ 2.8485e+00],\n",
       "        [-7.4242e-01],\n",
       "        [ 1.4277e-01],\n",
       "        [ 6.3289e-01],\n",
       "        [-1.0489e+00],\n",
       "        [-5.2246e-01],\n",
       "        [ 7.2547e-01],\n",
       "        [-9.1333e-01],\n",
       "        [ 1.9309e+00],\n",
       "        [-7.4633e-01],\n",
       "        [ 3.2672e-01],\n",
       "        [-8.3443e-01],\n",
       "        [-4.9217e-01],\n",
       "        [ 6.5804e-01],\n",
       "        [ 1.3285e+00],\n",
       "        [-8.2787e-01],\n",
       "        [ 2.8253e-01],\n",
       "        [-8.1186e-01],\n",
       "        [-8.2485e-01],\n",
       "        [ 3.5450e-01],\n",
       "        [-2.8074e-01],\n",
       "        [-2.4326e-01],\n",
       "        [ 2.2447e+00],\n",
       "        [-2.2764e+00],\n",
       "        [ 9.1418e-01],\n",
       "        [ 9.1763e-01],\n",
       "        [ 1.4388e+00],\n",
       "        [ 3.2586e-02],\n",
       "        [-5.4797e-01],\n",
       "        [-4.9368e-01],\n",
       "        [-1.3852e-01],\n",
       "        [ 2.0698e-03],\n",
       "        [-8.2454e-01],\n",
       "        [-2.4762e+00],\n",
       "        [-1.5967e+00],\n",
       "        [ 8.3206e-02],\n",
       "        [-9.2221e-01],\n",
       "        [-3.7114e-01],\n",
       "        [ 1.8696e+00],\n",
       "        [-6.4973e-01],\n",
       "        [ 9.9580e-02],\n",
       "        [-1.3185e+00],\n",
       "        [ 1.1874e+00],\n",
       "        [ 2.7558e-02],\n",
       "        [ 2.0011e+00],\n",
       "        [-1.2461e-01],\n",
       "        [-1.5581e+00],\n",
       "        [ 9.3964e-01],\n",
       "        [-3.2746e-01],\n",
       "        [-5.4726e-01],\n",
       "        [ 5.7646e-01],\n",
       "        [-3.5594e-01],\n",
       "        [-5.1885e-01],\n",
       "        [-3.9274e-01],\n",
       "        [ 1.4908e-01],\n",
       "        [-2.6032e-01],\n",
       "        [-7.1251e-01],\n",
       "        [-7.5779e-01],\n",
       "        [ 1.0595e+00],\n",
       "        [ 1.2978e+00],\n",
       "        [ 3.2856e-01],\n",
       "        [ 1.4869e-01],\n",
       "        [ 9.0421e-01],\n",
       "        [-3.9598e-02],\n",
       "        [ 3.3627e-01],\n",
       "        [-9.5197e-01],\n",
       "        [-8.9512e-01],\n",
       "        [ 5.3402e-01],\n",
       "        [-8.8661e-01],\n",
       "        [ 7.9637e-01],\n",
       "        [-1.0695e-01],\n",
       "        [ 6.5316e-01],\n",
       "        [-1.0153e+00],\n",
       "        [-8.0901e-01],\n",
       "        [-8.2310e-01],\n",
       "        [-5.3947e-01],\n",
       "        [ 9.2151e-02],\n",
       "        [ 8.5391e-01],\n",
       "        [-6.3647e-01],\n",
       "        [ 1.0596e+00],\n",
       "        [ 4.6789e-01],\n",
       "        [ 1.3091e+00],\n",
       "        [ 3.6743e-01],\n",
       "        [ 4.2930e-01],\n",
       "        [ 2.0289e+00],\n",
       "        [-7.6839e-01],\n",
       "        [ 3.0984e-01],\n",
       "        [-2.6218e+00],\n",
       "        [-2.4567e-01],\n",
       "        [ 1.1452e+00],\n",
       "        [-7.7970e-01],\n",
       "        [-7.5657e-01],\n",
       "        [ 1.5148e+00],\n",
       "        [-1.5796e+00],\n",
       "        [ 1.3926e+00],\n",
       "        [ 3.2347e-01],\n",
       "        [ 1.8892e-01],\n",
       "        [ 6.5336e-01],\n",
       "        [ 4.2760e-02],\n",
       "        [ 5.8587e-01],\n",
       "        [-1.3688e+00],\n",
       "        [ 1.1169e+00],\n",
       "        [-2.7283e-01],\n",
       "        [-3.6096e-01],\n",
       "        [ 9.4554e-01],\n",
       "        [ 3.7663e-02],\n",
       "        [-2.1165e-01],\n",
       "        [-1.7876e-01],\n",
       "        [-8.4983e-01],\n",
       "        [ 1.1670e+00],\n",
       "        [-2.4543e-01],\n",
       "        [-7.8632e-01],\n",
       "        [-7.2470e-01],\n",
       "        [ 3.7256e-01],\n",
       "        [ 2.0936e-01],\n",
       "        [ 1.5050e+00],\n",
       "        [-1.1346e+00],\n",
       "        [-7.1118e-01],\n",
       "        [-8.0958e-01],\n",
       "        [ 4.1243e-01],\n",
       "        [ 2.0647e+00],\n",
       "        [-3.2649e-01],\n",
       "        [-2.5113e-01],\n",
       "        [-5.2773e-01],\n",
       "        [-4.7698e-01],\n",
       "        [-5.6253e-01],\n",
       "        [ 1.7591e-01],\n",
       "        [-6.2012e-01],\n",
       "        [ 6.6306e-01],\n",
       "        [-9.8049e-01],\n",
       "        [-7.9398e-01],\n",
       "        [-6.7484e-01],\n",
       "        [-3.8769e-01],\n",
       "        [ 4.4965e-01],\n",
       "        [-1.0259e+00],\n",
       "        [ 1.6894e+00],\n",
       "        [-1.4700e-01],\n",
       "        [ 1.2176e-01],\n",
       "        [ 6.7380e-01],\n",
       "        [ 1.4666e+00],\n",
       "        [-1.1077e+00],\n",
       "        [-7.4438e-01],\n",
       "        [ 3.5883e-01],\n",
       "        [-2.9172e-01],\n",
       "        [ 5.5666e-01],\n",
       "        [ 6.2589e-01],\n",
       "        [ 7.1838e-01],\n",
       "        [-5.7193e-01],\n",
       "        [-4.6663e-01],\n",
       "        [ 1.0177e-01],\n",
       "        [-1.1942e-01],\n",
       "        [ 1.3993e+00],\n",
       "        [-1.6068e-01],\n",
       "        [-2.2146e+00],\n",
       "        [-3.6094e-01],\n",
       "        [ 1.0463e-01],\n",
       "        [-3.2587e-01],\n",
       "        [ 3.1892e-01],\n",
       "        [-3.2066e-01],\n",
       "        [ 1.8195e-01],\n",
       "        [-1.8008e+00],\n",
       "        [-1.4390e+00],\n",
       "        [ 7.5307e-01],\n",
       "        [-2.2192e-01],\n",
       "        [ 5.8191e-01],\n",
       "        [-1.9369e+00],\n",
       "        [ 7.7806e-01],\n",
       "        [-1.4069e+00],\n",
       "        [ 4.0583e-01],\n",
       "        [ 1.8280e+00],\n",
       "        [-1.2464e+00],\n",
       "        [-1.4996e+00],\n",
       "        [-5.4040e-01],\n",
       "        [ 1.2410e+00],\n",
       "        [-1.4416e+00],\n",
       "        [-1.2435e+00],\n",
       "        [-1.2267e+00],\n",
       "        [-1.4965e-01],\n",
       "        [ 5.1204e-01],\n",
       "        [-8.4058e-01],\n",
       "        [-1.0445e+00],\n",
       "        [ 5.5477e-01],\n",
       "        [-1.1883e+00],\n",
       "        [-5.4161e-01],\n",
       "        [ 1.0768e-01],\n",
       "        [-9.5456e-01],\n",
       "        [ 1.2797e+00],\n",
       "        [ 2.2000e-01],\n",
       "        [ 3.2491e-01],\n",
       "        [ 1.3190e+00],\n",
       "        [-5.8611e-01],\n",
       "        [ 7.8098e-01],\n",
       "        [ 2.1060e+00],\n",
       "        [ 1.5204e+00],\n",
       "        [ 6.8727e-01],\n",
       "        [ 7.8359e-01],\n",
       "        [-1.1109e+00],\n",
       "        [-3.1063e+00],\n",
       "        [-5.3778e-01],\n",
       "        [-4.8701e-01],\n",
       "        [ 1.2455e+00],\n",
       "        [-1.0653e+00],\n",
       "        [ 5.5142e-01],\n",
       "        [ 2.6549e+00],\n",
       "        [ 1.0582e+00],\n",
       "        [-1.4682e-01],\n",
       "        [-1.3183e+00],\n",
       "        [-1.2894e+00],\n",
       "        [-9.4551e-01],\n",
       "        [-7.9243e-01],\n",
       "        [-8.6657e-01],\n",
       "        [-3.0639e-01],\n",
       "        [-5.3594e-01],\n",
       "        [-3.5751e-01],\n",
       "        [-1.4471e+00],\n",
       "        [-1.6967e+00],\n",
       "        [-2.1705e+00],\n",
       "        [-3.5687e-01],\n",
       "        [ 2.1926e-01],\n",
       "        [ 4.1337e-01],\n",
       "        [ 6.1524e-03],\n",
       "        [-5.6728e-01],\n",
       "        [ 1.0005e-01],\n",
       "        [-2.4852e-01],\n",
       "        [-9.1255e-01],\n",
       "        [-8.4218e-01],\n",
       "        [-4.6252e-02],\n",
       "        [-6.1496e-01],\n",
       "        [ 1.2367e+00],\n",
       "        [-8.1436e-01],\n",
       "        [-7.9848e-01],\n",
       "        [ 5.1823e-01],\n",
       "        [-1.1608e+00],\n",
       "        [-1.0227e+00],\n",
       "        [ 9.2423e-01],\n",
       "        [ 2.6972e-01],\n",
       "        [ 6.2854e-01],\n",
       "        [-7.0662e-01],\n",
       "        [-3.7672e-02],\n",
       "        [-1.4856e+00],\n",
       "        [-2.3876e-01],\n",
       "        [-2.6241e-01],\n",
       "        [-7.8158e-01],\n",
       "        [-1.5094e-01],\n",
       "        [ 4.1993e-01],\n",
       "        [ 1.4059e+00],\n",
       "        [ 1.3185e+00],\n",
       "        [ 2.8492e-05],\n",
       "        [ 1.4242e+00],\n",
       "        [-6.2004e-01],\n",
       "        [ 1.1881e+00],\n",
       "        [ 2.0556e+00],\n",
       "        [ 6.6027e-01],\n",
       "        [-1.1078e+00],\n",
       "        [ 4.5689e-01],\n",
       "        [-6.0341e-01],\n",
       "        [ 4.6268e-01],\n",
       "        [ 2.4934e-01],\n",
       "        [ 3.9462e-01],\n",
       "        [ 1.1305e+00],\n",
       "        [ 8.2584e-01],\n",
       "        [ 9.4583e-01],\n",
       "        [-1.1293e+00],\n",
       "        [-1.6514e+00],\n",
       "        [ 1.2254e+00],\n",
       "        [-1.1865e+00],\n",
       "        [ 1.1634e+00],\n",
       "        [ 1.6095e+00],\n",
       "        [-2.9417e-01],\n",
       "        [ 1.0819e+00],\n",
       "        [ 6.6902e-01],\n",
       "        [ 6.5913e-01],\n",
       "        [-8.5292e-02],\n",
       "        [ 9.5743e-01]], requires_grad=True)"
      ]
     },
     "execution_count": 96,
     "metadata": {},
     "output_type": "execute_result"
    }
   ],
   "source": [
    "weights = init_params((28*28,1))\n",
    "weights"
   ]
  },
  {
   "cell_type": "code",
   "execution_count": 97,
   "metadata": {},
   "outputs": [],
   "source": [
    "bias = init_params(1)"
   ]
  },
  {
   "cell_type": "code",
   "execution_count": 98,
   "metadata": {},
   "outputs": [],
   "source": [
    "dl = DataLoader(dset, batch_size=256)"
   ]
  },
  {
   "cell_type": "code",
   "execution_count": 99,
   "metadata": {},
   "outputs": [
    {
     "data": {
      "text/plain": [
       "(torch.Size([256, 784]), torch.Size([256, 1]))"
      ]
     },
     "execution_count": 99,
     "metadata": {},
     "output_type": "execute_result"
    }
   ],
   "source": [
    "xb, yb = first(dl)\n",
    "xb.shape, yb.shape"
   ]
  },
  {
   "cell_type": "code",
   "execution_count": 100,
   "metadata": {},
   "outputs": [],
   "source": [
    "valid_dl = DataLoader(valid_dset, batch_size=256)"
   ]
  },
  {
   "cell_type": "code",
   "execution_count": 101,
   "metadata": {},
   "outputs": [
    {
     "data": {
      "text/plain": [
       "torch.Size([4, 784])"
      ]
     },
     "execution_count": 101,
     "metadata": {},
     "output_type": "execute_result"
    }
   ],
   "source": [
    "batch = train_x[:4]\n",
    "batch.shape"
   ]
  },
  {
   "cell_type": "code",
   "execution_count": 102,
   "metadata": {},
   "outputs": [
    {
     "data": {
      "text/plain": [
       "tensor([[-16.7332],\n",
       "        [ -8.2922],\n",
       "        [-12.0387],\n",
       "        [-21.9669]], grad_fn=<AddBackward0>)"
      ]
     },
     "execution_count": 102,
     "metadata": {},
     "output_type": "execute_result"
    }
   ],
   "source": [
    "preds = linear1(batch)\n",
    "preds"
   ]
  },
  {
   "cell_type": "code",
   "execution_count": 103,
   "metadata": {},
   "outputs": [
    {
     "data": {
      "text/plain": [
       "tensor(0.9999, grad_fn=<MeanBackward0>)"
      ]
     },
     "execution_count": 103,
     "metadata": {},
     "output_type": "execute_result"
    }
   ],
   "source": [
    "loss = mnist_loss(preds, train_y[:4])\n",
    "loss"
   ]
  },
  {
   "cell_type": "code",
   "execution_count": 104,
   "metadata": {},
   "outputs": [],
   "source": [
    "loss.backward()"
   ]
  },
  {
   "cell_type": "code",
   "execution_count": 105,
   "metadata": {},
   "outputs": [],
   "source": [
    "def calc_grad(xb, yb, model):\n",
    "    preds = model(xb)\n",
    "    loss = mnist_loss(preds, yb)\n",
    "    loss.backward()"
   ]
  },
  {
   "cell_type": "code",
   "execution_count": 106,
   "metadata": {},
   "outputs": [],
   "source": [
    "calc_grad(batch, train_y[:4], linear1)"
   ]
  },
  {
   "cell_type": "code",
   "execution_count": 107,
   "metadata": {},
   "outputs": [
    {
     "data": {
      "text/plain": [
       "(tensor(-1.8249e-05), tensor([-0.0001]))"
      ]
     },
     "execution_count": 107,
     "metadata": {},
     "output_type": "execute_result"
    }
   ],
   "source": [
    "weights.grad.mean(), bias.grad"
   ]
  },
  {
   "cell_type": "code",
   "execution_count": 108,
   "metadata": {},
   "outputs": [
    {
     "data": {
      "text/plain": [
       "(tensor(-2.7373e-05), tensor([-0.0002]))"
      ]
     },
     "execution_count": 108,
     "metadata": {},
     "output_type": "execute_result"
    }
   ],
   "source": [
    "calc_grad(batch, train_y[:4], linear1)\n",
    "weights.grad.mean(),bias.grad"
   ]
  },
  {
   "cell_type": "markdown",
   "metadata": {},
   "source": [
    "In place "
   ]
  },
  {
   "cell_type": "code",
   "execution_count": 109,
   "metadata": {},
   "outputs": [],
   "source": [
    "weights.grad.zero_()\n",
    "bias.grad.zero_();"
   ]
  },
  {
   "cell_type": "code",
   "execution_count": 110,
   "metadata": {},
   "outputs": [],
   "source": [
    "def train_epoch(model, lr, params):\n",
    "    for xb,yb in dl:\n",
    "        calc_grad(xb, yb, model)\n",
    "        for p in params:\n",
    "            p.data -= p.grad*lr\n",
    "            p.grad.zero_()"
   ]
  },
  {
   "cell_type": "code",
   "execution_count": 111,
   "metadata": {},
   "outputs": [
    {
     "data": {
      "text/plain": [
       "tensor([[False],\n",
       "        [False],\n",
       "        [False],\n",
       "        [False]])"
      ]
     },
     "execution_count": 111,
     "metadata": {},
     "output_type": "execute_result"
    }
   ],
   "source": [
    "(preds>0.0).float() == train_y[:4]"
   ]
  },
  {
   "cell_type": "code",
   "execution_count": 112,
   "metadata": {},
   "outputs": [],
   "source": [
    "def batch_accuracy(xb, yb):\n",
    "    preds = xb.sigmoid()\n",
    "    correct = (preds>0.5) == yb\n",
    "    return correct.float().mean()"
   ]
  },
  {
   "cell_type": "code",
   "execution_count": 113,
   "metadata": {},
   "outputs": [
    {
     "data": {
      "text/plain": [
       "tensor(0.)"
      ]
     },
     "execution_count": 113,
     "metadata": {},
     "output_type": "execute_result"
    }
   ],
   "source": [
    "batch_accuracy(linear1(batch), train_y[:4])"
   ]
  },
  {
   "cell_type": "code",
   "execution_count": 114,
   "metadata": {},
   "outputs": [],
   "source": [
    "def validate_epoch(model):\n",
    "    accs = [batch_accuracy(model(xb), yb) for xb,yb in valid_dl]\n",
    "    return round(torch.stack(accs).mean().item(), 4)"
   ]
  },
  {
   "cell_type": "code",
   "execution_count": 115,
   "metadata": {},
   "outputs": [
    {
     "data": {
      "text/plain": [
       "0.5649"
      ]
     },
     "execution_count": 115,
     "metadata": {},
     "output_type": "execute_result"
    }
   ],
   "source": [
    "validate_epoch(linear1)"
   ]
  },
  {
   "cell_type": "code",
   "execution_count": 116,
   "metadata": {},
   "outputs": [
    {
     "data": {
      "text/plain": [
       "0.8496"
      ]
     },
     "execution_count": 116,
     "metadata": {},
     "output_type": "execute_result"
    }
   ],
   "source": [
    "lr = 1.\n",
    "params = weights,bias\n",
    "train_epoch(linear1, lr, params)\n",
    "validate_epoch(linear1)"
   ]
  },
  {
   "cell_type": "code",
   "execution_count": 117,
   "metadata": {},
   "outputs": [
    {
     "name": "stdout",
     "output_type": "stream",
     "text": [
      "0.9209 0.9409 0.9496 0.957 0.9599 0.9619 0.9643 0.9653 0.9667 0.9677 0.9702 0.9711 0.9731 0.9736 0.9741 0.975 0.975 0.975 0.975 0.976 "
     ]
    }
   ],
   "source": [
    "for i in range(20):\n",
    "    train_epoch(linear1, lr, params)\n",
    "    print(validate_epoch(linear1), end=' ')"
   ]
  },
  {
   "cell_type": "code",
   "execution_count": 118,
   "metadata": {},
   "outputs": [],
   "source": [
    "linear_model = nn.Linear(28*28,1)"
   ]
  },
  {
   "cell_type": "code",
   "execution_count": 119,
   "metadata": {},
   "outputs": [],
   "source": [
    "w,b = linear_model.parameters()"
   ]
  },
  {
   "cell_type": "code",
   "execution_count": 120,
   "metadata": {},
   "outputs": [
    {
     "data": {
      "text/plain": [
       "(torch.Size([1, 784]), torch.Size([1]))"
      ]
     },
     "execution_count": 120,
     "metadata": {},
     "output_type": "execute_result"
    }
   ],
   "source": [
    "w.shape,b.shape"
   ]
  },
  {
   "cell_type": "code",
   "execution_count": 121,
   "metadata": {},
   "outputs": [],
   "source": [
    "class BasicOptim:\n",
    "    def __init__(self,params,lr): self.params,self.lr = list(params),lr\n",
    "\n",
    "    def step(self, *args, **kwargs):\n",
    "        for p in self.params: p.data -= p.grad.data * self.lr\n",
    "\n",
    "    def zero_grad(self, *args, **kwargs):\n",
    "        for p in self.params: p.grad = None"
   ]
  },
  {
   "cell_type": "code",
   "execution_count": 122,
   "metadata": {},
   "outputs": [],
   "source": [
    "opt = BasicOptim(linear_model.parameters(), lr)"
   ]
  },
  {
   "cell_type": "code",
   "execution_count": 123,
   "metadata": {},
   "outputs": [],
   "source": [
    "def train_epoch(model):\n",
    "    for xb,yb in dl:\n",
    "        calc_grad(xb, yb, model)\n",
    "        opt.step()\n",
    "        opt.zero_grad()"
   ]
  },
  {
   "cell_type": "code",
   "execution_count": 124,
   "metadata": {},
   "outputs": [
    {
     "data": {
      "text/plain": [
       "0.4606"
      ]
     },
     "execution_count": 124,
     "metadata": {},
     "output_type": "execute_result"
    }
   ],
   "source": [
    "validate_epoch(linear_model)"
   ]
  },
  {
   "cell_type": "code",
   "execution_count": 125,
   "metadata": {},
   "outputs": [],
   "source": [
    "def train_model(model, epochs):\n",
    "    for i in range(epochs):\n",
    "        train_epoch(model)\n",
    "        print(validate_epoch(model), end=' ')"
   ]
  },
  {
   "cell_type": "code",
   "execution_count": 126,
   "metadata": {},
   "outputs": [
    {
     "name": "stdout",
     "output_type": "stream",
     "text": [
      "0.4932 0.7686 0.8554 0.9136 0.9346 0.9482 0.957 0.9634 0.9658 0.9678 0.9697 0.9717 0.9736 0.9746 0.9761 0.977 0.9775 0.9775 0.978 0.9785 "
     ]
    }
   ],
   "source": [
    "train_model(linear_model, 20)"
   ]
  },
  {
   "cell_type": "code",
   "execution_count": 127,
   "metadata": {},
   "outputs": [
    {
     "name": "stdout",
     "output_type": "stream",
     "text": [
      "0.4932 0.8179 0.8496 0.914 0.9346 0.9482 0.957 0.9619 0.9658 0.9673 0.9692 0.9712 0.9741 0.9751 0.9761 0.9775 0.9775 0.978 0.9785 0.979 "
     ]
    }
   ],
   "source": [
    "linear_model = nn.Linear(28*28,1)\n",
    "opt = SGD(linear_model.parameters(), lr)\n",
    "train_model(linear_model, 20)"
   ]
  },
  {
   "cell_type": "code",
   "execution_count": 128,
   "metadata": {},
   "outputs": [],
   "source": [
    "dls = DataLoaders(dl, valid_dl)"
   ]
  },
  {
   "cell_type": "code",
   "execution_count": 129,
   "metadata": {},
   "outputs": [],
   "source": [
    "learn = Learner(dls, nn.Linear(28*28,1), opt_func=SGD,\n",
    "                loss_func=mnist_loss, metrics=batch_accuracy)"
   ]
  },
  {
   "cell_type": "code",
   "execution_count": 130,
   "metadata": {},
   "outputs": [
    {
     "data": {
      "text/html": [
       "\n",
       "<style>\n",
       "    /* Turns off some styling */\n",
       "    progress {\n",
       "        /* gets rid of default border in Firefox and Opera. */\n",
       "        border: none;\n",
       "        /* Needs to be in here for Safari polyfill so background images work as expected. */\n",
       "        background-size: auto;\n",
       "    }\n",
       "    progress:not([value]), progress:not([value])::-webkit-progress-bar {\n",
       "        background: repeating-linear-gradient(45deg, #7e7e7e, #7e7e7e 10px, #5c5c5c 10px, #5c5c5c 20px);\n",
       "    }\n",
       "    .progress-bar-interrupted, .progress-bar-interrupted::-webkit-progress-bar {\n",
       "        background: #F44336;\n",
       "    }\n",
       "</style>\n"
      ],
      "text/plain": [
       "<IPython.core.display.HTML object>"
      ]
     },
     "metadata": {},
     "output_type": "display_data"
    },
    {
     "data": {
      "text/html": [
       "<table border=\"1\" class=\"dataframe\">\n",
       "  <thead>\n",
       "    <tr style=\"text-align: left;\">\n",
       "      <th>epoch</th>\n",
       "      <th>train_loss</th>\n",
       "      <th>valid_loss</th>\n",
       "      <th>batch_accuracy</th>\n",
       "      <th>time</th>\n",
       "    </tr>\n",
       "  </thead>\n",
       "  <tbody>\n",
       "    <tr>\n",
       "      <td>0</td>\n",
       "      <td>0.636709</td>\n",
       "      <td>0.503144</td>\n",
       "      <td>0.495584</td>\n",
       "      <td>00:00</td>\n",
       "    </tr>\n",
       "    <tr>\n",
       "      <td>1</td>\n",
       "      <td>0.429828</td>\n",
       "      <td>0.248517</td>\n",
       "      <td>0.777233</td>\n",
       "      <td>00:00</td>\n",
       "    </tr>\n",
       "    <tr>\n",
       "      <td>2</td>\n",
       "      <td>0.161680</td>\n",
       "      <td>0.155361</td>\n",
       "      <td>0.861629</td>\n",
       "      <td>00:00</td>\n",
       "    </tr>\n",
       "    <tr>\n",
       "      <td>3</td>\n",
       "      <td>0.072948</td>\n",
       "      <td>0.097722</td>\n",
       "      <td>0.917566</td>\n",
       "      <td>00:00</td>\n",
       "    </tr>\n",
       "    <tr>\n",
       "      <td>4</td>\n",
       "      <td>0.040128</td>\n",
       "      <td>0.073205</td>\n",
       "      <td>0.936212</td>\n",
       "      <td>00:00</td>\n",
       "    </tr>\n",
       "    <tr>\n",
       "      <td>5</td>\n",
       "      <td>0.027210</td>\n",
       "      <td>0.059466</td>\n",
       "      <td>0.950442</td>\n",
       "      <td>00:00</td>\n",
       "    </tr>\n",
       "    <tr>\n",
       "      <td>6</td>\n",
       "      <td>0.021837</td>\n",
       "      <td>0.050799</td>\n",
       "      <td>0.957802</td>\n",
       "      <td>00:00</td>\n",
       "    </tr>\n",
       "    <tr>\n",
       "      <td>7</td>\n",
       "      <td>0.019398</td>\n",
       "      <td>0.044980</td>\n",
       "      <td>0.964181</td>\n",
       "      <td>00:00</td>\n",
       "    </tr>\n",
       "    <tr>\n",
       "      <td>8</td>\n",
       "      <td>0.018122</td>\n",
       "      <td>0.040853</td>\n",
       "      <td>0.966143</td>\n",
       "      <td>00:00</td>\n",
       "    </tr>\n",
       "    <tr>\n",
       "      <td>9</td>\n",
       "      <td>0.017330</td>\n",
       "      <td>0.037788</td>\n",
       "      <td>0.968106</td>\n",
       "      <td>00:00</td>\n",
       "    </tr>\n",
       "  </tbody>\n",
       "</table>"
      ],
      "text/plain": [
       "<IPython.core.display.HTML object>"
      ]
     },
     "metadata": {},
     "output_type": "display_data"
    }
   ],
   "source": [
    "learn.fit(10, lr=lr)"
   ]
  },
  {
   "cell_type": "code",
   "execution_count": 131,
   "metadata": {},
   "outputs": [],
   "source": [
    "def simple_net(xb): \n",
    "    res = xb@w1 + b1\n",
    "    res = res.max(tensor(0.0))\n",
    "    res = res@w2 + b2\n",
    "    return res"
   ]
  },
  {
   "cell_type": "code",
   "execution_count": 132,
   "metadata": {},
   "outputs": [],
   "source": [
    "w1 = init_params((28*28,30))\n",
    "b1 = init_params(30)\n",
    "w2 = init_params((30,1))\n",
    "b2 = init_params(1)"
   ]
  },
  {
   "cell_type": "code",
   "execution_count": 133,
   "metadata": {},
   "outputs": [
    {
     "data": {
      "text/plain": [
       "(torch.Size([784, 30]), torch.Size([30, 1]))"
      ]
     },
     "execution_count": 133,
     "metadata": {},
     "output_type": "execute_result"
    }
   ],
   "source": [
    "w1.shape, w2.shape"
   ]
  },
  {
   "cell_type": "code",
   "execution_count": 134,
   "metadata": {},
   "outputs": [],
   "source": [
    "simple_net = nn.Sequential(\n",
    "    nn.Linear(28*28,30),\n",
    "    nn.ReLU(),\n",
    "    nn.Linear(30,1)\n",
    ")"
   ]
  },
  {
   "cell_type": "code",
   "execution_count": 135,
   "metadata": {},
   "outputs": [],
   "source": [
    "learn = Learner(dls, simple_net, opt_func=SGD,\n",
    "                loss_func=mnist_loss, metrics=batch_accuracy)"
   ]
  },
  {
   "cell_type": "code",
   "execution_count": 136,
   "metadata": {},
   "outputs": [
    {
     "data": {
      "text/html": [
       "\n",
       "<style>\n",
       "    /* Turns off some styling */\n",
       "    progress {\n",
       "        /* gets rid of default border in Firefox and Opera. */\n",
       "        border: none;\n",
       "        /* Needs to be in here for Safari polyfill so background images work as expected. */\n",
       "        background-size: auto;\n",
       "    }\n",
       "    progress:not([value]), progress:not([value])::-webkit-progress-bar {\n",
       "        background: repeating-linear-gradient(45deg, #7e7e7e, #7e7e7e 10px, #5c5c5c 10px, #5c5c5c 20px);\n",
       "    }\n",
       "    .progress-bar-interrupted, .progress-bar-interrupted::-webkit-progress-bar {\n",
       "        background: #F44336;\n",
       "    }\n",
       "</style>\n"
      ],
      "text/plain": [
       "<IPython.core.display.HTML object>"
      ]
     },
     "metadata": {},
     "output_type": "display_data"
    },
    {
     "data": {
      "text/html": [
       "<table border=\"1\" class=\"dataframe\">\n",
       "  <thead>\n",
       "    <tr style=\"text-align: left;\">\n",
       "      <th>epoch</th>\n",
       "      <th>train_loss</th>\n",
       "      <th>valid_loss</th>\n",
       "      <th>batch_accuracy</th>\n",
       "      <th>time</th>\n",
       "    </tr>\n",
       "  </thead>\n",
       "  <tbody>\n",
       "    <tr>\n",
       "      <td>0</td>\n",
       "      <td>0.357809</td>\n",
       "      <td>0.395824</td>\n",
       "      <td>0.511286</td>\n",
       "      <td>00:00</td>\n",
       "    </tr>\n",
       "    <tr>\n",
       "      <td>1</td>\n",
       "      <td>0.163861</td>\n",
       "      <td>0.247912</td>\n",
       "      <td>0.781158</td>\n",
       "      <td>00:00</td>\n",
       "    </tr>\n",
       "    <tr>\n",
       "      <td>2</td>\n",
       "      <td>0.088579</td>\n",
       "      <td>0.120991</td>\n",
       "      <td>0.911187</td>\n",
       "      <td>00:00</td>\n",
       "    </tr>\n",
       "    <tr>\n",
       "      <td>3</td>\n",
       "      <td>0.056597</td>\n",
       "      <td>0.079901</td>\n",
       "      <td>0.939647</td>\n",
       "      <td>00:00</td>\n",
       "    </tr>\n",
       "    <tr>\n",
       "      <td>4</td>\n",
       "      <td>0.041966</td>\n",
       "      <td>0.061844</td>\n",
       "      <td>0.956330</td>\n",
       "      <td>00:00</td>\n",
       "    </tr>\n",
       "    <tr>\n",
       "      <td>5</td>\n",
       "      <td>0.034643</td>\n",
       "      <td>0.051889</td>\n",
       "      <td>0.962218</td>\n",
       "      <td>00:00</td>\n",
       "    </tr>\n",
       "    <tr>\n",
       "      <td>6</td>\n",
       "      <td>0.030529</td>\n",
       "      <td>0.045669</td>\n",
       "      <td>0.965162</td>\n",
       "      <td>00:00</td>\n",
       "    </tr>\n",
       "    <tr>\n",
       "      <td>7</td>\n",
       "      <td>0.027908</td>\n",
       "      <td>0.041440</td>\n",
       "      <td>0.967125</td>\n",
       "      <td>00:00</td>\n",
       "    </tr>\n",
       "    <tr>\n",
       "      <td>8</td>\n",
       "      <td>0.026046</td>\n",
       "      <td>0.038380</td>\n",
       "      <td>0.968106</td>\n",
       "      <td>00:00</td>\n",
       "    </tr>\n",
       "    <tr>\n",
       "      <td>9</td>\n",
       "      <td>0.024618</td>\n",
       "      <td>0.036053</td>\n",
       "      <td>0.969578</td>\n",
       "      <td>00:00</td>\n",
       "    </tr>\n",
       "    <tr>\n",
       "      <td>10</td>\n",
       "      <td>0.023467</td>\n",
       "      <td>0.034216</td>\n",
       "      <td>0.971541</td>\n",
       "      <td>00:00</td>\n",
       "    </tr>\n",
       "    <tr>\n",
       "      <td>11</td>\n",
       "      <td>0.022509</td>\n",
       "      <td>0.032719</td>\n",
       "      <td>0.972522</td>\n",
       "      <td>00:00</td>\n",
       "    </tr>\n",
       "    <tr>\n",
       "      <td>12</td>\n",
       "      <td>0.021696</td>\n",
       "      <td>0.031462</td>\n",
       "      <td>0.974485</td>\n",
       "      <td>00:00</td>\n",
       "    </tr>\n",
       "    <tr>\n",
       "      <td>13</td>\n",
       "      <td>0.020994</td>\n",
       "      <td>0.030385</td>\n",
       "      <td>0.974485</td>\n",
       "      <td>00:00</td>\n",
       "    </tr>\n",
       "    <tr>\n",
       "      <td>14</td>\n",
       "      <td>0.020380</td>\n",
       "      <td>0.029448</td>\n",
       "      <td>0.974975</td>\n",
       "      <td>00:00</td>\n",
       "    </tr>\n",
       "    <tr>\n",
       "      <td>15</td>\n",
       "      <td>0.019836</td>\n",
       "      <td>0.028622</td>\n",
       "      <td>0.975466</td>\n",
       "      <td>00:00</td>\n",
       "    </tr>\n",
       "    <tr>\n",
       "      <td>16</td>\n",
       "      <td>0.019352</td>\n",
       "      <td>0.027886</td>\n",
       "      <td>0.975957</td>\n",
       "      <td>00:00</td>\n",
       "    </tr>\n",
       "    <tr>\n",
       "      <td>17</td>\n",
       "      <td>0.018915</td>\n",
       "      <td>0.027224</td>\n",
       "      <td>0.976938</td>\n",
       "      <td>00:00</td>\n",
       "    </tr>\n",
       "    <tr>\n",
       "      <td>18</td>\n",
       "      <td>0.018518</td>\n",
       "      <td>0.026626</td>\n",
       "      <td>0.977429</td>\n",
       "      <td>00:00</td>\n",
       "    </tr>\n",
       "    <tr>\n",
       "      <td>19</td>\n",
       "      <td>0.018156</td>\n",
       "      <td>0.026084</td>\n",
       "      <td>0.977920</td>\n",
       "      <td>00:00</td>\n",
       "    </tr>\n",
       "    <tr>\n",
       "      <td>20</td>\n",
       "      <td>0.017824</td>\n",
       "      <td>0.025588</td>\n",
       "      <td>0.978410</td>\n",
       "      <td>00:00</td>\n",
       "    </tr>\n",
       "    <tr>\n",
       "      <td>21</td>\n",
       "      <td>0.017516</td>\n",
       "      <td>0.025135</td>\n",
       "      <td>0.978901</td>\n",
       "      <td>00:00</td>\n",
       "    </tr>\n",
       "    <tr>\n",
       "      <td>22</td>\n",
       "      <td>0.017230</td>\n",
       "      <td>0.024719</td>\n",
       "      <td>0.979392</td>\n",
       "      <td>00:00</td>\n",
       "    </tr>\n",
       "    <tr>\n",
       "      <td>23</td>\n",
       "      <td>0.016964</td>\n",
       "      <td>0.024335</td>\n",
       "      <td>0.980373</td>\n",
       "      <td>00:00</td>\n",
       "    </tr>\n",
       "    <tr>\n",
       "      <td>24</td>\n",
       "      <td>0.016715</td>\n",
       "      <td>0.023981</td>\n",
       "      <td>0.980373</td>\n",
       "      <td>00:00</td>\n",
       "    </tr>\n",
       "    <tr>\n",
       "      <td>25</td>\n",
       "      <td>0.016481</td>\n",
       "      <td>0.023653</td>\n",
       "      <td>0.980864</td>\n",
       "      <td>00:00</td>\n",
       "    </tr>\n",
       "    <tr>\n",
       "      <td>26</td>\n",
       "      <td>0.016260</td>\n",
       "      <td>0.023348</td>\n",
       "      <td>0.980864</td>\n",
       "      <td>00:00</td>\n",
       "    </tr>\n",
       "    <tr>\n",
       "      <td>27</td>\n",
       "      <td>0.016051</td>\n",
       "      <td>0.023066</td>\n",
       "      <td>0.980864</td>\n",
       "      <td>00:00</td>\n",
       "    </tr>\n",
       "    <tr>\n",
       "      <td>28</td>\n",
       "      <td>0.015853</td>\n",
       "      <td>0.022802</td>\n",
       "      <td>0.981845</td>\n",
       "      <td>00:00</td>\n",
       "    </tr>\n",
       "    <tr>\n",
       "      <td>29</td>\n",
       "      <td>0.015666</td>\n",
       "      <td>0.022556</td>\n",
       "      <td>0.981845</td>\n",
       "      <td>00:00</td>\n",
       "    </tr>\n",
       "    <tr>\n",
       "      <td>30</td>\n",
       "      <td>0.015487</td>\n",
       "      <td>0.022326</td>\n",
       "      <td>0.982826</td>\n",
       "      <td>00:00</td>\n",
       "    </tr>\n",
       "    <tr>\n",
       "      <td>31</td>\n",
       "      <td>0.015317</td>\n",
       "      <td>0.022110</td>\n",
       "      <td>0.982826</td>\n",
       "      <td>00:00</td>\n",
       "    </tr>\n",
       "    <tr>\n",
       "      <td>32</td>\n",
       "      <td>0.015154</td>\n",
       "      <td>0.021908</td>\n",
       "      <td>0.982826</td>\n",
       "      <td>00:00</td>\n",
       "    </tr>\n",
       "    <tr>\n",
       "      <td>33</td>\n",
       "      <td>0.014999</td>\n",
       "      <td>0.021719</td>\n",
       "      <td>0.982826</td>\n",
       "      <td>00:00</td>\n",
       "    </tr>\n",
       "    <tr>\n",
       "      <td>34</td>\n",
       "      <td>0.014850</td>\n",
       "      <td>0.021540</td>\n",
       "      <td>0.982826</td>\n",
       "      <td>00:00</td>\n",
       "    </tr>\n",
       "    <tr>\n",
       "      <td>35</td>\n",
       "      <td>0.014707</td>\n",
       "      <td>0.021372</td>\n",
       "      <td>0.982826</td>\n",
       "      <td>00:00</td>\n",
       "    </tr>\n",
       "    <tr>\n",
       "      <td>36</td>\n",
       "      <td>0.014570</td>\n",
       "      <td>0.021213</td>\n",
       "      <td>0.982826</td>\n",
       "      <td>00:00</td>\n",
       "    </tr>\n",
       "    <tr>\n",
       "      <td>37</td>\n",
       "      <td>0.014438</td>\n",
       "      <td>0.021062</td>\n",
       "      <td>0.982826</td>\n",
       "      <td>00:00</td>\n",
       "    </tr>\n",
       "    <tr>\n",
       "      <td>38</td>\n",
       "      <td>0.014311</td>\n",
       "      <td>0.020919</td>\n",
       "      <td>0.982826</td>\n",
       "      <td>00:00</td>\n",
       "    </tr>\n",
       "    <tr>\n",
       "      <td>39</td>\n",
       "      <td>0.014188</td>\n",
       "      <td>0.020783</td>\n",
       "      <td>0.982336</td>\n",
       "      <td>00:00</td>\n",
       "    </tr>\n",
       "  </tbody>\n",
       "</table>"
      ],
      "text/plain": [
       "<IPython.core.display.HTML object>"
      ]
     },
     "metadata": {},
     "output_type": "display_data"
    }
   ],
   "source": [
    "#hide_output\n",
    "learn.fit(40, 0.1)"
   ]
  },
  {
   "cell_type": "code",
   "execution_count": 137,
   "metadata": {},
   "outputs": [
    {
     "data": {
      "image/png": "[encoded data removed]",
      "text/plain": [
       "<Figure size 640x480 with 1 Axes>"
      ]
     },
     "metadata": {},
     "output_type": "display_data"
    }
   ],
   "source": [
    "plt.plot(L(learn.recorder.values).itemgot(2));"
   ]
  },
  {
   "cell_type": "code",
   "execution_count": 138,
   "metadata": {},
   "outputs": [
    {
     "data": {
      "text/plain": [
       "0.98233562707901"
      ]
     },
     "execution_count": 138,
     "metadata": {},
     "output_type": "execute_result"
    }
   ],
   "source": [
    "learn.recorder.values[-1][2]"
   ]
  },
  {
   "cell_type": "code",
   "execution_count": 139,
   "metadata": {},
   "outputs": [
    {
     "data": {
      "text/html": [
       "\n",
       "<style>\n",
       "    /* Turns off some styling */\n",
       "    progress {\n",
       "        /* gets rid of default border in Firefox and Opera. */\n",
       "        border: none;\n",
       "        /* Needs to be in here for Safari polyfill so background images work as expected. */\n",
       "        background-size: auto;\n",
       "    }\n",
       "    progress:not([value]), progress:not([value])::-webkit-progress-bar {\n",
       "        background: repeating-linear-gradient(45deg, #7e7e7e, #7e7e7e 10px, #5c5c5c 10px, #5c5c5c 20px);\n",
       "    }\n",
       "    .progress-bar-interrupted, .progress-bar-interrupted::-webkit-progress-bar {\n",
       "        background: #F44336;\n",
       "    }\n",
       "</style>\n"
      ],
      "text/plain": [
       "<IPython.core.display.HTML object>"
      ]
     },
     "metadata": {},
     "output_type": "display_data"
    },
    {
     "data": {
      "text/html": [
       "<table border=\"1\" class=\"dataframe\">\n",
       "  <thead>\n",
       "    <tr style=\"text-align: left;\">\n",
       "      <th>epoch</th>\n",
       "      <th>train_loss</th>\n",
       "      <th>valid_loss</th>\n",
       "      <th>accuracy</th>\n",
       "      <th>time</th>\n",
       "    </tr>\n",
       "  </thead>\n",
       "  <tbody>\n",
       "    <tr>\n",
       "      <td>0</td>\n",
       "      <td>0.100361</td>\n",
       "      <td>0.022341</td>\n",
       "      <td>0.995584</td>\n",
       "      <td>00:34</td>\n",
       "    </tr>\n",
       "  </tbody>\n",
       "</table>"
      ],
      "text/plain": [
       "<IPython.core.display.HTML object>"
      ]
     },
     "metadata": {},
     "output_type": "display_data"
    }
   ],
   "source": [
    "dls = ImageDataLoaders.from_folder(path)\n",
    "learn = vision_learner(dls, resnet18, pretrained=False,\n",
    "                    loss_func=F.cross_entropy, metrics=accuracy)\n",
    "learn.fit_one_cycle(1, 0.1)"
   ]
  },
  {
   "cell_type": "markdown",
   "metadata": {},
   "source": []
  },
  {
   "cell_type": "markdown",
   "metadata": {},
   "source": []
  }
 ],
 "metadata": {
  "kernelspec": {
   "display_name": "Python 3 (ipykernel)",
   "language": "python",
   "name": "python3"
  },
  "language_info": {
   "codemirror_mode": {
    "name": "ipython",
    "version": 3
   },
   "file_extension": ".py",
   "mimetype": "text/x-python",
   "name": "python",
   "nbconvert_exporter": "python",
   "pygments_lexer": "ipython3",
   "version": "3.10.9"
  },
  "orig_nbformat": 4
 },
 "nbformat": 4,
 "nbformat_minor": 2
}
