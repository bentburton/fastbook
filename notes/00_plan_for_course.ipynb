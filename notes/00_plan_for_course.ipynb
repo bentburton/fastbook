{
 "cells": [
  {
   "attachments": {},
   "cell_type": "markdown",
   "metadata": {},
   "source": [
    "# My plan for doing this course"
   ]
  },
  {
   "attachments": {},
   "cell_type": "markdown",
   "metadata": {},
   "source": [
    "### Goal"
   ]
  },
  {
   "attachments": {},
   "cell_type": "markdown",
   "metadata": {},
   "source": [
    "The goal is not to just finish watching all of the videos but to be an active participant. One lesson should take about 10 hours. You should be able to reproduce what you learned after finishing the lesson"
   ]
  },
  {
   "attachments": {},
   "cell_type": "markdown",
   "metadata": {},
   "source": [
    "### Plan for Each Lesson\n",
    "1. Watch Lecture & Read Book\n",
    "2. Go through lesson again\n",
    "3. Try and create your own version with the same data without looking at their code\n",
    "4. Try the technique on a new dataset"
   ]
  }
 ],
 "metadata": {
  "language_info": {
   "name": "python"
  },
  "orig_nbformat": 4
 },
 "nbformat": 4,
 "nbformat_minor": 2
}
